{
 "cells": [
  {
   "cell_type": "markdown",
   "metadata": {},
   "source": [
    "Nama : Az - Zahra Chikal E\n",
    "\n",
    "NIM  : 1103213039\n",
    "\n",
    "Kelas: TK-45-05"
   ]
  },
  {
   "cell_type": "markdown",
   "metadata": {},
   "source": [
    "## DECISION TREE"
   ]
  },
  {
   "cell_type": "code",
   "execution_count": 194,
   "metadata": {},
   "outputs": [],
   "source": [
    "# Import libraries yang diperlukan\n",
    "import pandas as pd\n",
    "import numpy as np\n",
    "import matplotlib.pyplot as plt\n",
    "from sklearn.model_selection import train_test_split\n",
    "from sklearn.tree import DecisionTreeRegressor\n",
    "from sklearn.linear_model import LinearRegression\n",
    "from sklearn.preprocessing import PolynomialFeatures, LabelEncoder\n",
    "from sklearn.metrics import mean_squared_error, r2_score\n",
    "from math import sqrt"
   ]
  },
  {
   "cell_type": "code",
   "execution_count": 195,
   "metadata": {},
   "outputs": [
    {
     "data": {
      "text/html": [
       "<div>\n",
       "<style scoped>\n",
       "    .dataframe tbody tr th:only-of-type {\n",
       "        vertical-align: middle;\n",
       "    }\n",
       "\n",
       "    .dataframe tbody tr th {\n",
       "        vertical-align: top;\n",
       "    }\n",
       "\n",
       "    .dataframe thead th {\n",
       "        text-align: right;\n",
       "    }\n",
       "</style>\n",
       "<table border=\"1\" class=\"dataframe\">\n",
       "  <thead>\n",
       "    <tr style=\"text-align: right;\">\n",
       "      <th></th>\n",
       "      <th>x1</th>\n",
       "      <th>x2</th>\n",
       "      <th>x3</th>\n",
       "      <th>x4</th>\n",
       "      <th>x5</th>\n",
       "      <th>x6</th>\n",
       "      <th>x7</th>\n",
       "      <th>x8</th>\n",
       "      <th>x9</th>\n",
       "      <th>x10</th>\n",
       "      <th>x11</th>\n",
       "      <th>x12</th>\n",
       "      <th>x13</th>\n",
       "      <th>x14</th>\n",
       "      <th>x15</th>\n",
       "      <th>target_feature</th>\n",
       "    </tr>\n",
       "  </thead>\n",
       "  <tbody>\n",
       "    <tr>\n",
       "      <th>0</th>\n",
       "      <td>540.0</td>\n",
       "      <td>0.0</td>\n",
       "      <td>0.0</td>\n",
       "      <td>162.0</td>\n",
       "      <td>2.5</td>\n",
       "      <td>1040.0</td>\n",
       "      <td>676.0</td>\n",
       "      <td>28</td>\n",
       "      <td>0.300000</td>\n",
       "      <td>540.0</td>\n",
       "      <td>1.538462</td>\n",
       "      <td>1</td>\n",
       "      <td>0.350044</td>\n",
       "      <td>YEs</td>\n",
       "      <td>NO</td>\n",
       "      <td>79.99</td>\n",
       "    </tr>\n",
       "    <tr>\n",
       "      <th>1</th>\n",
       "      <td>540.0</td>\n",
       "      <td>0.0</td>\n",
       "      <td>0.0</td>\n",
       "      <td>162.0</td>\n",
       "      <td>2.5</td>\n",
       "      <td>1055.0</td>\n",
       "      <td>676.0</td>\n",
       "      <td>28</td>\n",
       "      <td>0.300000</td>\n",
       "      <td>540.0</td>\n",
       "      <td>1.560651</td>\n",
       "      <td>1</td>\n",
       "      <td>0.452416</td>\n",
       "      <td>yES</td>\n",
       "      <td>nOO</td>\n",
       "      <td>61.89</td>\n",
       "    </tr>\n",
       "    <tr>\n",
       "      <th>2</th>\n",
       "      <td>332.5</td>\n",
       "      <td>142.5</td>\n",
       "      <td>0.0</td>\n",
       "      <td>228.0</td>\n",
       "      <td>0.0</td>\n",
       "      <td>932.0</td>\n",
       "      <td>594.0</td>\n",
       "      <td>270</td>\n",
       "      <td>0.685714</td>\n",
       "      <td>475.0</td>\n",
       "      <td>1.569024</td>\n",
       "      <td>0</td>\n",
       "      <td>6.704743</td>\n",
       "      <td>yEs</td>\n",
       "      <td>NO</td>\n",
       "      <td>40.27</td>\n",
       "    </tr>\n",
       "    <tr>\n",
       "      <th>3</th>\n",
       "      <td>332.5</td>\n",
       "      <td>142.5</td>\n",
       "      <td>0.0</td>\n",
       "      <td>228.0</td>\n",
       "      <td>0.0</td>\n",
       "      <td>932.0</td>\n",
       "      <td>594.0</td>\n",
       "      <td>365</td>\n",
       "      <td>0.685714</td>\n",
       "      <td>475.0</td>\n",
       "      <td>1.569024</td>\n",
       "      <td>0</td>\n",
       "      <td>8.891596</td>\n",
       "      <td>yes</td>\n",
       "      <td>NOO</td>\n",
       "      <td>41.05</td>\n",
       "    </tr>\n",
       "    <tr>\n",
       "      <th>4</th>\n",
       "      <td>198.6</td>\n",
       "      <td>132.4</td>\n",
       "      <td>0.0</td>\n",
       "      <td>192.0</td>\n",
       "      <td>0.0</td>\n",
       "      <td>978.4</td>\n",
       "      <td>825.5</td>\n",
       "      <td>360</td>\n",
       "      <td>0.966767</td>\n",
       "      <td>331.0</td>\n",
       "      <td>1.185221</td>\n",
       "      <td>0</td>\n",
       "      <td>8.126411</td>\n",
       "      <td>YeS</td>\n",
       "      <td>no</td>\n",
       "      <td>44.30</td>\n",
       "    </tr>\n",
       "    <tr>\n",
       "      <th>...</th>\n",
       "      <td>...</td>\n",
       "      <td>...</td>\n",
       "      <td>...</td>\n",
       "      <td>...</td>\n",
       "      <td>...</td>\n",
       "      <td>...</td>\n",
       "      <td>...</td>\n",
       "      <td>...</td>\n",
       "      <td>...</td>\n",
       "      <td>...</td>\n",
       "      <td>...</td>\n",
       "      <td>...</td>\n",
       "      <td>...</td>\n",
       "      <td>...</td>\n",
       "      <td>...</td>\n",
       "      <td>...</td>\n",
       "    </tr>\n",
       "    <tr>\n",
       "      <th>1025</th>\n",
       "      <td>276.4</td>\n",
       "      <td>116.0</td>\n",
       "      <td>90.3</td>\n",
       "      <td>179.6</td>\n",
       "      <td>8.9</td>\n",
       "      <td>870.1</td>\n",
       "      <td>768.3</td>\n",
       "      <td>28</td>\n",
       "      <td>0.649783</td>\n",
       "      <td>482.7</td>\n",
       "      <td>1.132500</td>\n",
       "      <td>1</td>\n",
       "      <td>0.632340</td>\n",
       "      <td>Yes</td>\n",
       "      <td>nO</td>\n",
       "      <td>44.28</td>\n",
       "    </tr>\n",
       "    <tr>\n",
       "      <th>1026</th>\n",
       "      <td>322.2</td>\n",
       "      <td>0.0</td>\n",
       "      <td>115.6</td>\n",
       "      <td>196.0</td>\n",
       "      <td>10.4</td>\n",
       "      <td>817.9</td>\n",
       "      <td>813.4</td>\n",
       "      <td>28</td>\n",
       "      <td>0.608318</td>\n",
       "      <td>437.8</td>\n",
       "      <td>1.005532</td>\n",
       "      <td>1</td>\n",
       "      <td>0.898012</td>\n",
       "      <td>yES</td>\n",
       "      <td>nO</td>\n",
       "      <td>31.18</td>\n",
       "    </tr>\n",
       "    <tr>\n",
       "      <th>1027</th>\n",
       "      <td>148.5</td>\n",
       "      <td>139.4</td>\n",
       "      <td>108.6</td>\n",
       "      <td>192.7</td>\n",
       "      <td>6.1</td>\n",
       "      <td>892.4</td>\n",
       "      <td>780.0</td>\n",
       "      <td>28</td>\n",
       "      <td>1.297643</td>\n",
       "      <td>396.5</td>\n",
       "      <td>1.144103</td>\n",
       "      <td>1</td>\n",
       "      <td>1.181435</td>\n",
       "      <td>yes</td>\n",
       "      <td>Noo</td>\n",
       "      <td>23.70</td>\n",
       "    </tr>\n",
       "    <tr>\n",
       "      <th>1028</th>\n",
       "      <td>159.1</td>\n",
       "      <td>186.7</td>\n",
       "      <td>0.0</td>\n",
       "      <td>175.6</td>\n",
       "      <td>11.3</td>\n",
       "      <td>989.6</td>\n",
       "      <td>788.9</td>\n",
       "      <td>28</td>\n",
       "      <td>1.103708</td>\n",
       "      <td>345.8</td>\n",
       "      <td>1.254405</td>\n",
       "      <td>1</td>\n",
       "      <td>0.854440</td>\n",
       "      <td>Yes</td>\n",
       "      <td>NO</td>\n",
       "      <td>32.77</td>\n",
       "    </tr>\n",
       "    <tr>\n",
       "      <th>1029</th>\n",
       "      <td>260.9</td>\n",
       "      <td>100.5</td>\n",
       "      <td>78.3</td>\n",
       "      <td>200.6</td>\n",
       "      <td>8.6</td>\n",
       "      <td>864.5</td>\n",
       "      <td>761.5</td>\n",
       "      <td>28</td>\n",
       "      <td>0.768877</td>\n",
       "      <td>439.7</td>\n",
       "      <td>1.135259</td>\n",
       "      <td>1</td>\n",
       "      <td>0.864198</td>\n",
       "      <td>Yes</td>\n",
       "      <td>nO</td>\n",
       "      <td>32.40</td>\n",
       "    </tr>\n",
       "  </tbody>\n",
       "</table>\n",
       "<p>1030 rows × 16 columns</p>\n",
       "</div>"
      ],
      "text/plain": [
       "         x1     x2     x3     x4    x5      x6     x7   x8        x9    x10  \\\n",
       "0     540.0    0.0    0.0  162.0   2.5  1040.0  676.0   28  0.300000  540.0   \n",
       "1     540.0    0.0    0.0  162.0   2.5  1055.0  676.0   28  0.300000  540.0   \n",
       "2     332.5  142.5    0.0  228.0   0.0   932.0  594.0  270  0.685714  475.0   \n",
       "3     332.5  142.5    0.0  228.0   0.0   932.0  594.0  365  0.685714  475.0   \n",
       "4     198.6  132.4    0.0  192.0   0.0   978.4  825.5  360  0.966767  331.0   \n",
       "...     ...    ...    ...    ...   ...     ...    ...  ...       ...    ...   \n",
       "1025  276.4  116.0   90.3  179.6   8.9   870.1  768.3   28  0.649783  482.7   \n",
       "1026  322.2    0.0  115.6  196.0  10.4   817.9  813.4   28  0.608318  437.8   \n",
       "1027  148.5  139.4  108.6  192.7   6.1   892.4  780.0   28  1.297643  396.5   \n",
       "1028  159.1  186.7    0.0  175.6  11.3   989.6  788.9   28  1.103708  345.8   \n",
       "1029  260.9  100.5   78.3  200.6   8.6   864.5  761.5   28  0.768877  439.7   \n",
       "\n",
       "           x11  x12       x13  x14  x15  target_feature  \n",
       "0     1.538462    1  0.350044  YEs   NO           79.99  \n",
       "1     1.560651    1  0.452416  yES  nOO           61.89  \n",
       "2     1.569024    0  6.704743  yEs   NO           40.27  \n",
       "3     1.569024    0  8.891596  yes  NOO           41.05  \n",
       "4     1.185221    0  8.126411  YeS   no           44.30  \n",
       "...        ...  ...       ...  ...  ...             ...  \n",
       "1025  1.132500    1  0.632340  Yes   nO           44.28  \n",
       "1026  1.005532    1  0.898012  yES   nO           31.18  \n",
       "1027  1.144103    1  1.181435  yes  Noo           23.70  \n",
       "1028  1.254405    1  0.854440  Yes   NO           32.77  \n",
       "1029  1.135259    1  0.864198  Yes   nO           32.40  \n",
       "\n",
       "[1030 rows x 16 columns]"
      ]
     },
     "execution_count": 195,
     "metadata": {},
     "output_type": "execute_result"
    }
   ],
   "source": [
    "df = pd.read_csv(\"D:\\Semester 7\\ML\\Task 3\\MaterialStrength.csv\")\n",
    "df"
   ]
  },
  {
   "cell_type": "code",
   "execution_count": 196,
   "metadata": {},
   "outputs": [
    {
     "name": "stdout",
     "output_type": "stream",
     "text": [
      "<class 'pandas.core.frame.DataFrame'>\n",
      "RangeIndex: 1030 entries, 0 to 1029\n",
      "Data columns (total 16 columns):\n",
      " #   Column          Non-Null Count  Dtype  \n",
      "---  ------          --------------  -----  \n",
      " 0   x1              1030 non-null   float64\n",
      " 1   x2              1030 non-null   float64\n",
      " 2   x3              1030 non-null   float64\n",
      " 3   x4              1030 non-null   float64\n",
      " 4   x5              1030 non-null   float64\n",
      " 5   x6              1030 non-null   float64\n",
      " 6   x7              1030 non-null   float64\n",
      " 7   x8              1030 non-null   int64  \n",
      " 8   x9              1030 non-null   float64\n",
      " 9   x10             1030 non-null   float64\n",
      " 10  x11             1030 non-null   float64\n",
      " 11  x12             1030 non-null   int64  \n",
      " 12  x13             1030 non-null   float64\n",
      " 13  x14             1030 non-null   object \n",
      " 14  x15             1030 non-null   object \n",
      " 15  target_feature  1030 non-null   float64\n",
      "dtypes: float64(12), int64(2), object(2)\n",
      "memory usage: 128.9+ KB\n"
     ]
    }
   ],
   "source": [
    "df.info()"
   ]
  },
  {
   "cell_type": "code",
   "execution_count": 197,
   "metadata": {},
   "outputs": [
    {
     "name": "stdout",
     "output_type": "stream",
     "text": [
      "   x14  x15\n",
      "0    2    0\n",
      "1    5    6\n",
      "2    6    0\n",
      "3    7    1\n",
      "4    3    7\n"
     ]
    }
   ],
   "source": [
    "# Ubah nilai string menjadi integer pada kolom x14 dan x15 menggunakan LabelEncoder\n",
    "label_encoder = LabelEncoder()\n",
    "df['x14'] = label_encoder.fit_transform(df['x14'])\n",
    "df['x15'] = label_encoder.fit_transform(df['x15'])\n",
    "\n",
    "# Verifikasi apakah kolom sudah berubah menjadi integer\n",
    "print(df[['x14', 'x15']].head())"
   ]
  },
  {
   "cell_type": "code",
   "execution_count": 198,
   "metadata": {},
   "outputs": [],
   "source": [
    "# Pisahkan fitur (x1 - x15) dan target (target_feature)\n",
    "X = df[['x1', 'x2', 'x3', 'x4', 'x5', 'x6', 'x7', 'x8', 'x9', 'x10', 'x11', 'x12', 'x13', 'x14', 'x15']]\n",
    "y = df['target_feature']\n",
    "\n",
    "# Split dataset menjadi data latih dan data uji (80% latih, 20% uji)\n",
    "X_train, X_test, y_train, y_test = train_test_split(X, y, test_size=0.2, random_state=42)\n"
   ]
  },
  {
   "cell_type": "markdown",
   "metadata": {},
   "source": [
    "Model Linear Regression"
   ]
  },
  {
   "cell_type": "code",
   "execution_count": 199,
   "metadata": {},
   "outputs": [
    {
     "name": "stdout",
     "output_type": "stream",
     "text": [
      "=== Linear Regression  ===\n",
      "\n",
      "RMSE: 8.687203153089012, \n",
      "MSE: 75.46749862303967, \n",
      "R2: 0.7071235323232181\n"
     ]
    }
   ],
   "source": [
    "# Inisialisasi model Linear Regression\n",
    "linear_regressor = LinearRegression()\n",
    "\n",
    "# Latih model dengan data latih\n",
    "linear_regressor.fit(X_train, y_train)\n",
    "\n",
    "# Prediksi menggunakan data uji\n",
    "y_pred_lr = linear_regressor.predict(X_test)\n",
    "\n",
    "# Hitung evaluasi metrik untuk Linear Regression\n",
    "rmse_lr = sqrt(mean_squared_error(y_test, y_pred_lr))\n",
    "mse_lr = mean_squared_error(y_test, y_pred_lr)\n",
    "r2_lr = r2_score(y_test, y_pred_lr)\n",
    "\n",
    "print(\"=== Linear Regression  ===\")\n",
    "print(f\"\\nRMSE: {rmse_lr}, \\nMSE: {mse_lr}, \\nR2: {r2_lr}\")\n"
   ]
  },
  {
   "cell_type": "markdown",
   "metadata": {},
   "source": [
    "Polynomial Linear Regression"
   ]
  },
  {
   "cell_type": "code",
   "execution_count": 200,
   "metadata": {},
   "outputs": [
    {
     "name": "stdout",
     "output_type": "stream",
     "text": [
      "=== Polynomial Regression ===\n",
      "\n",
      "RMSE: 5.886232327328455, \n",
      "MSE: 34.64773101128656, \n",
      "R2: 0.8655380759035395\n"
     ]
    }
   ],
   "source": [
    "# Definisikan derajat polinomial yang diinginkan, misal: derajat 2\n",
    "poly_features = PolynomialFeatures(degree=2)\n",
    "\n",
    "# Transformasikan fitur menjadi fitur polinomial\n",
    "X_train_poly = poly_features.fit_transform(X_train)\n",
    "X_test_poly = poly_features.transform(X_test)\n",
    "\n",
    "# Inisialisasi model Linear Regression untuk basis fungsi\n",
    "poly_regressor = LinearRegression()\n",
    "\n",
    "# Latih model dengan data latih (fitur polinomial)\n",
    "poly_regressor.fit(X_train_poly, y_train)\n",
    "\n",
    "# Prediksi menggunakan data uji (fitur polinomial)\n",
    "y_pred_poly = poly_regressor.predict(X_test_poly)\n",
    "\n",
    "# Hitung evaluasi metrik untuk Polynomial Regression\n",
    "rmse_poly = sqrt(mean_squared_error(y_test, y_pred_poly))\n",
    "mse_poly = mean_squared_error(y_test, y_pred_poly)\n",
    "r2_poly = r2_score(y_test, y_pred_poly)\n",
    "\n",
    "print(\"=== Polynomial Regression ===\") \n",
    "print(f\"\\nRMSE: {rmse_poly}, \\nMSE: {mse_poly}, \\nR2: {r2_poly}\")\n"
   ]
  },
  {
   "cell_type": "code",
   "execution_count": 201,
   "metadata": {},
   "outputs": [
    {
     "name": "stdout",
     "output_type": "stream",
     "text": [
      "\n",
      "=== Perbandingan Hasil ===\n",
      "Linear Regression: RMSE = 8.687203153089012, MSE = 75.46749862303967, R2 = 0.7071235323232181\n",
      "Polynomial Regression: RMSE = 5.886232327328455, MSE = 34.64773101128656, R2 = 0.8655380759035395\n"
     ]
    }
   ],
   "source": [
    "print(\"\\n=== Perbandingan Hasil ===\")\n",
    "print(f\"Linear Regression: RMSE = {rmse_lr}, MSE = {mse_lr}, R2 = {r2_lr}\")\n",
    "print(f\"Polynomial Regression: RMSE = {rmse_poly}, MSE = {mse_poly}, R2 = {r2_poly}\")\n"
   ]
  },
  {
   "cell_type": "code",
   "execution_count": 202,
   "metadata": {},
   "outputs": [
    {
     "data": {
      "image/png": "[encoded data removed]",
      "text/plain": [
       "<Figure size 800x600 with 1 Axes>"
      ]
     },
     "metadata": {},
     "output_type": "display_data"
    }
   ],
   "source": [
    "\n",
    "# Buat data dummy (ganti dengan data aslimu)\n",
    "x = np.linspace(0, 10, 100)  # fitur\n",
    "y = 0.5 * (x**2) - 4 * x + 5  # target non-linear\n",
    "\n",
    "# Ubah x menjadi bentuk matrix (fitur 2D)\n",
    "x = x.reshape(-1, 1)\n",
    "\n",
    "# ======= 1. Linear Regression =======\n",
    "linear_regressor = LinearRegression()\n",
    "linear_regressor.fit(x, y)\n",
    "y_pred_lr = linear_regressor.predict(x)\n",
    "\n",
    "# ======= 2. Polynomial Regression (degree=2) =======\n",
    "poly_features = PolynomialFeatures(degree=2)\n",
    "x_poly = poly_features.fit_transform(x)\n",
    "\n",
    "poly_regressor = LinearRegression()\n",
    "poly_regressor.fit(x_poly, y)\n",
    "y_pred_poly = poly_regressor.predict(x_poly)\n",
    "\n",
    "# ======= Plot Perbandingan =======\n",
    "plt.figure(figsize=(8, 6))\n",
    "plt.plot(x, y_pred_lr, color='red', label='Prediksi Regresi Linear Biasa')\n",
    "plt.plot(x, y_pred_poly, color='green', label='Prediksi Regresi Polinomial')\n",
    "plt.title('Perbandingan Regresi Linear Biasa dan Regresi Linear dengan Basis Fungsi')\n",
    "plt.xlabel('Fitur (x)')\n",
    "plt.ylabel('Target (combined_data)')\n",
    "plt.legend()\n",
    "plt.grid(True)\n",
    "plt.show()\n"
   ]
  },
  {
   "cell_type": "markdown",
   "metadata": {},
   "source": [
    "# K-NN"
   ]
  },
  {
   "cell_type": "code",
   "execution_count": 203,
   "metadata": {},
   "outputs": [],
   "source": [
    "# Import libraries yang diperlukan\n",
    "import pandas as pd\n",
    "import numpy as np\n",
    "import matplotlib.pyplot as plt\n",
    "from sklearn.model_selection import train_test_split\n",
    "from sklearn.neighbors import KNeighborsRegressor\n",
    "from sklearn.preprocessing import PolynomialFeatures, LabelEncoder\n",
    "from sklearn.metrics import mean_squared_error, r2_score\n",
    "from math import sqrt\n"
   ]
  },
  {
   "cell_type": "code",
   "execution_count": 204,
   "metadata": {},
   "outputs": [
    {
     "name": "stdout",
     "output_type": "stream",
     "text": [
      "      x1     x2   x3     x4   x5      x6     x7   x8        x9    x10  \\\n",
      "0  540.0    0.0  0.0  162.0  2.5  1040.0  676.0   28  0.300000  540.0   \n",
      "1  540.0    0.0  0.0  162.0  2.5  1055.0  676.0   28  0.300000  540.0   \n",
      "2  332.5  142.5  0.0  228.0  0.0   932.0  594.0  270  0.685714  475.0   \n",
      "3  332.5  142.5  0.0  228.0  0.0   932.0  594.0  365  0.685714  475.0   \n",
      "4  198.6  132.4  0.0  192.0  0.0   978.4  825.5  360  0.966767  331.0   \n",
      "\n",
      "        x11  x12       x13  x14  x15  target_feature  \n",
      "0  1.538462    1  0.350044  YEs   NO           79.99  \n",
      "1  1.560651    1  0.452416  yES  nOO           61.89  \n",
      "2  1.569024    0  6.704743  yEs   NO           40.27  \n",
      "3  1.569024    0  8.891596  yes  NOO           41.05  \n",
      "4  1.185221    0  8.126411  YeS   no           44.30  \n"
     ]
    }
   ],
   "source": [
    "# Load dataset 'MaterialStrength.csv'\n",
    "df = pd.read_csv(\"D:\\\\Semester 7\\\\ML\\\\Task 3\\\\MaterialStrength.csv\")\n",
    "print(df.head())"
   ]
  },
  {
   "cell_type": "code",
   "execution_count": 205,
   "metadata": {},
   "outputs": [
    {
     "name": "stdout",
     "output_type": "stream",
     "text": [
      "   x14  x15\n",
      "0    2    0\n",
      "1    5    6\n",
      "2    6    0\n",
      "3    7    1\n",
      "4    3    7\n"
     ]
    }
   ],
   "source": [
    "# Ubah nilai string menjadi integer pada kolom x14 dan x15 menggunakan LabelEncoder\n",
    "label_encoder = LabelEncoder()\n",
    "df['x14'] = label_encoder.fit_transform(df['x14'])\n",
    "df['x15'] = label_encoder.fit_transform(df['x15'])\n",
    "\n",
    "# Verifikasi apakah kolom sudah berubah menjadi integer\n",
    "print(df[['x14', 'x15']].head())\n"
   ]
  },
  {
   "cell_type": "code",
   "execution_count": 206,
   "metadata": {},
   "outputs": [],
   "source": [
    "# Pisahkan fitur (x1 - x15) dan target (target_feature)\n",
    "X = df[['x1', 'x2', 'x3', 'x4', 'x5', 'x6', 'x7', 'x8', 'x9', 'x10', 'x11', 'x12', 'x13', 'x14', 'x15']]\n",
    "y = df['target_feature']\n",
    "\n",
    "# Split dataset menjadi data latih dan data uji (80% latih, 20% uji)\n",
    "X_train, X_test, y_train, y_test = train_test_split(X, y, test_size=0.2, random_state=42)\n"
   ]
  },
  {
   "cell_type": "code",
   "execution_count": 207,
   "metadata": {},
   "outputs": [
    {
     "name": "stdout",
     "output_type": "stream",
     "text": [
      "=== Linear Regression ===\n",
      "RMSE: 8.687203153089012, \n",
      "MSE: 75.46749862303967, \n",
      "R2: 0.7071235323232181\n"
     ]
    }
   ],
   "source": [
    "# Inisialisasi model Linear Regression\n",
    "linear_regressor = LinearRegression()\n",
    "\n",
    "# Latih model dengan data latih\n",
    "linear_regressor.fit(X_train, y_train)\n",
    "\n",
    "# Prediksi menggunakan data uji\n",
    "y_pred_lr = linear_regressor.predict(X_test)\n",
    "\n",
    "# Hitung evaluasi metrik untuk Linear Regression\n",
    "rmse_lr = sqrt(mean_squared_error(y_test, y_pred_lr))\n",
    "mse_lr = mean_squared_error(y_test, y_pred_lr)\n",
    "r2_lr = r2_score(y_test, y_pred_lr)\n",
    "\n",
    "print(\"=== Linear Regression ===\")\n",
    "print(f\"RMSE: {rmse_lr}, \\nMSE: {mse_lr}, \\nR2: {r2_lr}\")"
   ]
  },
  {
   "cell_type": "code",
   "execution_count": 208,
   "metadata": {},
   "outputs": [
    {
     "name": "stdout",
     "output_type": "stream",
     "text": [
      "=== Polynomial Regression ===\n",
      "RMSE: 5.886232327328455, \n",
      "MSE: 34.64773101128656, \n",
      "R2: 0.8655380759035395\n"
     ]
    }
   ],
   "source": [
    "# Definisikan derajat polinomial yang diinginkan\n",
    "poly_features = PolynomialFeatures(degree=2)\n",
    "\n",
    "# Transformasikan fitur menjadi fitur polinomial\n",
    "X_train_poly = poly_features.fit_transform(X_train)\n",
    "X_test_poly = poly_features.transform(X_test)\n",
    "\n",
    "# Inisialisasi model Linear Regression untuk basis fungsi\n",
    "poly_regressor = LinearRegression()\n",
    "\n",
    "# Latih model dengan data latih (fitur polinomial)\n",
    "poly_regressor.fit(X_train_poly, y_train)\n",
    "\n",
    "# Prediksi menggunakan data uji (fitur polinomial)\n",
    "y_pred_poly = poly_regressor.predict(X_test_poly)\n",
    "\n",
    "# Hitung evaluasi metrik untuk Polynomial Regression\n",
    "rmse_poly = sqrt(mean_squared_error(y_test, y_pred_poly))\n",
    "mse_poly = mean_squared_error(y_test, y_pred_poly)\n",
    "r2_poly = r2_score(y_test, y_pred_poly)\n",
    "\n",
    "print(\"=== Polynomial Regression ===\")\n",
    "print(f\"RMSE: {rmse_poly}, \\nMSE: {mse_poly}, \\nR2: {r2_poly}\")\n"
   ]
  },
  {
   "cell_type": "code",
   "execution_count": 209,
   "metadata": {},
   "outputs": [
    {
     "name": "stdout",
     "output_type": "stream",
     "text": [
      "\n",
      "=== Perbandingan Hasil ===\n",
      "Linear Regression: RMSE = 8.687203153089012, MSE = 75.46749862303967, R2 = 0.7071235323232181\n",
      "Polynomial Regression: RMSE = 5.886232327328455, MSE = 34.64773101128656, R2 = 0.8655380759035395\n"
     ]
    }
   ],
   "source": [
    "# ======= Perbandingan Hasil =======\n",
    "print(\"\\n=== Perbandingan Hasil ===\")\n",
    "print(f\"Linear Regression: RMSE = {rmse_lr}, MSE = {mse_lr}, R2 = {r2_lr}\")\n",
    "print(f\"Polynomial Regression: RMSE = {rmse_poly}, MSE = {mse_poly}, R2 = {r2_poly}\")\n"
   ]
  },
  {
   "cell_type": "code",
   "execution_count": 210,
   "metadata": {},
   "outputs": [
    {
     "data": {
      "image/png": "[encoded data removed]",
      "text/plain": [
       "<Figure size 1000x600 with 1 Axes>"
      ]
     },
     "metadata": {},
     "output_type": "display_data"
    }
   ],
   "source": [
    "# Di sini kita ambil 'x1' untuk contoh\n",
    "x1 = X_test[['x1']]\n",
    "y_test_array = y_test.to_numpy()\n",
    "\n",
    "# Buat data dummy untuk prediksi dengan lebih halus\n",
    "x1_range = np.linspace(x1.min(), x1.max(), 100).reshape(-1, 1)\n",
    "\n",
    "# Buat dataset dengan kolom nol untuk fitur lainnya\n",
    "x1_range_full = np.hstack([x1_range, np.zeros((x1_range.shape[0], X.shape[1] - 1))])  # nol untuk kolom lain\n",
    "\n",
    "# Buat DataFrame dari x1_range_full dengan nama kolom\n",
    "x1_range_df = pd.DataFrame(x1_range_full, columns=X.columns)\n",
    "\n",
    "# Prediksi menggunakan model linear\n",
    "y_pred_lr_range = linear_regressor.predict(x1_range_df)\n",
    "\n",
    "# Untuk prediksi model polinomial, kita perlu transformasi\n",
    "x1_range_poly = poly_features.transform(x1_range_df)  # Transformasi dengan kolom nol\n",
    "y_pred_poly_range = poly_regressor.predict(x1_range_poly)\n",
    "\n",
    "# Visualisasi\n",
    "plt.figure(figsize=(10, 6))\n",
    "plt.plot(x1_range, y_pred_lr_range, color='red', label='Prediksi Linear Regression')\n",
    "plt.plot(x1_range, y_pred_poly_range, color='green', label='Prediksi Polynomial Regression')\n",
    "plt.title('Perbandingan Linear Regression dan Polynomial Regression')\n",
    "plt.xlabel('Fitur (x1)')\n",
    "plt.ylabel('Target (target_feature)')\n",
    "plt.legend()\n",
    "plt.grid(True)\n",
    "plt.show()"
   ]
  }
 ],
 "metadata": {
  "kernelspec": {
   "display_name": "base",
   "language": "python",
   "name": "python3"
  },
  "language_info": {
   "codemirror_mode": {
    "name": "ipython",
    "version": 3
   },
   "file_extension": ".py",
   "mimetype": "text/x-python",
   "name": "python",
   "nbconvert_exporter": "python",
   "pygments_lexer": "ipython3",
   "version": "3.11.7"
  }
 },
 "nbformat": 4,
 "nbformat_minor": 2
}
