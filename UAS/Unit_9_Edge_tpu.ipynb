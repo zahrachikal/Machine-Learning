{
  "nbformat": 4,
  "nbformat_minor": 0,
  "metadata": {
    "colab": {
      "provenance": []
    },
    "kernelspec": {
      "name": "python3",
      "display_name": "Python 3"
    },
    "language_info": {
      "name": "python"
    }
  },
  "cells": [
    {
      "cell_type": "markdown",
      "source": [
        "# Retrain a classification model for Edge TPU using post-training quantization (with TF2)"
      ],
      "metadata": {
        "id": "8FRz3p3vqYoP"
      }
    },
    {
      "cell_type": "markdown",
      "source": [
        "Dalam panduan ini, kita akan menggunakan TensorFlow 2 untuk membuat model klasifikasi gambar, melatihnya menggunakan kumpulan data kucing & anjing, dan mengonversinya menjadi TensorFlow Lite melalui kuantisasi pasca-pelatihan. Model ini dibuat berdasarkan MobileNet V2 yang telah dilatih sebelumnya, di mana kami pada awalnya hanya melatih ulang lapisan klasifikasi sambil menggunakan kembali lapisan ekstraktor fitur yang telah dilatih sebelumnya. Selanjutnya, kami menyempurnakan model dengan memperbarui bobot pada lapisan ekstraktor fitur tertentu, sebuah pendekatan yang lebih cepat dibandingkan dengan melatih seluruh model dari awal. Setelah pelatihan, kami menerapkan kuantisasi pasca pelatihan untuk mengonversi semua parameter ke format int8, mengurangi ukuran model, dan meningkatkan kecepatan inferensi. Format int8 ini sangat penting untuk kompatibilitas dengan Edge TPU yang ditemukan di perangkat Coral.\n",
        "\n",
        "Lihat [dokumentasi coral.ai](https://coral.ai/docs/edgetpu/models-intro/) untuk informasi tambahan tentang cara membuat model yang kompatibel dengan Edge TPU. Penting untuk diperhatikan bahwa tutorial ini memerlukan TensorFlow 2.3 atau lebih baru untuk kuantisasi penuh, dan secara khusus mengharapkan model yang dibuat dengan Keras. Strategi konversi ini tidak kompatibel dengan model yang diimpor dari grafik yang dibekukan. Jika menggunakan TensorFlow 1.x, Anda dapat merujuk ke [versi 1.x tutorial ini](https://colab.research.google.com/github/google-coral/tutorials/blob/master/retrain_classification_ptq_tf1.ipynb) ."
      ],
      "metadata": {
        "id": "OvHhBiwRqffV"
      }
    },
    {
      "cell_type": "markdown",
      "metadata": {
        "id": "GTCYQg_be8C0"
      },
      "source": [
        "## Import the required libraries"
      ]
    },
    {
      "cell_type": "markdown",
      "metadata": {
        "id": "NjbGjxsmrAXe"
      },
      "source": [
        "## Import the required libraries"
      ]
    },
    {
      "cell_type": "markdown",
      "metadata": {
        "id": "MFV5MtObrAXe"
      },
      "source": [
        "Untuk melakukan kuantisasi pada tensor masukan dan keluaran, Anda harus menggunakan API `TFLiteConverter`, yang dapat diakses dalam versi TensorFlow yang sama dengan atau lebih besar dari 2.3."
      ]
    },
    {
      "cell_type": "code",
      "execution_count": 1,
      "metadata": {
        "id": "K1fwhUfUrAXf"
      },
      "outputs": [],
      "source": [
        "import tensorflow as tf\n",
        "import os\n",
        "import numpy as np\n",
        "import matplotlib.pyplot as plt"
      ]
    },
    {
      "cell_type": "markdown",
      "metadata": {
        "id": "uOYs29-7rAXf"
      },
      "source": [
        "## Prepare the training data"
      ]
    },
    {
      "cell_type": "markdown",
      "metadata": {
        "id": "aN8RDDryrAXf"
      },
      "source": [
        "Awalnya, kami akan mengunduh dan menyusun kumpulan data kucing & anjing yang dimaksudkan untuk melatih ulang model. Penting untuk memperhatikan bagian ini untuk replikasi di masa mendatang dengan kumpulan data gambar khusus Anda. Secara khusus, perhatikan bahwa direktori \"PATH\" disusun dengan direktori yang memuat nama yang sesuai untuk setiap kelas. Kode yang diberikan mengacak dan mempartisi foto ke dalam set pelatihan dan validasi, membuat file label yang berasal dari nama folder foto."
      ]
    },
    {
      "cell_type": "code",
      "execution_count": 2,
      "metadata": {
        "colab": {
          "base_uri": "https://localhost:8080/"
        },
        "id": "pGlRoT_GrAXf",
        "outputId": "67f63d9b-a62a-40b6-d9dc-846daf9fce56"
      },
      "outputs": [
        {
          "output_type": "stream",
          "name": "stdout",
          "text": [
            "Downloading data from https://storage.googleapis.com/mledu-datasets/cats_and_dogs_filtered.zip\n",
            "\u001b[1m68606236/68606236\u001b[0m \u001b[32m━━━━━━━━━━━━━━━━━━━━\u001b[0m\u001b[37m\u001b[0m \u001b[1m2s\u001b[0m 0us/step\n"
          ]
        }
      ],
      "source": [
        "_URL = 'https://storage.googleapis.com/mledu-datasets/cats_and_dogs_filtered.zip'\n",
        "path_to_zip = tf.keras.utils.get_file('cats_and_dogs.zip', origin=_URL, extract=True)\n",
        "PATH = os.path.join(os.path.dirname(path_to_zip), 'cats_and_dogs_filtered')\n",
        "\n",
        "train_dir = os.path.join(PATH, 'train')\n",
        "validation_dir = os.path.join(PATH, 'validation')"
      ]
    },
    {
      "cell_type": "code",
      "execution_count": 3,
      "metadata": {
        "colab": {
          "base_uri": "https://localhost:8080/",
          "height": 35
        },
        "id": "4-dMWdUErAXf",
        "outputId": "616b3989-92ff-4154-b7ac-0cce6412d382"
      },
      "outputs": [
        {
          "output_type": "execute_result",
          "data": {
            "text/plain": [
              "'/root/.keras/datasets/cats_and_dogs_filtered'"
            ],
            "application/vnd.google.colaboratory.intrinsic+json": {
              "type": "string"
            }
          },
          "metadata": {},
          "execution_count": 3
        }
      ],
      "source": [
        "PATH"
      ]
    },
    {
      "cell_type": "markdown",
      "metadata": {
        "id": "wnpAEWxVrAXf"
      },
      "source": [
        "Selanjutnya, kita menggunakan [`ImageDataGenerator`](https://www.tensorflow.org/api_docs/python/tf/keras/preprocessing/image/ImageDataGenerator) untuk mengubah skala data gambar menjadi nilai float (bagi dengan 255 sehingga nilai tensornya berada di antara 0 dan 1), dan panggil `flow_from_directory()` untuk membuat dua generator: satu untuk set data pelatihan dan satu lagi untuk set data validasi."
      ]
    },
    {
      "cell_type": "code",
      "execution_count": 4,
      "metadata": {
        "colab": {
          "base_uri": "https://localhost:8080/"
        },
        "id": "vEIDxr7ErAXf",
        "outputId": "455f213b-6fc5-4ad6-90f2-e913bfe6903c"
      },
      "outputs": [
        {
          "output_type": "stream",
          "name": "stdout",
          "text": [
            "Found 2000 images belonging to 2 classes.\n",
            "Found 1000 images belonging to 2 classes.\n"
          ]
        }
      ],
      "source": [
        "IMAGE_SIZE = 224\n",
        "BATCH_SIZE = 64\n",
        "\n",
        "train_datagen = tf.keras.preprocessing.image.ImageDataGenerator(rescale=1./255)\n",
        "val_datagen = tf.keras.preprocessing.image.ImageDataGenerator(rescale=1./255)\n",
        "\n",
        "train_generator = train_datagen.flow_from_directory(\n",
        "    train_dir,\n",
        "    target_size=(IMAGE_SIZE, IMAGE_SIZE),\n",
        "    batch_size=BATCH_SIZE,\n",
        "    class_mode='categorical'  # Change if you have a different problem (e.g., binary)\n",
        ")\n",
        "\n",
        "val_generator = val_datagen.flow_from_directory(\n",
        "    validation_dir,\n",
        "    target_size=(IMAGE_SIZE, IMAGE_SIZE),\n",
        "    batch_size=BATCH_SIZE,\n",
        "    class_mode='categorical'  # Change if you have a different problem (e.g., binary)\n",
        ")"
      ]
    },
    {
      "cell_type": "markdown",
      "metadata": {
        "id": "7tLmAQqMrAXf"
      },
      "source": [
        "Pada setiap iterasi, generator ini menyediakan sekumpulan gambar dengan membaca gambar dari disk dan memprosesnya ke ukuran tensor yang sesuai (224 x 224). Outputnya adalah tupel (gambar, label). Misalnya, Anda dapat melihat bentuknya di sini:"
      ]
    },
    {
      "cell_type": "code",
      "execution_count": 5,
      "metadata": {
        "colab": {
          "base_uri": "https://localhost:8080/"
        },
        "id": "XRdByT04rAXf",
        "outputId": "50e5dd2a-b9ea-42d0-87fa-9b99a17b87c3"
      },
      "outputs": [
        {
          "output_type": "execute_result",
          "data": {
            "text/plain": [
              "((64, 224, 224, 3), (64, 2))"
            ]
          },
          "metadata": {},
          "execution_count": 5
        }
      ],
      "source": [
        "image_batch, label_batch = next(val_generator)\n",
        "image_batch.shape, label_batch.shape"
      ]
    },
    {
      "cell_type": "markdown",
      "metadata": {
        "id": "LRsJipGYrAXf"
      },
      "source": [
        "Sekarang simpan label kelas ke file teks:"
      ]
    },
    {
      "cell_type": "code",
      "execution_count": 6,
      "metadata": {
        "colab": {
          "base_uri": "https://localhost:8080/"
        },
        "id": "50bb0bytrAXf",
        "outputId": "19745086-479c-4b2e-e05a-ca0c70b43377"
      },
      "outputs": [
        {
          "output_type": "stream",
          "name": "stdout",
          "text": [
            "{'cats': 0, 'dogs': 1}\n"
          ]
        }
      ],
      "source": [
        "print (train_generator.class_indices)\n",
        "\n",
        "labels = '\\n'.join(sorted(train_generator.class_indices.keys()))\n",
        "\n",
        "with open('catdogs_labels.txt', 'w') as f:\n",
        "  f.write(labels)"
      ]
    },
    {
      "cell_type": "code",
      "execution_count": 7,
      "metadata": {
        "colab": {
          "base_uri": "https://localhost:8080/"
        },
        "id": "vwWd41CCrAXf",
        "outputId": "cc7d9a3a-b8cb-4f67-d891-0a85c7afd9cf"
      },
      "outputs": [
        {
          "output_type": "stream",
          "name": "stdout",
          "text": [
            "cats\n",
            "dogs"
          ]
        }
      ],
      "source": [
        "!cat catdogs_labels.txt"
      ]
    },
    {
      "cell_type": "markdown",
      "metadata": {
        "id": "l2utdZhprAXf"
      },
      "source": [
        "## Bangun modelnya\n",
        "\n",
        "Sekarang, kita akan membangun model yang dirancang untuk pembelajaran transfer secara khusus pada lapisan akhir yang sepenuhnya terhubung.\n",
        "\n",
        "Dimulai dengan MobileNet V2 Keras sebagai model dasar, yang awalnya dilatih sebelumnya pada kumpulan data ImageNet (mencakup pelatihan untuk pengenalan 1.000 kelas). Ini memberi kami ekstraktor fitur luar biasa untuk klasifikasi gambar, memungkinkan kami untuk selanjutnya melatih lapisan klasifikasi baru yang disesuaikan dengan kumpulan data bunga kami."
      ]
    },
    {
      "cell_type": "code",
      "execution_count": 8,
      "metadata": {
        "colab": {
          "base_uri": "https://localhost:8080/"
        },
        "id": "14CJpErkrAXg",
        "outputId": "bbf19dfa-349c-47c3-ce78-61be1ffd4fb6"
      },
      "outputs": [
        {
          "output_type": "stream",
          "name": "stdout",
          "text": [
            "Downloading data from https://storage.googleapis.com/tensorflow/keras-applications/mobilenet_v2/mobilenet_v2_weights_tf_dim_ordering_tf_kernels_1.0_224_no_top.h5\n",
            "\u001b[1m9406464/9406464\u001b[0m \u001b[32m━━━━━━━━━━━━━━━━━━━━\u001b[0m\u001b[37m\u001b[0m \u001b[1m0s\u001b[0m 0us/step\n"
          ]
        }
      ],
      "source": [
        "IMG_SHAPE = (IMAGE_SIZE, IMAGE_SIZE, 3)\n",
        "\n",
        "# Create the base model from the pre-trained MobileNet V2\n",
        "base_model = tf.keras.applications.MobileNetV2(input_shape=IMG_SHAPE,\n",
        "                                              include_top=False,\n",
        "                                              weights='imagenet')\n",
        "base_model.trainable = False"
      ]
    },
    {
      "cell_type": "code",
      "execution_count": 9,
      "metadata": {
        "id": "d0xb58KhrAXg"
      },
      "outputs": [],
      "source": [
        "model = tf.keras.Sequential([\n",
        "  base_model,\n",
        "  tf.keras.layers.Conv2D(filters=32, kernel_size=3, activation='relu'),\n",
        "  tf.keras.layers.Dropout(0.2),\n",
        "  tf.keras.layers.GlobalAveragePooling2D(),\n",
        "  tf.keras.layers.Dense(units=2, activation='softmax')\n",
        "])"
      ]
    },
    {
      "cell_type": "markdown",
      "metadata": {
        "id": "DgPITmZErAXg"
      },
      "source": [
        "### Konfigurasikan modelnya\n",
        "\n",
        "Meskipun metode ini disebut `kompilasi()`, pada dasarnya ini adalah langkah konfigurasi yang diperlukan sebelum kita dapat memulai pelatihan."
      ]
    },
    {
      "cell_type": "code",
      "execution_count": 10,
      "metadata": {
        "id": "EnIjRsnTrAXg"
      },
      "outputs": [],
      "source": [
        "model.compile(optimizer='adam',\n",
        "              loss='categorical_crossentropy',\n",
        "              metrics=['accuracy'])"
      ]
    },
    {
      "cell_type": "code",
      "execution_count": 11,
      "metadata": {
        "colab": {
          "base_uri": "https://localhost:8080/",
          "height": 305
        },
        "id": "11217H9orAXg",
        "outputId": "7b6da35a-f0cd-4a63-c3c9-a3cfdb5bee84"
      },
      "outputs": [
        {
          "output_type": "display_data",
          "data": {
            "text/plain": [
              "\u001b[1mModel: \"sequential\"\u001b[0m\n"
            ],
            "text/html": [
              "<pre style=\"white-space:pre;overflow-x:auto;line-height:normal;font-family:Menlo,'DejaVu Sans Mono',consolas,'Courier New',monospace\"><span style=\"font-weight: bold\">Model: \"sequential\"</span>\n",
              "</pre>\n"
            ]
          },
          "metadata": {}
        },
        {
          "output_type": "display_data",
          "data": {
            "text/plain": [
              "┏━━━━━━━━━━━━━━━━━━━━━━━━━━━━━━━━━━━━━━┳━━━━━━━━━━━━━━━━━━━━━━━━━━━━━┳━━━━━━━━━━━━━━━━━┓\n",
              "┃\u001b[1m \u001b[0m\u001b[1mLayer (type)                        \u001b[0m\u001b[1m \u001b[0m┃\u001b[1m \u001b[0m\u001b[1mOutput Shape               \u001b[0m\u001b[1m \u001b[0m┃\u001b[1m \u001b[0m\u001b[1m        Param #\u001b[0m\u001b[1m \u001b[0m┃\n",
              "┡━━━━━━━━━━━━━━━━━━━━━━━━━━━━━━━━━━━━━━╇━━━━━━━━━━━━━━━━━━━━━━━━━━━━━╇━━━━━━━━━━━━━━━━━┩\n",
              "│ mobilenetv2_1.00_224 (\u001b[38;5;33mFunctional\u001b[0m)    │ (\u001b[38;5;45mNone\u001b[0m, \u001b[38;5;34m7\u001b[0m, \u001b[38;5;34m7\u001b[0m, \u001b[38;5;34m1280\u001b[0m)          │       \u001b[38;5;34m2,257,984\u001b[0m │\n",
              "├──────────────────────────────────────┼─────────────────────────────┼─────────────────┤\n",
              "│ conv2d (\u001b[38;5;33mConv2D\u001b[0m)                      │ (\u001b[38;5;45mNone\u001b[0m, \u001b[38;5;34m5\u001b[0m, \u001b[38;5;34m5\u001b[0m, \u001b[38;5;34m32\u001b[0m)            │         \u001b[38;5;34m368,672\u001b[0m │\n",
              "├──────────────────────────────────────┼─────────────────────────────┼─────────────────┤\n",
              "│ dropout (\u001b[38;5;33mDropout\u001b[0m)                    │ (\u001b[38;5;45mNone\u001b[0m, \u001b[38;5;34m5\u001b[0m, \u001b[38;5;34m5\u001b[0m, \u001b[38;5;34m32\u001b[0m)            │               \u001b[38;5;34m0\u001b[0m │\n",
              "├──────────────────────────────────────┼─────────────────────────────┼─────────────────┤\n",
              "│ global_average_pooling2d             │ (\u001b[38;5;45mNone\u001b[0m, \u001b[38;5;34m32\u001b[0m)                  │               \u001b[38;5;34m0\u001b[0m │\n",
              "│ (\u001b[38;5;33mGlobalAveragePooling2D\u001b[0m)             │                             │                 │\n",
              "├──────────────────────────────────────┼─────────────────────────────┼─────────────────┤\n",
              "│ dense (\u001b[38;5;33mDense\u001b[0m)                        │ (\u001b[38;5;45mNone\u001b[0m, \u001b[38;5;34m2\u001b[0m)                   │              \u001b[38;5;34m66\u001b[0m │\n",
              "└──────────────────────────────────────┴─────────────────────────────┴─────────────────┘\n"
            ],
            "text/html": [
              "<pre style=\"white-space:pre;overflow-x:auto;line-height:normal;font-family:Menlo,'DejaVu Sans Mono',consolas,'Courier New',monospace\">┏━━━━━━━━━━━━━━━━━━━━━━━━━━━━━━━━━━━━━━┳━━━━━━━━━━━━━━━━━━━━━━━━━━━━━┳━━━━━━━━━━━━━━━━━┓\n",
              "┃<span style=\"font-weight: bold\"> Layer (type)                         </span>┃<span style=\"font-weight: bold\"> Output Shape                </span>┃<span style=\"font-weight: bold\">         Param # </span>┃\n",
              "┡━━━━━━━━━━━━━━━━━━━━━━━━━━━━━━━━━━━━━━╇━━━━━━━━━━━━━━━━━━━━━━━━━━━━━╇━━━━━━━━━━━━━━━━━┩\n",
              "│ mobilenetv2_1.00_224 (<span style=\"color: #0087ff; text-decoration-color: #0087ff\">Functional</span>)    │ (<span style=\"color: #00d7ff; text-decoration-color: #00d7ff\">None</span>, <span style=\"color: #00af00; text-decoration-color: #00af00\">7</span>, <span style=\"color: #00af00; text-decoration-color: #00af00\">7</span>, <span style=\"color: #00af00; text-decoration-color: #00af00\">1280</span>)          │       <span style=\"color: #00af00; text-decoration-color: #00af00\">2,257,984</span> │\n",
              "├──────────────────────────────────────┼─────────────────────────────┼─────────────────┤\n",
              "│ conv2d (<span style=\"color: #0087ff; text-decoration-color: #0087ff\">Conv2D</span>)                      │ (<span style=\"color: #00d7ff; text-decoration-color: #00d7ff\">None</span>, <span style=\"color: #00af00; text-decoration-color: #00af00\">5</span>, <span style=\"color: #00af00; text-decoration-color: #00af00\">5</span>, <span style=\"color: #00af00; text-decoration-color: #00af00\">32</span>)            │         <span style=\"color: #00af00; text-decoration-color: #00af00\">368,672</span> │\n",
              "├──────────────────────────────────────┼─────────────────────────────┼─────────────────┤\n",
              "│ dropout (<span style=\"color: #0087ff; text-decoration-color: #0087ff\">Dropout</span>)                    │ (<span style=\"color: #00d7ff; text-decoration-color: #00d7ff\">None</span>, <span style=\"color: #00af00; text-decoration-color: #00af00\">5</span>, <span style=\"color: #00af00; text-decoration-color: #00af00\">5</span>, <span style=\"color: #00af00; text-decoration-color: #00af00\">32</span>)            │               <span style=\"color: #00af00; text-decoration-color: #00af00\">0</span> │\n",
              "├──────────────────────────────────────┼─────────────────────────────┼─────────────────┤\n",
              "│ global_average_pooling2d             │ (<span style=\"color: #00d7ff; text-decoration-color: #00d7ff\">None</span>, <span style=\"color: #00af00; text-decoration-color: #00af00\">32</span>)                  │               <span style=\"color: #00af00; text-decoration-color: #00af00\">0</span> │\n",
              "│ (<span style=\"color: #0087ff; text-decoration-color: #0087ff\">GlobalAveragePooling2D</span>)             │                             │                 │\n",
              "├──────────────────────────────────────┼─────────────────────────────┼─────────────────┤\n",
              "│ dense (<span style=\"color: #0087ff; text-decoration-color: #0087ff\">Dense</span>)                        │ (<span style=\"color: #00d7ff; text-decoration-color: #00d7ff\">None</span>, <span style=\"color: #00af00; text-decoration-color: #00af00\">2</span>)                   │              <span style=\"color: #00af00; text-decoration-color: #00af00\">66</span> │\n",
              "└──────────────────────────────────────┴─────────────────────────────┴─────────────────┘\n",
              "</pre>\n"
            ]
          },
          "metadata": {}
        },
        {
          "output_type": "display_data",
          "data": {
            "text/plain": [
              "\u001b[1m Total params: \u001b[0m\u001b[38;5;34m2,626,722\u001b[0m (10.02 MB)\n"
            ],
            "text/html": [
              "<pre style=\"white-space:pre;overflow-x:auto;line-height:normal;font-family:Menlo,'DejaVu Sans Mono',consolas,'Courier New',monospace\"><span style=\"font-weight: bold\"> Total params: </span><span style=\"color: #00af00; text-decoration-color: #00af00\">2,626,722</span> (10.02 MB)\n",
              "</pre>\n"
            ]
          },
          "metadata": {}
        },
        {
          "output_type": "display_data",
          "data": {
            "text/plain": [
              "\u001b[1m Trainable params: \u001b[0m\u001b[38;5;34m368,738\u001b[0m (1.41 MB)\n"
            ],
            "text/html": [
              "<pre style=\"white-space:pre;overflow-x:auto;line-height:normal;font-family:Menlo,'DejaVu Sans Mono',consolas,'Courier New',monospace\"><span style=\"font-weight: bold\"> Trainable params: </span><span style=\"color: #00af00; text-decoration-color: #00af00\">368,738</span> (1.41 MB)\n",
              "</pre>\n"
            ]
          },
          "metadata": {}
        },
        {
          "output_type": "display_data",
          "data": {
            "text/plain": [
              "\u001b[1m Non-trainable params: \u001b[0m\u001b[38;5;34m2,257,984\u001b[0m (8.61 MB)\n"
            ],
            "text/html": [
              "<pre style=\"white-space:pre;overflow-x:auto;line-height:normal;font-family:Menlo,'DejaVu Sans Mono',consolas,'Courier New',monospace\"><span style=\"font-weight: bold\"> Non-trainable params: </span><span style=\"color: #00af00; text-decoration-color: #00af00\">2,257,984</span> (8.61 MB)\n",
              "</pre>\n"
            ]
          },
          "metadata": {}
        }
      ],
      "source": [
        "model.summary()"
      ]
    },
    {
      "cell_type": "code",
      "execution_count": 12,
      "metadata": {
        "colab": {
          "base_uri": "https://localhost:8080/"
        },
        "id": "ZgFUKTXnrAXg",
        "outputId": "a39fdb67-6d9a-4d47-abeb-1c5bd3a34246"
      },
      "outputs": [
        {
          "output_type": "stream",
          "name": "stdout",
          "text": [
            "Number of trainable weights = 4\n"
          ]
        }
      ],
      "source": [
        "print('Number of trainable weights = {}'.format(len(model.trainable_weights)))"
      ]
    },
    {
      "cell_type": "markdown",
      "metadata": {
        "id": "tVU2eKgnrAXg"
      },
      "source": [
        "## Train the model\n"
      ]
    },
    {
      "cell_type": "markdown",
      "metadata": {
        "id": "NK5aaOg1rAXg"
      },
      "source": [
        "Sekarang kita bisa melatih model menggunakan data yang disediakan oleh `train_generator` dan `val_generator` yang kita buat di awal.\n",
        "\n",
        "Ini akan memakan waktu kurang dari 10 menit."
      ]
    },
    {
      "cell_type": "code",
      "execution_count": 13,
      "metadata": {
        "colab": {
          "base_uri": "https://localhost:8080/"
        },
        "id": "d2CG47EDrAXg",
        "outputId": "34f53f55-03fd-491d-f9c3-c94df54dd4cf"
      },
      "outputs": [
        {
          "output_type": "stream",
          "name": "stdout",
          "text": [
            "Epoch 1/10\n"
          ]
        },
        {
          "output_type": "stream",
          "name": "stderr",
          "text": [
            "/usr/local/lib/python3.10/dist-packages/keras/src/trainers/data_adapters/py_dataset_adapter.py:122: UserWarning: Your `PyDataset` class should call `super().__init__(**kwargs)` in its constructor. `**kwargs` can include `workers`, `use_multiprocessing`, `max_queue_size`. Do not pass these arguments to `fit()`, as they will be ignored.\n",
            "  self._warn_if_super_not_called()\n"
          ]
        },
        {
          "output_type": "stream",
          "name": "stdout",
          "text": [
            "\u001b[1m32/32\u001b[0m \u001b[32m━━━━━━━━━━━━━━━━━━━━\u001b[0m\u001b[37m\u001b[0m \u001b[1m159s\u001b[0m 5s/step - accuracy: 0.7982 - loss: 0.8063 - val_accuracy: 0.9720 - val_loss: 0.0705\n",
            "Epoch 2/10\n",
            "\u001b[1m32/32\u001b[0m \u001b[32m━━━━━━━━━━━━━━━━━━━━\u001b[0m\u001b[37m\u001b[0m \u001b[1m0s\u001b[0m 7ms/step - accuracy: 0.0000e+00 - loss: 0.0000e+00\n"
          ]
        },
        {
          "output_type": "stream",
          "name": "stderr",
          "text": [
            "/usr/lib/python3.10/contextlib.py:153: UserWarning: Your input ran out of data; interrupting training. Make sure that your dataset or generator can generate at least `steps_per_epoch * epochs` batches. You may need to use the `.repeat()` function when building your dataset.\n",
            "  self.gen.throw(typ, value, traceback)\n"
          ]
        },
        {
          "output_type": "stream",
          "name": "stdout",
          "text": [
            "Epoch 3/10\n",
            "\u001b[1m32/32\u001b[0m \u001b[32m━━━━━━━━━━━━━━━━━━━━\u001b[0m\u001b[37m\u001b[0m \u001b[1m214s\u001b[0m 5s/step - accuracy: 0.9755 - loss: 0.0604 - val_accuracy: 0.9780 - val_loss: 0.0592\n",
            "Epoch 4/10\n",
            "\u001b[1m32/32\u001b[0m \u001b[32m━━━━━━━━━━━━━━━━━━━━\u001b[0m\u001b[37m\u001b[0m \u001b[1m0s\u001b[0m 3ms/step - accuracy: 0.0000e+00 - loss: 0.0000e+00\n",
            "Epoch 5/10\n",
            "\u001b[1m32/32\u001b[0m \u001b[32m━━━━━━━━━━━━━━━━━━━━\u001b[0m\u001b[37m\u001b[0m \u001b[1m190s\u001b[0m 5s/step - accuracy: 0.9850 - loss: 0.0470 - val_accuracy: 0.9780 - val_loss: 0.0572\n",
            "Epoch 6/10\n",
            "\u001b[1m32/32\u001b[0m \u001b[32m━━━━━━━━━━━━━━━━━━━━\u001b[0m\u001b[37m\u001b[0m \u001b[1m0s\u001b[0m 1ms/step - accuracy: 0.0000e+00 - loss: 0.0000e+00\n",
            "Epoch 7/10\n",
            "\u001b[1m32/32\u001b[0m \u001b[32m━━━━━━━━━━━━━━━━━━━━\u001b[0m\u001b[37m\u001b[0m \u001b[1m184s\u001b[0m 4s/step - accuracy: 0.9965 - loss: 0.0231 - val_accuracy: 0.9800 - val_loss: 0.0578\n",
            "Epoch 8/10\n",
            "\u001b[1m32/32\u001b[0m \u001b[32m━━━━━━━━━━━━━━━━━━━━\u001b[0m\u001b[37m\u001b[0m \u001b[1m0s\u001b[0m 1ms/step - accuracy: 0.0000e+00 - loss: 0.0000e+00\n",
            "Epoch 9/10\n",
            "\u001b[1m32/32\u001b[0m \u001b[32m━━━━━━━━━━━━━━━━━━━━\u001b[0m\u001b[37m\u001b[0m \u001b[1m151s\u001b[0m 4s/step - accuracy: 0.9977 - loss: 0.0131 - val_accuracy: 0.9810 - val_loss: 0.0659\n",
            "Epoch 10/10\n",
            "\u001b[1m32/32\u001b[0m \u001b[32m━━━━━━━━━━━━━━━━━━━━\u001b[0m\u001b[37m\u001b[0m \u001b[1m38s\u001b[0m 1s/step - accuracy: 0.0000e+00 - loss: 0.0000e+00\n"
          ]
        }
      ],
      "source": [
        "history = model.fit(train_generator,\n",
        "                    steps_per_epoch=len(train_generator),\n",
        "                    epochs=10,\n",
        "                    validation_data=val_generator,\n",
        "                    validation_steps=len(val_generator))"
      ]
    },
    {
      "cell_type": "markdown",
      "metadata": {
        "id": "ictd7mkurAXg"
      },
      "source": [
        "### Plot"
      ]
    },
    {
      "cell_type": "code",
      "execution_count": 14,
      "metadata": {
        "colab": {
          "base_uri": "https://localhost:8080/",
          "height": 718
        },
        "id": "HaoPxG9srAXg",
        "outputId": "8c75c431-c917-4306-9955-b8a170c88d47"
      },
      "outputs": [
        {
          "output_type": "display_data",
          "data": {
            "text/plain": [
              "<Figure size 800x800 with 2 Axes>"
            ],
            "image/png": "[encoded data removed]"
          },
          "metadata": {}
        }
      ],
      "source": [
        "acc = history.history['accuracy']\n",
        "val_acc = history.history['val_accuracy']\n",
        "\n",
        "loss = history.history['loss']\n",
        "val_loss = history.history['val_loss']\n",
        "\n",
        "plt.figure(figsize=(8, 8))\n",
        "plt.subplot(2, 1, 1)\n",
        "plt.plot(acc, label='Training Accuracy')\n",
        "plt.plot(val_acc, label='Validation Accuracy')\n",
        "plt.legend(loc='lower right')\n",
        "plt.ylabel('Accuracy')\n",
        "plt.ylim([min(plt.ylim()),1])\n",
        "plt.title('Training and Validation Accuracy')\n",
        "\n",
        "plt.subplot(2, 1, 2)\n",
        "plt.plot(loss, label='Training Loss')\n",
        "plt.plot(val_loss, label='Validation Loss')\n",
        "plt.legend(loc='upper right')\n",
        "plt.ylabel('Cross Entropy')\n",
        "plt.ylim([0,1.0])\n",
        "plt.title('Training and Validation Loss')\n",
        "plt.xlabel('epoch')\n",
        "plt.show()"
      ]
    },
    {
      "cell_type": "markdown",
      "metadata": {
        "id": "ycbtBYv_rAXg"
      },
      "source": [
        "## Fine tune the base model\n"
      ]
    },
    {
      "cell_type": "markdown",
      "metadata": {
        "id": "nw8mu867rAXg"
      },
      "source": [
        "Sejauh ini, pelatihan berfokus pada lapisan klasifikasi, dan bobot jaringan yang telah dilatih sebelumnya tetap *tidak berubah*.\n",
        "\n",
        "Untuk meningkatkan akurasi, salah satu pendekatan melibatkan pelatihan atau \"menyempurnakan\" lapisan tambahan dari model yang telah dilatih sebelumnya. Dengan kata lain, kami akan mencairkan lapisan tertentu dari model dasar dan mengubah bobotnya, yang awalnya dilatih pada 1.000 kelas ImageNet, agar lebih selaras dengan fitur yang ada di kumpulan data kucing & anjing kami."
      ]
    },
    {
      "cell_type": "markdown",
      "metadata": {
        "id": "OMm-zZ0krAXg"
      },
      "source": [
        "### Un-freeze more layers\n"
      ]
    },
    {
      "cell_type": "markdown",
      "metadata": {
        "id": "tGQqUHsprAXg"
      },
      "source": [
        "Jadi, alih-alih membekukan seluruh model dasar, kami akan membekukan setiap lapisan.\n",
        "\n",
        "Pertama, mari kita lihat berapa banyak lapisan dalam model dasar:"
      ]
    },
    {
      "cell_type": "code",
      "execution_count": 15,
      "metadata": {
        "colab": {
          "base_uri": "https://localhost:8080/"
        },
        "id": "iEnXu-UbrAXh",
        "outputId": "ea1eea45-0bce-4df8-dc73-52dec7e6564e"
      },
      "outputs": [
        {
          "output_type": "stream",
          "name": "stdout",
          "text": [
            "Number of layers in the base model:  154\n"
          ]
        }
      ],
      "source": [
        "print(\"Number of layers in the base model: \", len(base_model.layers))"
      ]
    },
    {
      "cell_type": "markdown",
      "metadata": {
        "id": "uz-_moAOrAXh"
      },
      "source": [
        "Mari kita coba membekukan 100 lapisan terbawah saja."
      ]
    },
    {
      "cell_type": "code",
      "execution_count": 16,
      "metadata": {
        "id": "8nkMnn1YrAXh"
      },
      "outputs": [],
      "source": [
        "base_model.trainable = True\n",
        "fine_tune_at = 100\n",
        "\n",
        "# Freeze all the layers before the `fine_tune_at` layer\n",
        "for layer in base_model.layers[:fine_tune_at]:\n",
        "  layer.trainable =  False"
      ]
    },
    {
      "cell_type": "markdown",
      "metadata": {
        "id": "KhR8XjIUrAXh"
      },
      "source": [
        "### Konfigurasikan ulang model\n",
        "\n",
        "Sekarang konfigurasikan modelnya lagi, namun kali ini dengan kecepatan pemelajaran yang lebih rendah (defaultnya adalah 0,001)."
      ]
    },
    {
      "cell_type": "code",
      "execution_count": 17,
      "metadata": {
        "id": "8XYxuQiRrAXh"
      },
      "outputs": [],
      "source": [
        "model.compile(optimizer=tf.keras.optimizers.Adam(1e-5),\n",
        "              loss='categorical_crossentropy',\n",
        "              metrics=['accuracy'])"
      ]
    },
    {
      "cell_type": "code",
      "execution_count": 18,
      "metadata": {
        "colab": {
          "base_uri": "https://localhost:8080/",
          "height": 305
        },
        "id": "riAhxyR-rAXh",
        "outputId": "f14565de-695f-45a1-8b99-5223193e2dd5"
      },
      "outputs": [
        {
          "output_type": "display_data",
          "data": {
            "text/plain": [
              "\u001b[1mModel: \"sequential\"\u001b[0m\n"
            ],
            "text/html": [
              "<pre style=\"white-space:pre;overflow-x:auto;line-height:normal;font-family:Menlo,'DejaVu Sans Mono',consolas,'Courier New',monospace\"><span style=\"font-weight: bold\">Model: \"sequential\"</span>\n",
              "</pre>\n"
            ]
          },
          "metadata": {}
        },
        {
          "output_type": "display_data",
          "data": {
            "text/plain": [
              "┏━━━━━━━━━━━━━━━━━━━━━━━━━━━━━━━━━━━━━━┳━━━━━━━━━━━━━━━━━━━━━━━━━━━━━┳━━━━━━━━━━━━━━━━━┓\n",
              "┃\u001b[1m \u001b[0m\u001b[1mLayer (type)                        \u001b[0m\u001b[1m \u001b[0m┃\u001b[1m \u001b[0m\u001b[1mOutput Shape               \u001b[0m\u001b[1m \u001b[0m┃\u001b[1m \u001b[0m\u001b[1m        Param #\u001b[0m\u001b[1m \u001b[0m┃\n",
              "┡━━━━━━━━━━━━━━━━━━━━━━━━━━━━━━━━━━━━━━╇━━━━━━━━━━━━━━━━━━━━━━━━━━━━━╇━━━━━━━━━━━━━━━━━┩\n",
              "│ mobilenetv2_1.00_224 (\u001b[38;5;33mFunctional\u001b[0m)    │ (\u001b[38;5;45mNone\u001b[0m, \u001b[38;5;34m7\u001b[0m, \u001b[38;5;34m7\u001b[0m, \u001b[38;5;34m1280\u001b[0m)          │       \u001b[38;5;34m2,257,984\u001b[0m │\n",
              "├──────────────────────────────────────┼─────────────────────────────┼─────────────────┤\n",
              "│ conv2d (\u001b[38;5;33mConv2D\u001b[0m)                      │ (\u001b[38;5;45mNone\u001b[0m, \u001b[38;5;34m5\u001b[0m, \u001b[38;5;34m5\u001b[0m, \u001b[38;5;34m32\u001b[0m)            │         \u001b[38;5;34m368,672\u001b[0m │\n",
              "├──────────────────────────────────────┼─────────────────────────────┼─────────────────┤\n",
              "│ dropout (\u001b[38;5;33mDropout\u001b[0m)                    │ (\u001b[38;5;45mNone\u001b[0m, \u001b[38;5;34m5\u001b[0m, \u001b[38;5;34m5\u001b[0m, \u001b[38;5;34m32\u001b[0m)            │               \u001b[38;5;34m0\u001b[0m │\n",
              "├──────────────────────────────────────┼─────────────────────────────┼─────────────────┤\n",
              "│ global_average_pooling2d             │ (\u001b[38;5;45mNone\u001b[0m, \u001b[38;5;34m32\u001b[0m)                  │               \u001b[38;5;34m0\u001b[0m │\n",
              "│ (\u001b[38;5;33mGlobalAveragePooling2D\u001b[0m)             │                             │                 │\n",
              "├──────────────────────────────────────┼─────────────────────────────┼─────────────────┤\n",
              "│ dense (\u001b[38;5;33mDense\u001b[0m)                        │ (\u001b[38;5;45mNone\u001b[0m, \u001b[38;5;34m2\u001b[0m)                   │              \u001b[38;5;34m66\u001b[0m │\n",
              "└──────────────────────────────────────┴─────────────────────────────┴─────────────────┘\n"
            ],
            "text/html": [
              "<pre style=\"white-space:pre;overflow-x:auto;line-height:normal;font-family:Menlo,'DejaVu Sans Mono',consolas,'Courier New',monospace\">┏━━━━━━━━━━━━━━━━━━━━━━━━━━━━━━━━━━━━━━┳━━━━━━━━━━━━━━━━━━━━━━━━━━━━━┳━━━━━━━━━━━━━━━━━┓\n",
              "┃<span style=\"font-weight: bold\"> Layer (type)                         </span>┃<span style=\"font-weight: bold\"> Output Shape                </span>┃<span style=\"font-weight: bold\">         Param # </span>┃\n",
              "┡━━━━━━━━━━━━━━━━━━━━━━━━━━━━━━━━━━━━━━╇━━━━━━━━━━━━━━━━━━━━━━━━━━━━━╇━━━━━━━━━━━━━━━━━┩\n",
              "│ mobilenetv2_1.00_224 (<span style=\"color: #0087ff; text-decoration-color: #0087ff\">Functional</span>)    │ (<span style=\"color: #00d7ff; text-decoration-color: #00d7ff\">None</span>, <span style=\"color: #00af00; text-decoration-color: #00af00\">7</span>, <span style=\"color: #00af00; text-decoration-color: #00af00\">7</span>, <span style=\"color: #00af00; text-decoration-color: #00af00\">1280</span>)          │       <span style=\"color: #00af00; text-decoration-color: #00af00\">2,257,984</span> │\n",
              "├──────────────────────────────────────┼─────────────────────────────┼─────────────────┤\n",
              "│ conv2d (<span style=\"color: #0087ff; text-decoration-color: #0087ff\">Conv2D</span>)                      │ (<span style=\"color: #00d7ff; text-decoration-color: #00d7ff\">None</span>, <span style=\"color: #00af00; text-decoration-color: #00af00\">5</span>, <span style=\"color: #00af00; text-decoration-color: #00af00\">5</span>, <span style=\"color: #00af00; text-decoration-color: #00af00\">32</span>)            │         <span style=\"color: #00af00; text-decoration-color: #00af00\">368,672</span> │\n",
              "├──────────────────────────────────────┼─────────────────────────────┼─────────────────┤\n",
              "│ dropout (<span style=\"color: #0087ff; text-decoration-color: #0087ff\">Dropout</span>)                    │ (<span style=\"color: #00d7ff; text-decoration-color: #00d7ff\">None</span>, <span style=\"color: #00af00; text-decoration-color: #00af00\">5</span>, <span style=\"color: #00af00; text-decoration-color: #00af00\">5</span>, <span style=\"color: #00af00; text-decoration-color: #00af00\">32</span>)            │               <span style=\"color: #00af00; text-decoration-color: #00af00\">0</span> │\n",
              "├──────────────────────────────────────┼─────────────────────────────┼─────────────────┤\n",
              "│ global_average_pooling2d             │ (<span style=\"color: #00d7ff; text-decoration-color: #00d7ff\">None</span>, <span style=\"color: #00af00; text-decoration-color: #00af00\">32</span>)                  │               <span style=\"color: #00af00; text-decoration-color: #00af00\">0</span> │\n",
              "│ (<span style=\"color: #0087ff; text-decoration-color: #0087ff\">GlobalAveragePooling2D</span>)             │                             │                 │\n",
              "├──────────────────────────────────────┼─────────────────────────────┼─────────────────┤\n",
              "│ dense (<span style=\"color: #0087ff; text-decoration-color: #0087ff\">Dense</span>)                        │ (<span style=\"color: #00d7ff; text-decoration-color: #00d7ff\">None</span>, <span style=\"color: #00af00; text-decoration-color: #00af00\">2</span>)                   │              <span style=\"color: #00af00; text-decoration-color: #00af00\">66</span> │\n",
              "└──────────────────────────────────────┴─────────────────────────────┴─────────────────┘\n",
              "</pre>\n"
            ]
          },
          "metadata": {}
        },
        {
          "output_type": "display_data",
          "data": {
            "text/plain": [
              "\u001b[1m Total params: \u001b[0m\u001b[38;5;34m2,626,722\u001b[0m (10.02 MB)\n"
            ],
            "text/html": [
              "<pre style=\"white-space:pre;overflow-x:auto;line-height:normal;font-family:Menlo,'DejaVu Sans Mono',consolas,'Courier New',monospace\"><span style=\"font-weight: bold\"> Total params: </span><span style=\"color: #00af00; text-decoration-color: #00af00\">2,626,722</span> (10.02 MB)\n",
              "</pre>\n"
            ]
          },
          "metadata": {}
        },
        {
          "output_type": "display_data",
          "data": {
            "text/plain": [
              "\u001b[1m Trainable params: \u001b[0m\u001b[38;5;34m2,230,178\u001b[0m (8.51 MB)\n"
            ],
            "text/html": [
              "<pre style=\"white-space:pre;overflow-x:auto;line-height:normal;font-family:Menlo,'DejaVu Sans Mono',consolas,'Courier New',monospace\"><span style=\"font-weight: bold\"> Trainable params: </span><span style=\"color: #00af00; text-decoration-color: #00af00\">2,230,178</span> (8.51 MB)\n",
              "</pre>\n"
            ]
          },
          "metadata": {}
        },
        {
          "output_type": "display_data",
          "data": {
            "text/plain": [
              "\u001b[1m Non-trainable params: \u001b[0m\u001b[38;5;34m396,544\u001b[0m (1.51 MB)\n"
            ],
            "text/html": [
              "<pre style=\"white-space:pre;overflow-x:auto;line-height:normal;font-family:Menlo,'DejaVu Sans Mono',consolas,'Courier New',monospace\"><span style=\"font-weight: bold\"> Non-trainable params: </span><span style=\"color: #00af00; text-decoration-color: #00af00\">396,544</span> (1.51 MB)\n",
              "</pre>\n"
            ]
          },
          "metadata": {}
        }
      ],
      "source": [
        "model.summary()"
      ]
    },
    {
      "cell_type": "code",
      "execution_count": 19,
      "metadata": {
        "colab": {
          "base_uri": "https://localhost:8080/"
        },
        "id": "ZoTwAySorAXh",
        "outputId": "38b21543-3493-4046-8c8f-64dedef27279"
      },
      "outputs": [
        {
          "output_type": "stream",
          "name": "stdout",
          "text": [
            "Number of trainable weights = 58\n"
          ]
        }
      ],
      "source": [
        "print('Number of trainable weights = {}'.format(len(model.trainable_weights)))"
      ]
    },
    {
      "cell_type": "markdown",
      "metadata": {
        "id": "QTHLwPbrrAXh"
      },
      "source": [
        "### Continue training"
      ]
    },
    {
      "cell_type": "markdown",
      "metadata": {
        "id": "W-06H95arAXh"
      },
      "source": [
        "Sekarang mari kita sempurnakan semua lapisan yang bisa dilatih. Ini dimulai dengan bobot yang sudah kita latih di lapisan klasifikasi, jadi kita tidak memerlukan banyak epoch."
      ]
    },
    {
      "cell_type": "code",
      "execution_count": 20,
      "metadata": {
        "colab": {
          "base_uri": "https://localhost:8080/"
        },
        "id": "K2mNAGrPrAXh",
        "outputId": "5a88578c-3de7-4dac-96a8-f69c6a8c4b5c"
      },
      "outputs": [
        {
          "output_type": "stream",
          "name": "stdout",
          "text": [
            "Epoch 1/5\n",
            "\u001b[1m32/32\u001b[0m \u001b[32m━━━━━━━━━━━━━━━━━━━━\u001b[0m\u001b[37m\u001b[0m \u001b[1m199s\u001b[0m 6s/step - accuracy: 0.8614 - loss: 0.3758 - val_accuracy: 0.9830 - val_loss: 0.0667\n",
            "Epoch 2/5\n",
            "\u001b[1m32/32\u001b[0m \u001b[32m━━━━━━━━━━━━━━━━━━━━\u001b[0m\u001b[37m\u001b[0m \u001b[1m0s\u001b[0m 5ms/step - accuracy: 0.0000e+00 - loss: 0.0000e+00\n",
            "Epoch 3/5\n",
            "\u001b[1m32/32\u001b[0m \u001b[32m━━━━━━━━━━━━━━━━━━━━\u001b[0m\u001b[37m\u001b[0m \u001b[1m181s\u001b[0m 6s/step - accuracy: 0.9705 - loss: 0.0712 - val_accuracy: 0.9830 - val_loss: 0.0680\n",
            "Epoch 4/5\n",
            "\u001b[1m32/32\u001b[0m \u001b[32m━━━━━━━━━━━━━━━━━━━━\u001b[0m\u001b[37m\u001b[0m \u001b[1m41s\u001b[0m 1s/step - accuracy: 0.0000e+00 - loss: 0.0000e+00\n",
            "Epoch 5/5\n",
            "\u001b[1m32/32\u001b[0m \u001b[32m━━━━━━━━━━━━━━━━━━━━\u001b[0m\u001b[37m\u001b[0m \u001b[1m188s\u001b[0m 6s/step - accuracy: 0.9851 - loss: 0.0484 - val_accuracy: 0.9810 - val_loss: 0.0680\n"
          ]
        }
      ],
      "source": [
        "history_fine = model.fit(train_generator,\n",
        "                         steps_per_epoch=len(train_generator),\n",
        "                         epochs=5,\n",
        "                         validation_data=val_generator,\n",
        "                         validation_steps=len(val_generator))"
      ]
    },
    {
      "cell_type": "markdown",
      "metadata": {
        "id": "zPUVaDLLrAXh"
      },
      "source": [
        "### New Plot"
      ]
    },
    {
      "cell_type": "code",
      "execution_count": 21,
      "metadata": {
        "colab": {
          "base_uri": "https://localhost:8080/",
          "height": 718
        },
        "id": "9CuaXHknrAXh",
        "outputId": "9ca8ce1e-ee33-45bc-dfd0-fbf01409291a"
      },
      "outputs": [
        {
          "output_type": "display_data",
          "data": {
            "text/plain": [
              "<Figure size 800x800 with 2 Axes>"
            ],
            "image/png": "[encoded data removed]"
          },
          "metadata": {}
        }
      ],
      "source": [
        "acc = history_fine.history['accuracy']\n",
        "val_acc = history_fine.history['val_accuracy']\n",
        "\n",
        "loss = history_fine.history['loss']\n",
        "val_loss = history_fine.history['val_loss']\n",
        "\n",
        "plt.figure(figsize=(8, 8))\n",
        "plt.subplot(2, 1, 1)\n",
        "plt.plot(acc, label='Training Accuracy')\n",
        "plt.plot(val_acc, label='Validation Accuracy')\n",
        "plt.legend(loc='lower right')\n",
        "plt.ylabel('Accuracy')\n",
        "plt.ylim([min(plt.ylim()),1])\n",
        "plt.title('Training and Validation Accuracy')\n",
        "\n",
        "plt.subplot(2, 1, 2)\n",
        "plt.plot(loss, label='Training Loss')\n",
        "plt.plot(val_loss, label='Validation Loss')\n",
        "plt.legend(loc='upper right')\n",
        "plt.ylabel('Cross Entropy')\n",
        "plt.ylim([0,1.0])\n",
        "plt.title('Training and Validation Loss')\n",
        "plt.xlabel('epoch')\n",
        "plt.show()"
      ]
    },
    {
      "cell_type": "markdown",
      "metadata": {
        "id": "oVM2PnXhrAXh"
      },
      "source": [
        "## Convert to TFLite"
      ]
    },
    {
      "cell_type": "markdown",
      "metadata": {
        "id": "pI2N3SvGrAXh"
      },
      "source": [
        "Biasanya, pembuatan model TensorFlow Lite hanya memerlukan beberapa baris kode dengan [`TFLiteConverter`](https://www.tensorflow.org/api_docs/python/tf/lite/TFLiteConverter). Misalnya, ini akan membuat model TensorFlow Lite dasar (tidak terkuantisasi):"
      ]
    },
    {
      "cell_type": "code",
      "execution_count": 22,
      "metadata": {
        "colab": {
          "base_uri": "https://localhost:8080/"
        },
        "id": "Glq-6j6KrAXh",
        "outputId": "f981285e-e041-4c0f-bf95-55c28a4f54a3"
      },
      "outputs": [
        {
          "output_type": "stream",
          "name": "stdout",
          "text": [
            "Saved artifact at '/tmp/tmpsp4jtd9r'. The following endpoints are available:\n",
            "\n",
            "* Endpoint 'serve'\n",
            "  args_0 (POSITIONAL_ONLY): TensorSpec(shape=(None, 224, 224, 3), dtype=tf.float32, name='keras_tensor_154')\n",
            "Output Type:\n",
            "  TensorSpec(shape=(None, 2), dtype=tf.float32, name=None)\n",
            "Captures:\n",
            "  133070688200032: TensorSpec(shape=(), dtype=tf.resource, name=None)\n",
            "  133070263895312: TensorSpec(shape=(), dtype=tf.resource, name=None)\n",
            "  133070262734336: TensorSpec(shape=(), dtype=tf.resource, name=None)\n",
            "  133070264297680: TensorSpec(shape=(), dtype=tf.resource, name=None)\n",
            "  133070262730816: TensorSpec(shape=(), dtype=tf.resource, name=None)\n",
            "  133070264290288: TensorSpec(shape=(), dtype=tf.resource, name=None)\n",
            "  133070262741024: TensorSpec(shape=(), dtype=tf.resource, name=None)\n",
            "  133070262742080: TensorSpec(shape=(), dtype=tf.resource, name=None)\n",
            "  133070262738208: TensorSpec(shape=(), dtype=tf.resource, name=None)\n",
            "  133070262740848: TensorSpec(shape=(), dtype=tf.resource, name=None)\n",
            "  133070264290640: TensorSpec(shape=(), dtype=tf.resource, name=None)\n",
            "  133070262765168: TensorSpec(shape=(), dtype=tf.resource, name=None)\n",
            "  133070262763760: TensorSpec(shape=(), dtype=tf.resource, name=None)\n",
            "  133070262746128: TensorSpec(shape=(), dtype=tf.resource, name=None)\n",
            "  133070262765344: TensorSpec(shape=(), dtype=tf.resource, name=None)\n",
            "  133070262736448: TensorSpec(shape=(), dtype=tf.resource, name=None)\n",
            "  133070262769920: TensorSpec(shape=(), dtype=tf.resource, name=None)\n",
            "  133070262772384: TensorSpec(shape=(), dtype=tf.resource, name=None)\n",
            "  133070262768512: TensorSpec(shape=(), dtype=tf.resource, name=None)\n",
            "  133070262771152: TensorSpec(shape=(), dtype=tf.resource, name=None)\n",
            "  133070262779600: TensorSpec(shape=(), dtype=tf.resource, name=None)\n",
            "  133070262776080: TensorSpec(shape=(), dtype=tf.resource, name=None)\n",
            "  133070262775728: TensorSpec(shape=(), dtype=tf.resource, name=None)\n",
            "  133070262776784: TensorSpec(shape=(), dtype=tf.resource, name=None)\n",
            "  133070262778368: TensorSpec(shape=(), dtype=tf.resource, name=None)\n",
            "  133070262775200: TensorSpec(shape=(), dtype=tf.resource, name=None)\n",
            "  133070262869808: TensorSpec(shape=(), dtype=tf.resource, name=None)\n",
            "  133070262870864: TensorSpec(shape=(), dtype=tf.resource, name=None)\n",
            "  133070262866992: TensorSpec(shape=(), dtype=tf.resource, name=None)\n",
            "  133070262869632: TensorSpec(shape=(), dtype=tf.resource, name=None)\n",
            "  133070264296448: TensorSpec(shape=(), dtype=tf.resource, name=None)\n",
            "  133070262875968: TensorSpec(shape=(), dtype=tf.resource, name=None)\n",
            "  133070262877728: TensorSpec(shape=(), dtype=tf.resource, name=None)\n",
            "  133070262873152: TensorSpec(shape=(), dtype=tf.resource, name=None)\n",
            "  133070262875792: TensorSpec(shape=(), dtype=tf.resource, name=None)\n",
            "  133070262733632: TensorSpec(shape=(), dtype=tf.resource, name=None)\n",
            "  133070263062720: TensorSpec(shape=(), dtype=tf.resource, name=None)\n",
            "  133070263065360: TensorSpec(shape=(), dtype=tf.resource, name=None)\n",
            "  133070263061312: TensorSpec(shape=(), dtype=tf.resource, name=None)\n",
            "  133070263063248: TensorSpec(shape=(), dtype=tf.resource, name=None)\n",
            "  133070263071520: TensorSpec(shape=(), dtype=tf.resource, name=None)\n",
            "  133070263070464: TensorSpec(shape=(), dtype=tf.resource, name=None)\n",
            "  133070263072928: TensorSpec(shape=(), dtype=tf.resource, name=None)\n",
            "  133070263059376: TensorSpec(shape=(), dtype=tf.resource, name=None)\n",
            "  133070263071696: TensorSpec(shape=(), dtype=tf.resource, name=None)\n",
            "  133070265281072: TensorSpec(shape=(), dtype=tf.resource, name=None)\n",
            "  133070263144992: TensorSpec(shape=(), dtype=tf.resource, name=None)\n",
            "  133070263144640: TensorSpec(shape=(), dtype=tf.resource, name=None)\n",
            "  133070263142176: TensorSpec(shape=(), dtype=tf.resource, name=None)\n",
            "  133070263144816: TensorSpec(shape=(), dtype=tf.resource, name=None)\n",
            "  133070263153440: TensorSpec(shape=(), dtype=tf.resource, name=None)\n",
            "  133070263152384: TensorSpec(shape=(), dtype=tf.resource, name=None)\n",
            "  133070263155024: TensorSpec(shape=(), dtype=tf.resource, name=None)\n",
            "  133070263142528: TensorSpec(shape=(), dtype=tf.resource, name=None)\n",
            "  133070263152912: TensorSpec(shape=(), dtype=tf.resource, name=None)\n",
            "  133070263149040: TensorSpec(shape=(), dtype=tf.resource, name=None)\n",
            "  133070265693840: TensorSpec(shape=(), dtype=tf.resource, name=None)\n",
            "  133070262731344: TensorSpec(shape=(), dtype=tf.resource, name=None)\n",
            "  133070265437696: TensorSpec(shape=(), dtype=tf.resource, name=None)\n",
            "  133070262733104: TensorSpec(shape=(), dtype=tf.resource, name=None)\n",
            "  133070265285824: TensorSpec(shape=(), dtype=tf.resource, name=None)\n",
            "  133070263208592: TensorSpec(shape=(), dtype=tf.resource, name=None)\n",
            "  133070264303312: TensorSpec(shape=(), dtype=tf.resource, name=None)\n",
            "  133070264298560: TensorSpec(shape=(), dtype=tf.resource, name=None)\n",
            "  133070263206832: TensorSpec(shape=(), dtype=tf.resource, name=None)\n",
            "  133070263214752: TensorSpec(shape=(), dtype=tf.resource, name=None)\n",
            "  133070263213696: TensorSpec(shape=(), dtype=tf.resource, name=None)\n",
            "  133070263216336: TensorSpec(shape=(), dtype=tf.resource, name=None)\n",
            "  133070263212288: TensorSpec(shape=(), dtype=tf.resource, name=None)\n",
            "  133070263214224: TensorSpec(shape=(), dtype=tf.resource, name=None)\n",
            "  133070263219504: TensorSpec(shape=(), dtype=tf.resource, name=None)\n",
            "  133070263140416: TensorSpec(shape=(), dtype=tf.resource, name=None)\n",
            "  133070283360560: TensorSpec(shape=(), dtype=tf.resource, name=None)\n",
            "  133070263220560: TensorSpec(shape=(), dtype=tf.resource, name=None)\n",
            "  133070263288400: TensorSpec(shape=(), dtype=tf.resource, name=None)\n",
            "  133070264291520: TensorSpec(shape=(), dtype=tf.resource, name=None)\n",
            "  133070263296320: TensorSpec(shape=(), dtype=tf.resource, name=None)\n",
            "  133070263297376: TensorSpec(shape=(), dtype=tf.resource, name=None)\n",
            "  133070263293504: TensorSpec(shape=(), dtype=tf.resource, name=None)\n",
            "  133070263296144: TensorSpec(shape=(), dtype=tf.resource, name=None)\n",
            "  133070263303360: TensorSpec(shape=(), dtype=tf.resource, name=None)\n",
            "  133070263299840: TensorSpec(shape=(), dtype=tf.resource, name=None)\n",
            "  133070263299488: TensorSpec(shape=(), dtype=tf.resource, name=None)\n",
            "  133070263300544: TensorSpec(shape=(), dtype=tf.resource, name=None)\n",
            "  133070263303536: TensorSpec(shape=(), dtype=tf.resource, name=None)\n",
            "  133070263298960: TensorSpec(shape=(), dtype=tf.resource, name=None)\n",
            "  133070263377184: TensorSpec(shape=(), dtype=tf.resource, name=None)\n",
            "  133070263378240: TensorSpec(shape=(), dtype=tf.resource, name=None)\n",
            "  133070263374368: TensorSpec(shape=(), dtype=tf.resource, name=None)\n",
            "  133070263377008: TensorSpec(shape=(), dtype=tf.resource, name=None)\n",
            "  133070264299792: TensorSpec(shape=(), dtype=tf.resource, name=None)\n",
            "  133070263383344: TensorSpec(shape=(), dtype=tf.resource, name=None)\n",
            "  133070263385808: TensorSpec(shape=(), dtype=tf.resource, name=None)\n",
            "  133070263381936: TensorSpec(shape=(), dtype=tf.resource, name=None)\n",
            "  133070263384576: TensorSpec(shape=(), dtype=tf.resource, name=None)\n",
            "  133070263382288: TensorSpec(shape=(), dtype=tf.resource, name=None)\n",
            "  133070263474256: TensorSpec(shape=(), dtype=tf.resource, name=None)\n",
            "  133070263476896: TensorSpec(shape=(), dtype=tf.resource, name=None)\n",
            "  133070263472848: TensorSpec(shape=(), dtype=tf.resource, name=None)\n",
            "  133070263474784: TensorSpec(shape=(), dtype=tf.resource, name=None)\n",
            "  133070263483056: TensorSpec(shape=(), dtype=tf.resource, name=None)\n",
            "  133070263482000: TensorSpec(shape=(), dtype=tf.resource, name=None)\n",
            "  133070263478480: TensorSpec(shape=(), dtype=tf.resource, name=None)\n",
            "  133070263470912: TensorSpec(shape=(), dtype=tf.resource, name=None)\n",
            "  133070263483232: TensorSpec(shape=(), dtype=tf.resource, name=None)\n",
            "  133070263299136: TensorSpec(shape=(), dtype=tf.resource, name=None)\n",
            "  133070263538912: TensorSpec(shape=(), dtype=tf.resource, name=None)\n",
            "  133070263539968: TensorSpec(shape=(), dtype=tf.resource, name=None)\n",
            "  133070263536096: TensorSpec(shape=(), dtype=tf.resource, name=None)\n",
            "  133070263538736: TensorSpec(shape=(), dtype=tf.resource, name=None)\n",
            "  133070263545952: TensorSpec(shape=(), dtype=tf.resource, name=None)\n",
            "  133070263544896: TensorSpec(shape=(), dtype=tf.resource, name=None)\n",
            "  133070263547536: TensorSpec(shape=(), dtype=tf.resource, name=None)\n",
            "  133070263536448: TensorSpec(shape=(), dtype=tf.resource, name=None)\n",
            "  133070263545424: TensorSpec(shape=(), dtype=tf.resource, name=None)\n",
            "  133070263541552: TensorSpec(shape=(), dtype=tf.resource, name=None)\n",
            "  133070263619776: TensorSpec(shape=(), dtype=tf.resource, name=None)\n",
            "  133070263620304: TensorSpec(shape=(), dtype=tf.resource, name=None)\n",
            "  133070263616432: TensorSpec(shape=(), dtype=tf.resource, name=None)\n",
            "  133070263619952: TensorSpec(shape=(), dtype=tf.resource, name=None)\n",
            "  133070263471088: TensorSpec(shape=(), dtype=tf.resource, name=None)\n",
            "  133070263625936: TensorSpec(shape=(), dtype=tf.resource, name=None)\n",
            "  133070263628400: TensorSpec(shape=(), dtype=tf.resource, name=None)\n",
            "  133070263624528: TensorSpec(shape=(), dtype=tf.resource, name=None)\n",
            "  133070263627168: TensorSpec(shape=(), dtype=tf.resource, name=None)\n",
            "  133070263631216: TensorSpec(shape=(), dtype=tf.resource, name=None)\n",
            "  133070263682496: TensorSpec(shape=(), dtype=tf.resource, name=None)\n",
            "  133070263681616: TensorSpec(shape=(), dtype=tf.resource, name=None)\n",
            "  133070263684784: TensorSpec(shape=(), dtype=tf.resource, name=None)\n",
            "  133070263684256: TensorSpec(shape=(), dtype=tf.resource, name=None)\n",
            "  133070263629984: TensorSpec(shape=(), dtype=tf.resource, name=None)\n",
            "  133070263690416: TensorSpec(shape=(), dtype=tf.resource, name=None)\n",
            "  133070263692880: TensorSpec(shape=(), dtype=tf.resource, name=None)\n",
            "  133070263689008: TensorSpec(shape=(), dtype=tf.resource, name=None)\n",
            "  133070263691648: TensorSpec(shape=(), dtype=tf.resource, name=None)\n",
            "  133070263681264: TensorSpec(shape=(), dtype=tf.resource, name=None)\n",
            "  133070236469376: TensorSpec(shape=(), dtype=tf.resource, name=None)\n",
            "  133070263218624: TensorSpec(shape=(), dtype=tf.resource, name=None)\n",
            "  133070263696928: TensorSpec(shape=(), dtype=tf.resource, name=None)\n",
            "  133070236469552: TensorSpec(shape=(), dtype=tf.resource, name=None)\n",
            "  133070236478176: TensorSpec(shape=(), dtype=tf.resource, name=None)\n",
            "  133070236502320: TensorSpec(shape=(), dtype=tf.resource, name=None)\n",
            "  133070236500736: TensorSpec(shape=(), dtype=tf.resource, name=None)\n",
            "  133070236500032: TensorSpec(shape=(), dtype=tf.resource, name=None)\n",
            "  133070236501616: TensorSpec(shape=(), dtype=tf.resource, name=None)\n",
            "  133070236481168: TensorSpec(shape=(), dtype=tf.resource, name=None)\n",
            "  133070236508128: TensorSpec(shape=(), dtype=tf.resource, name=None)\n",
            "  133070236510592: TensorSpec(shape=(), dtype=tf.resource, name=None)\n",
            "  133070236506720: TensorSpec(shape=(), dtype=tf.resource, name=None)\n",
            "  133070236509360: TensorSpec(shape=(), dtype=tf.resource, name=None)\n",
            "  133070236500384: TensorSpec(shape=(), dtype=tf.resource, name=None)\n",
            "  133070236507072: TensorSpec(shape=(), dtype=tf.resource, name=None)\n",
            "  133070236512352: TensorSpec(shape=(), dtype=tf.resource, name=None)\n",
            "  133070236514640: TensorSpec(shape=(), dtype=tf.resource, name=None)\n",
            "  133070236582480: TensorSpec(shape=(), dtype=tf.resource, name=None)\n",
            "  133070236515696: TensorSpec(shape=(), dtype=tf.resource, name=None)\n",
            "  133070236588816: TensorSpec(shape=(), dtype=tf.resource, name=None)\n",
            "  133070236591456: TensorSpec(shape=(), dtype=tf.resource, name=None)\n",
            "  133070236587408: TensorSpec(shape=(), dtype=tf.resource, name=None)\n",
            "  133070236589344: TensorSpec(shape=(), dtype=tf.resource, name=None)\n",
            "  133070236597616: TensorSpec(shape=(), dtype=tf.resource, name=None)\n",
            "  133070236587760: TensorSpec(shape=(), dtype=tf.resource, name=None)\n",
            "  133070236593040: TensorSpec(shape=(), dtype=tf.resource, name=None)\n",
            "  133070236594800: TensorSpec(shape=(), dtype=tf.resource, name=None)\n",
            "  133070236593568: TensorSpec(shape=(), dtype=tf.resource, name=None)\n",
            "  133070236480640: TensorSpec(shape=(), dtype=tf.resource, name=None)\n",
            "  133070236686240: TensorSpec(shape=(), dtype=tf.resource, name=None)\n",
            "  133070236687296: TensorSpec(shape=(), dtype=tf.resource, name=None)\n",
            "  133070236683424: TensorSpec(shape=(), dtype=tf.resource, name=None)\n",
            "  133070236686064: TensorSpec(shape=(), dtype=tf.resource, name=None)\n",
            "  133070236482400: TensorSpec(shape=(), dtype=tf.resource, name=None)\n",
            "  133070236691520: TensorSpec(shape=(), dtype=tf.resource, name=None)\n",
            "  133070236689936: TensorSpec(shape=(), dtype=tf.resource, name=None)\n",
            "  133070236690816: TensorSpec(shape=(), dtype=tf.resource, name=None)\n",
            "  133070236692928: TensorSpec(shape=(), dtype=tf.resource, name=None)\n",
            "  133070236689584: TensorSpec(shape=(), dtype=tf.resource, name=None)\n",
            "  133070236784016: TensorSpec(shape=(), dtype=tf.resource, name=None)\n",
            "  133070236785072: TensorSpec(shape=(), dtype=tf.resource, name=None)\n",
            "  133070236781200: TensorSpec(shape=(), dtype=tf.resource, name=None)\n",
            "  133070236783840: TensorSpec(shape=(), dtype=tf.resource, name=None)\n",
            "  133070236481344: TensorSpec(shape=(), dtype=tf.resource, name=None)\n",
            "  133070236790176: TensorSpec(shape=(), dtype=tf.resource, name=None)\n",
            "  133070236792640: TensorSpec(shape=(), dtype=tf.resource, name=None)\n",
            "  133070236788768: TensorSpec(shape=(), dtype=tf.resource, name=None)\n",
            "  133070236791408: TensorSpec(shape=(), dtype=tf.resource, name=None)\n",
            "  133070236789120: TensorSpec(shape=(), dtype=tf.resource, name=None)\n",
            "  133070236847088: TensorSpec(shape=(), dtype=tf.resource, name=None)\n",
            "  133070236849552: TensorSpec(shape=(), dtype=tf.resource, name=None)\n",
            "  133070236844976: TensorSpec(shape=(), dtype=tf.resource, name=None)\n",
            "  133070236848496: TensorSpec(shape=(), dtype=tf.resource, name=None)\n",
            "  133070236794224: TensorSpec(shape=(), dtype=tf.resource, name=None)\n",
            "  133070236854656: TensorSpec(shape=(), dtype=tf.resource, name=None)\n",
            "  133070236857120: TensorSpec(shape=(), dtype=tf.resource, name=None)\n",
            "  133070236853248: TensorSpec(shape=(), dtype=tf.resource, name=None)\n",
            "  133070236855888: TensorSpec(shape=(), dtype=tf.resource, name=None)\n",
            "  133070236845680: TensorSpec(shape=(), dtype=tf.resource, name=None)\n",
            "  133070236929360: TensorSpec(shape=(), dtype=tf.resource, name=None)\n",
            "  133070236926896: TensorSpec(shape=(), dtype=tf.resource, name=None)\n",
            "  133070236926016: TensorSpec(shape=(), dtype=tf.resource, name=None)\n",
            "  133070236929536: TensorSpec(shape=(), dtype=tf.resource, name=None)\n",
            "  133070236937808: TensorSpec(shape=(), dtype=tf.resource, name=None)\n",
            "  133070236936752: TensorSpec(shape=(), dtype=tf.resource, name=None)\n",
            "  133070236939392: TensorSpec(shape=(), dtype=tf.resource, name=None)\n",
            "  133070236926192: TensorSpec(shape=(), dtype=tf.resource, name=None)\n",
            "  133070236937280: TensorSpec(shape=(), dtype=tf.resource, name=None)\n",
            "  133070236933408: TensorSpec(shape=(), dtype=tf.resource, name=None)\n",
            "  133070237028016: TensorSpec(shape=(), dtype=tf.resource, name=None)\n",
            "  133070237025552: TensorSpec(shape=(), dtype=tf.resource, name=None)\n",
            "  133070237024672: TensorSpec(shape=(), dtype=tf.resource, name=None)\n",
            "  133070237028192: TensorSpec(shape=(), dtype=tf.resource, name=None)\n",
            "  133070236794400: TensorSpec(shape=(), dtype=tf.resource, name=None)\n",
            "  133070237036112: TensorSpec(shape=(), dtype=tf.resource, name=None)\n",
            "  133070237036816: TensorSpec(shape=(), dtype=tf.resource, name=None)\n",
            "  133070237031360: TensorSpec(shape=(), dtype=tf.resource, name=None)\n",
            "  133070237034000: TensorSpec(shape=(), dtype=tf.resource, name=None)\n",
            "  133070237039632: TensorSpec(shape=(), dtype=tf.resource, name=None)\n",
            "  133070237074880: TensorSpec(shape=(), dtype=tf.resource, name=None)\n",
            "  133070237074352: TensorSpec(shape=(), dtype=tf.resource, name=None)\n",
            "  133070237076640: TensorSpec(shape=(), dtype=tf.resource, name=None)\n",
            "  133070237076288: TensorSpec(shape=(), dtype=tf.resource, name=None)\n",
            "  133070237038400: TensorSpec(shape=(), dtype=tf.resource, name=None)\n",
            "  133070237082624: TensorSpec(shape=(), dtype=tf.resource, name=None)\n",
            "  133070237085088: TensorSpec(shape=(), dtype=tf.resource, name=None)\n",
            "  133070237081216: TensorSpec(shape=(), dtype=tf.resource, name=None)\n",
            "  133070237083856: TensorSpec(shape=(), dtype=tf.resource, name=None)\n",
            "  133070237075760: TensorSpec(shape=(), dtype=tf.resource, name=None)\n",
            "  133070237157328: TensorSpec(shape=(), dtype=tf.resource, name=None)\n",
            "  133070237155392: TensorSpec(shape=(), dtype=tf.resource, name=None)\n",
            "  133070237089136: TensorSpec(shape=(), dtype=tf.resource, name=None)\n",
            "  133070237157504: TensorSpec(shape=(), dtype=tf.resource, name=None)\n",
            "  133070237164368: TensorSpec(shape=(), dtype=tf.resource, name=None)\n",
            "  133070237163312: TensorSpec(shape=(), dtype=tf.resource, name=None)\n",
            "  133070237165952: TensorSpec(shape=(), dtype=tf.resource, name=None)\n",
            "  133070237157856: TensorSpec(shape=(), dtype=tf.resource, name=None)\n",
            "  133070237163840: TensorSpec(shape=(), dtype=tf.resource, name=None)\n",
            "  133070237168944: TensorSpec(shape=(), dtype=tf.resource, name=None)\n",
            "  133070237162256: TensorSpec(shape=(), dtype=tf.resource, name=None)\n",
            "  133070237167712: TensorSpec(shape=(), dtype=tf.resource, name=None)\n",
            "  133070237170000: TensorSpec(shape=(), dtype=tf.resource, name=None)\n",
            "  133070237270608: TensorSpec(shape=(), dtype=tf.resource, name=None)\n",
            "  133070237038576: TensorSpec(shape=(), dtype=tf.resource, name=None)\n",
            "  133070237278528: TensorSpec(shape=(), dtype=tf.resource, name=None)\n",
            "  133070237279584: TensorSpec(shape=(), dtype=tf.resource, name=None)\n",
            "  133070237275712: TensorSpec(shape=(), dtype=tf.resource, name=None)\n",
            "  133070237278352: TensorSpec(shape=(), dtype=tf.resource, name=None)\n",
            "  133070237285568: TensorSpec(shape=(), dtype=tf.resource, name=None)\n",
            "  133070237282048: TensorSpec(shape=(), dtype=tf.resource, name=None)\n",
            "  133070237281696: TensorSpec(shape=(), dtype=tf.resource, name=None)\n",
            "  133070237282752: TensorSpec(shape=(), dtype=tf.resource, name=None)\n",
            "  133070237285744: TensorSpec(shape=(), dtype=tf.resource, name=None)\n",
            "  133070237281168: TensorSpec(shape=(), dtype=tf.resource, name=None)\n",
            "  133070237310240: TensorSpec(shape=(), dtype=tf.resource, name=None)\n",
            "  133070237311296: TensorSpec(shape=(), dtype=tf.resource, name=None)\n",
            "  133070237307424: TensorSpec(shape=(), dtype=tf.resource, name=None)\n",
            "  133070237310064: TensorSpec(shape=(), dtype=tf.resource, name=None)\n",
            "  133070237160144: TensorSpec(shape=(), dtype=tf.resource, name=None)\n",
            "  133070237315168: TensorSpec(shape=(), dtype=tf.resource, name=None)\n",
            "  133070237317632: TensorSpec(shape=(), dtype=tf.resource, name=None)\n",
            "  133070237313760: TensorSpec(shape=(), dtype=tf.resource, name=None)\n",
            "  133070237316400: TensorSpec(shape=(), dtype=tf.resource, name=None)\n",
            "  133070237317808: TensorSpec(shape=(), dtype=tf.resource, name=None)\n",
            "  133070235668144: TensorSpec(shape=(), dtype=tf.resource, name=None)\n",
            "  133070236479760: TensorSpec(shape=(), dtype=tf.resource, name=None)\n",
            "  133070235666032: TensorSpec(shape=(), dtype=tf.resource, name=None)\n"
          ]
        }
      ],
      "source": [
        "converter = tf.lite.TFLiteConverter.from_keras_model(model)\n",
        "tflite_model = converter.convert()\n",
        "\n",
        "with open('mobilenet_v2_1.0_224.tflite', 'wb') as f:\n",
        "  f.write(tflite_model)"
      ]
    },
    {
      "cell_type": "markdown",
      "metadata": {
        "id": "Dmyzpcm0rAXh"
      },
      "source": [
        "Namun, file `.tflite` ini masih menggunakan nilai floating-point untuk data parameter, dan kita perlu mengkuantisasi model sepenuhnya ke format int8.\n",
        "\n",
        "Untuk mengkuantisasi model sepenuhnya, kita perlu melakukan [kuantisasi pasca-pelatihan](https://www.tensorflow.org/lite/ Performance/post_training_quantization) dengan kumpulan data yang representatif, yang memerlukan beberapa argumen lagi untuk `TFLiteConverter`, dan fungsi yang membuat himpunan data yang mewakili himpunan data pelatihan.\n",
        "\n",
        "Jadi mari kita konversi lagi modelnya dengan kuantisasi pasca pelatihan:"
      ]
    },
    {
      "cell_type": "code",
      "execution_count": 23,
      "metadata": {
        "colab": {
          "base_uri": "https://localhost:8080/"
        },
        "id": "rQKgfXs7rAXi",
        "outputId": "98d787e5-63e7-49bf-9a6e-354563968cf5"
      },
      "outputs": [
        {
          "output_type": "stream",
          "name": "stdout",
          "text": [
            "Saved artifact at '/tmp/tmpk9jz3oxt'. The following endpoints are available:\n",
            "\n",
            "* Endpoint 'serve'\n",
            "  args_0 (POSITIONAL_ONLY): TensorSpec(shape=(None, 224, 224, 3), dtype=tf.float32, name='keras_tensor_154')\n",
            "Output Type:\n",
            "  TensorSpec(shape=(None, 2), dtype=tf.float32, name=None)\n",
            "Captures:\n",
            "  133070688200032: TensorSpec(shape=(), dtype=tf.resource, name=None)\n",
            "  133070263895312: TensorSpec(shape=(), dtype=tf.resource, name=None)\n",
            "  133070262734336: TensorSpec(shape=(), dtype=tf.resource, name=None)\n",
            "  133070264297680: TensorSpec(shape=(), dtype=tf.resource, name=None)\n",
            "  133070262730816: TensorSpec(shape=(), dtype=tf.resource, name=None)\n",
            "  133070264290288: TensorSpec(shape=(), dtype=tf.resource, name=None)\n",
            "  133070262741024: TensorSpec(shape=(), dtype=tf.resource, name=None)\n",
            "  133070262742080: TensorSpec(shape=(), dtype=tf.resource, name=None)\n",
            "  133070262738208: TensorSpec(shape=(), dtype=tf.resource, name=None)\n",
            "  133070262740848: TensorSpec(shape=(), dtype=tf.resource, name=None)\n",
            "  133070264290640: TensorSpec(shape=(), dtype=tf.resource, name=None)\n",
            "  133070262765168: TensorSpec(shape=(), dtype=tf.resource, name=None)\n",
            "  133070262763760: TensorSpec(shape=(), dtype=tf.resource, name=None)\n",
            "  133070262746128: TensorSpec(shape=(), dtype=tf.resource, name=None)\n",
            "  133070262765344: TensorSpec(shape=(), dtype=tf.resource, name=None)\n",
            "  133070262736448: TensorSpec(shape=(), dtype=tf.resource, name=None)\n",
            "  133070262769920: TensorSpec(shape=(), dtype=tf.resource, name=None)\n",
            "  133070262772384: TensorSpec(shape=(), dtype=tf.resource, name=None)\n",
            "  133070262768512: TensorSpec(shape=(), dtype=tf.resource, name=None)\n",
            "  133070262771152: TensorSpec(shape=(), dtype=tf.resource, name=None)\n",
            "  133070262779600: TensorSpec(shape=(), dtype=tf.resource, name=None)\n",
            "  133070262776080: TensorSpec(shape=(), dtype=tf.resource, name=None)\n",
            "  133070262775728: TensorSpec(shape=(), dtype=tf.resource, name=None)\n",
            "  133070262776784: TensorSpec(shape=(), dtype=tf.resource, name=None)\n",
            "  133070262778368: TensorSpec(shape=(), dtype=tf.resource, name=None)\n",
            "  133070262775200: TensorSpec(shape=(), dtype=tf.resource, name=None)\n",
            "  133070262869808: TensorSpec(shape=(), dtype=tf.resource, name=None)\n",
            "  133070262870864: TensorSpec(shape=(), dtype=tf.resource, name=None)\n",
            "  133070262866992: TensorSpec(shape=(), dtype=tf.resource, name=None)\n",
            "  133070262869632: TensorSpec(shape=(), dtype=tf.resource, name=None)\n",
            "  133070264296448: TensorSpec(shape=(), dtype=tf.resource, name=None)\n",
            "  133070262875968: TensorSpec(shape=(), dtype=tf.resource, name=None)\n",
            "  133070262877728: TensorSpec(shape=(), dtype=tf.resource, name=None)\n",
            "  133070262873152: TensorSpec(shape=(), dtype=tf.resource, name=None)\n",
            "  133070262875792: TensorSpec(shape=(), dtype=tf.resource, name=None)\n",
            "  133070262733632: TensorSpec(shape=(), dtype=tf.resource, name=None)\n",
            "  133070263062720: TensorSpec(shape=(), dtype=tf.resource, name=None)\n",
            "  133070263065360: TensorSpec(shape=(), dtype=tf.resource, name=None)\n",
            "  133070263061312: TensorSpec(shape=(), dtype=tf.resource, name=None)\n",
            "  133070263063248: TensorSpec(shape=(), dtype=tf.resource, name=None)\n",
            "  133070263071520: TensorSpec(shape=(), dtype=tf.resource, name=None)\n",
            "  133070263070464: TensorSpec(shape=(), dtype=tf.resource, name=None)\n",
            "  133070263072928: TensorSpec(shape=(), dtype=tf.resource, name=None)\n",
            "  133070263059376: TensorSpec(shape=(), dtype=tf.resource, name=None)\n",
            "  133070263071696: TensorSpec(shape=(), dtype=tf.resource, name=None)\n",
            "  133070265281072: TensorSpec(shape=(), dtype=tf.resource, name=None)\n",
            "  133070263144992: TensorSpec(shape=(), dtype=tf.resource, name=None)\n",
            "  133070263144640: TensorSpec(shape=(), dtype=tf.resource, name=None)\n",
            "  133070263142176: TensorSpec(shape=(), dtype=tf.resource, name=None)\n",
            "  133070263144816: TensorSpec(shape=(), dtype=tf.resource, name=None)\n",
            "  133070263153440: TensorSpec(shape=(), dtype=tf.resource, name=None)\n",
            "  133070263152384: TensorSpec(shape=(), dtype=tf.resource, name=None)\n",
            "  133070263155024: TensorSpec(shape=(), dtype=tf.resource, name=None)\n",
            "  133070263142528: TensorSpec(shape=(), dtype=tf.resource, name=None)\n",
            "  133070263152912: TensorSpec(shape=(), dtype=tf.resource, name=None)\n",
            "  133070263149040: TensorSpec(shape=(), dtype=tf.resource, name=None)\n",
            "  133070265693840: TensorSpec(shape=(), dtype=tf.resource, name=None)\n",
            "  133070262731344: TensorSpec(shape=(), dtype=tf.resource, name=None)\n",
            "  133070265437696: TensorSpec(shape=(), dtype=tf.resource, name=None)\n",
            "  133070262733104: TensorSpec(shape=(), dtype=tf.resource, name=None)\n",
            "  133070265285824: TensorSpec(shape=(), dtype=tf.resource, name=None)\n",
            "  133070263208592: TensorSpec(shape=(), dtype=tf.resource, name=None)\n",
            "  133070264303312: TensorSpec(shape=(), dtype=tf.resource, name=None)\n",
            "  133070264298560: TensorSpec(shape=(), dtype=tf.resource, name=None)\n",
            "  133070263206832: TensorSpec(shape=(), dtype=tf.resource, name=None)\n",
            "  133070263214752: TensorSpec(shape=(), dtype=tf.resource, name=None)\n",
            "  133070263213696: TensorSpec(shape=(), dtype=tf.resource, name=None)\n",
            "  133070263216336: TensorSpec(shape=(), dtype=tf.resource, name=None)\n",
            "  133070263212288: TensorSpec(shape=(), dtype=tf.resource, name=None)\n",
            "  133070263214224: TensorSpec(shape=(), dtype=tf.resource, name=None)\n",
            "  133070263219504: TensorSpec(shape=(), dtype=tf.resource, name=None)\n",
            "  133070263140416: TensorSpec(shape=(), dtype=tf.resource, name=None)\n",
            "  133070283360560: TensorSpec(shape=(), dtype=tf.resource, name=None)\n",
            "  133070263220560: TensorSpec(shape=(), dtype=tf.resource, name=None)\n",
            "  133070263288400: TensorSpec(shape=(), dtype=tf.resource, name=None)\n",
            "  133070264291520: TensorSpec(shape=(), dtype=tf.resource, name=None)\n",
            "  133070263296320: TensorSpec(shape=(), dtype=tf.resource, name=None)\n",
            "  133070263297376: TensorSpec(shape=(), dtype=tf.resource, name=None)\n",
            "  133070263293504: TensorSpec(shape=(), dtype=tf.resource, name=None)\n",
            "  133070263296144: TensorSpec(shape=(), dtype=tf.resource, name=None)\n",
            "  133070263303360: TensorSpec(shape=(), dtype=tf.resource, name=None)\n",
            "  133070263299840: TensorSpec(shape=(), dtype=tf.resource, name=None)\n",
            "  133070263299488: TensorSpec(shape=(), dtype=tf.resource, name=None)\n",
            "  133070263300544: TensorSpec(shape=(), dtype=tf.resource, name=None)\n",
            "  133070263303536: TensorSpec(shape=(), dtype=tf.resource, name=None)\n",
            "  133070263298960: TensorSpec(shape=(), dtype=tf.resource, name=None)\n",
            "  133070263377184: TensorSpec(shape=(), dtype=tf.resource, name=None)\n",
            "  133070263378240: TensorSpec(shape=(), dtype=tf.resource, name=None)\n",
            "  133070263374368: TensorSpec(shape=(), dtype=tf.resource, name=None)\n",
            "  133070263377008: TensorSpec(shape=(), dtype=tf.resource, name=None)\n",
            "  133070264299792: TensorSpec(shape=(), dtype=tf.resource, name=None)\n",
            "  133070263383344: TensorSpec(shape=(), dtype=tf.resource, name=None)\n",
            "  133070263385808: TensorSpec(shape=(), dtype=tf.resource, name=None)\n",
            "  133070263381936: TensorSpec(shape=(), dtype=tf.resource, name=None)\n",
            "  133070263384576: TensorSpec(shape=(), dtype=tf.resource, name=None)\n",
            "  133070263382288: TensorSpec(shape=(), dtype=tf.resource, name=None)\n",
            "  133070263474256: TensorSpec(shape=(), dtype=tf.resource, name=None)\n",
            "  133070263476896: TensorSpec(shape=(), dtype=tf.resource, name=None)\n",
            "  133070263472848: TensorSpec(shape=(), dtype=tf.resource, name=None)\n",
            "  133070263474784: TensorSpec(shape=(), dtype=tf.resource, name=None)\n",
            "  133070263483056: TensorSpec(shape=(), dtype=tf.resource, name=None)\n",
            "  133070263482000: TensorSpec(shape=(), dtype=tf.resource, name=None)\n",
            "  133070263478480: TensorSpec(shape=(), dtype=tf.resource, name=None)\n",
            "  133070263470912: TensorSpec(shape=(), dtype=tf.resource, name=None)\n",
            "  133070263483232: TensorSpec(shape=(), dtype=tf.resource, name=None)\n",
            "  133070263299136: TensorSpec(shape=(), dtype=tf.resource, name=None)\n",
            "  133070263538912: TensorSpec(shape=(), dtype=tf.resource, name=None)\n",
            "  133070263539968: TensorSpec(shape=(), dtype=tf.resource, name=None)\n",
            "  133070263536096: TensorSpec(shape=(), dtype=tf.resource, name=None)\n",
            "  133070263538736: TensorSpec(shape=(), dtype=tf.resource, name=None)\n",
            "  133070263545952: TensorSpec(shape=(), dtype=tf.resource, name=None)\n",
            "  133070263544896: TensorSpec(shape=(), dtype=tf.resource, name=None)\n",
            "  133070263547536: TensorSpec(shape=(), dtype=tf.resource, name=None)\n",
            "  133070263536448: TensorSpec(shape=(), dtype=tf.resource, name=None)\n",
            "  133070263545424: TensorSpec(shape=(), dtype=tf.resource, name=None)\n",
            "  133070263541552: TensorSpec(shape=(), dtype=tf.resource, name=None)\n",
            "  133070263619776: TensorSpec(shape=(), dtype=tf.resource, name=None)\n",
            "  133070263620304: TensorSpec(shape=(), dtype=tf.resource, name=None)\n",
            "  133070263616432: TensorSpec(shape=(), dtype=tf.resource, name=None)\n",
            "  133070263619952: TensorSpec(shape=(), dtype=tf.resource, name=None)\n",
            "  133070263471088: TensorSpec(shape=(), dtype=tf.resource, name=None)\n",
            "  133070263625936: TensorSpec(shape=(), dtype=tf.resource, name=None)\n",
            "  133070263628400: TensorSpec(shape=(), dtype=tf.resource, name=None)\n",
            "  133070263624528: TensorSpec(shape=(), dtype=tf.resource, name=None)\n",
            "  133070263627168: TensorSpec(shape=(), dtype=tf.resource, name=None)\n",
            "  133070263631216: TensorSpec(shape=(), dtype=tf.resource, name=None)\n",
            "  133070263682496: TensorSpec(shape=(), dtype=tf.resource, name=None)\n",
            "  133070263681616: TensorSpec(shape=(), dtype=tf.resource, name=None)\n",
            "  133070263684784: TensorSpec(shape=(), dtype=tf.resource, name=None)\n",
            "  133070263684256: TensorSpec(shape=(), dtype=tf.resource, name=None)\n",
            "  133070263629984: TensorSpec(shape=(), dtype=tf.resource, name=None)\n",
            "  133070263690416: TensorSpec(shape=(), dtype=tf.resource, name=None)\n",
            "  133070263692880: TensorSpec(shape=(), dtype=tf.resource, name=None)\n",
            "  133070263689008: TensorSpec(shape=(), dtype=tf.resource, name=None)\n",
            "  133070263691648: TensorSpec(shape=(), dtype=tf.resource, name=None)\n",
            "  133070263681264: TensorSpec(shape=(), dtype=tf.resource, name=None)\n",
            "  133070236469376: TensorSpec(shape=(), dtype=tf.resource, name=None)\n",
            "  133070263218624: TensorSpec(shape=(), dtype=tf.resource, name=None)\n",
            "  133070263696928: TensorSpec(shape=(), dtype=tf.resource, name=None)\n",
            "  133070236469552: TensorSpec(shape=(), dtype=tf.resource, name=None)\n",
            "  133070236478176: TensorSpec(shape=(), dtype=tf.resource, name=None)\n",
            "  133070236502320: TensorSpec(shape=(), dtype=tf.resource, name=None)\n",
            "  133070236500736: TensorSpec(shape=(), dtype=tf.resource, name=None)\n",
            "  133070236500032: TensorSpec(shape=(), dtype=tf.resource, name=None)\n",
            "  133070236501616: TensorSpec(shape=(), dtype=tf.resource, name=None)\n",
            "  133070236481168: TensorSpec(shape=(), dtype=tf.resource, name=None)\n",
            "  133070236508128: TensorSpec(shape=(), dtype=tf.resource, name=None)\n",
            "  133070236510592: TensorSpec(shape=(), dtype=tf.resource, name=None)\n",
            "  133070236506720: TensorSpec(shape=(), dtype=tf.resource, name=None)\n",
            "  133070236509360: TensorSpec(shape=(), dtype=tf.resource, name=None)\n",
            "  133070236500384: TensorSpec(shape=(), dtype=tf.resource, name=None)\n",
            "  133070236507072: TensorSpec(shape=(), dtype=tf.resource, name=None)\n",
            "  133070236512352: TensorSpec(shape=(), dtype=tf.resource, name=None)\n",
            "  133070236514640: TensorSpec(shape=(), dtype=tf.resource, name=None)\n",
            "  133070236582480: TensorSpec(shape=(), dtype=tf.resource, name=None)\n",
            "  133070236515696: TensorSpec(shape=(), dtype=tf.resource, name=None)\n",
            "  133070236588816: TensorSpec(shape=(), dtype=tf.resource, name=None)\n",
            "  133070236591456: TensorSpec(shape=(), dtype=tf.resource, name=None)\n",
            "  133070236587408: TensorSpec(shape=(), dtype=tf.resource, name=None)\n",
            "  133070236589344: TensorSpec(shape=(), dtype=tf.resource, name=None)\n",
            "  133070236597616: TensorSpec(shape=(), dtype=tf.resource, name=None)\n",
            "  133070236587760: TensorSpec(shape=(), dtype=tf.resource, name=None)\n",
            "  133070236593040: TensorSpec(shape=(), dtype=tf.resource, name=None)\n",
            "  133070236594800: TensorSpec(shape=(), dtype=tf.resource, name=None)\n",
            "  133070236593568: TensorSpec(shape=(), dtype=tf.resource, name=None)\n",
            "  133070236480640: TensorSpec(shape=(), dtype=tf.resource, name=None)\n",
            "  133070236686240: TensorSpec(shape=(), dtype=tf.resource, name=None)\n",
            "  133070236687296: TensorSpec(shape=(), dtype=tf.resource, name=None)\n",
            "  133070236683424: TensorSpec(shape=(), dtype=tf.resource, name=None)\n",
            "  133070236686064: TensorSpec(shape=(), dtype=tf.resource, name=None)\n",
            "  133070236482400: TensorSpec(shape=(), dtype=tf.resource, name=None)\n",
            "  133070236691520: TensorSpec(shape=(), dtype=tf.resource, name=None)\n",
            "  133070236689936: TensorSpec(shape=(), dtype=tf.resource, name=None)\n",
            "  133070236690816: TensorSpec(shape=(), dtype=tf.resource, name=None)\n",
            "  133070236692928: TensorSpec(shape=(), dtype=tf.resource, name=None)\n",
            "  133070236689584: TensorSpec(shape=(), dtype=tf.resource, name=None)\n",
            "  133070236784016: TensorSpec(shape=(), dtype=tf.resource, name=None)\n",
            "  133070236785072: TensorSpec(shape=(), dtype=tf.resource, name=None)\n",
            "  133070236781200: TensorSpec(shape=(), dtype=tf.resource, name=None)\n",
            "  133070236783840: TensorSpec(shape=(), dtype=tf.resource, name=None)\n",
            "  133070236481344: TensorSpec(shape=(), dtype=tf.resource, name=None)\n",
            "  133070236790176: TensorSpec(shape=(), dtype=tf.resource, name=None)\n",
            "  133070236792640: TensorSpec(shape=(), dtype=tf.resource, name=None)\n",
            "  133070236788768: TensorSpec(shape=(), dtype=tf.resource, name=None)\n",
            "  133070236791408: TensorSpec(shape=(), dtype=tf.resource, name=None)\n",
            "  133070236789120: TensorSpec(shape=(), dtype=tf.resource, name=None)\n",
            "  133070236847088: TensorSpec(shape=(), dtype=tf.resource, name=None)\n",
            "  133070236849552: TensorSpec(shape=(), dtype=tf.resource, name=None)\n",
            "  133070236844976: TensorSpec(shape=(), dtype=tf.resource, name=None)\n",
            "  133070236848496: TensorSpec(shape=(), dtype=tf.resource, name=None)\n",
            "  133070236794224: TensorSpec(shape=(), dtype=tf.resource, name=None)\n",
            "  133070236854656: TensorSpec(shape=(), dtype=tf.resource, name=None)\n",
            "  133070236857120: TensorSpec(shape=(), dtype=tf.resource, name=None)\n",
            "  133070236853248: TensorSpec(shape=(), dtype=tf.resource, name=None)\n",
            "  133070236855888: TensorSpec(shape=(), dtype=tf.resource, name=None)\n",
            "  133070236845680: TensorSpec(shape=(), dtype=tf.resource, name=None)\n",
            "  133070236929360: TensorSpec(shape=(), dtype=tf.resource, name=None)\n",
            "  133070236926896: TensorSpec(shape=(), dtype=tf.resource, name=None)\n",
            "  133070236926016: TensorSpec(shape=(), dtype=tf.resource, name=None)\n",
            "  133070236929536: TensorSpec(shape=(), dtype=tf.resource, name=None)\n",
            "  133070236937808: TensorSpec(shape=(), dtype=tf.resource, name=None)\n",
            "  133070236936752: TensorSpec(shape=(), dtype=tf.resource, name=None)\n",
            "  133070236939392: TensorSpec(shape=(), dtype=tf.resource, name=None)\n",
            "  133070236926192: TensorSpec(shape=(), dtype=tf.resource, name=None)\n",
            "  133070236937280: TensorSpec(shape=(), dtype=tf.resource, name=None)\n",
            "  133070236933408: TensorSpec(shape=(), dtype=tf.resource, name=None)\n",
            "  133070237028016: TensorSpec(shape=(), dtype=tf.resource, name=None)\n",
            "  133070237025552: TensorSpec(shape=(), dtype=tf.resource, name=None)\n",
            "  133070237024672: TensorSpec(shape=(), dtype=tf.resource, name=None)\n",
            "  133070237028192: TensorSpec(shape=(), dtype=tf.resource, name=None)\n",
            "  133070236794400: TensorSpec(shape=(), dtype=tf.resource, name=None)\n",
            "  133070237036112: TensorSpec(shape=(), dtype=tf.resource, name=None)\n",
            "  133070237036816: TensorSpec(shape=(), dtype=tf.resource, name=None)\n",
            "  133070237031360: TensorSpec(shape=(), dtype=tf.resource, name=None)\n",
            "  133070237034000: TensorSpec(shape=(), dtype=tf.resource, name=None)\n",
            "  133070237039632: TensorSpec(shape=(), dtype=tf.resource, name=None)\n",
            "  133070237074880: TensorSpec(shape=(), dtype=tf.resource, name=None)\n",
            "  133070237074352: TensorSpec(shape=(), dtype=tf.resource, name=None)\n",
            "  133070237076640: TensorSpec(shape=(), dtype=tf.resource, name=None)\n",
            "  133070237076288: TensorSpec(shape=(), dtype=tf.resource, name=None)\n",
            "  133070237038400: TensorSpec(shape=(), dtype=tf.resource, name=None)\n",
            "  133070237082624: TensorSpec(shape=(), dtype=tf.resource, name=None)\n",
            "  133070237085088: TensorSpec(shape=(), dtype=tf.resource, name=None)\n",
            "  133070237081216: TensorSpec(shape=(), dtype=tf.resource, name=None)\n",
            "  133070237083856: TensorSpec(shape=(), dtype=tf.resource, name=None)\n",
            "  133070237075760: TensorSpec(shape=(), dtype=tf.resource, name=None)\n",
            "  133070237157328: TensorSpec(shape=(), dtype=tf.resource, name=None)\n",
            "  133070237155392: TensorSpec(shape=(), dtype=tf.resource, name=None)\n",
            "  133070237089136: TensorSpec(shape=(), dtype=tf.resource, name=None)\n",
            "  133070237157504: TensorSpec(shape=(), dtype=tf.resource, name=None)\n",
            "  133070237164368: TensorSpec(shape=(), dtype=tf.resource, name=None)\n",
            "  133070237163312: TensorSpec(shape=(), dtype=tf.resource, name=None)\n",
            "  133070237165952: TensorSpec(shape=(), dtype=tf.resource, name=None)\n",
            "  133070237157856: TensorSpec(shape=(), dtype=tf.resource, name=None)\n",
            "  133070237163840: TensorSpec(shape=(), dtype=tf.resource, name=None)\n",
            "  133070237168944: TensorSpec(shape=(), dtype=tf.resource, name=None)\n",
            "  133070237162256: TensorSpec(shape=(), dtype=tf.resource, name=None)\n",
            "  133070237167712: TensorSpec(shape=(), dtype=tf.resource, name=None)\n",
            "  133070237170000: TensorSpec(shape=(), dtype=tf.resource, name=None)\n",
            "  133070237270608: TensorSpec(shape=(), dtype=tf.resource, name=None)\n",
            "  133070237038576: TensorSpec(shape=(), dtype=tf.resource, name=None)\n",
            "  133070237278528: TensorSpec(shape=(), dtype=tf.resource, name=None)\n",
            "  133070237279584: TensorSpec(shape=(), dtype=tf.resource, name=None)\n",
            "  133070237275712: TensorSpec(shape=(), dtype=tf.resource, name=None)\n",
            "  133070237278352: TensorSpec(shape=(), dtype=tf.resource, name=None)\n",
            "  133070237285568: TensorSpec(shape=(), dtype=tf.resource, name=None)\n",
            "  133070237282048: TensorSpec(shape=(), dtype=tf.resource, name=None)\n",
            "  133070237281696: TensorSpec(shape=(), dtype=tf.resource, name=None)\n",
            "  133070237282752: TensorSpec(shape=(), dtype=tf.resource, name=None)\n",
            "  133070237285744: TensorSpec(shape=(), dtype=tf.resource, name=None)\n",
            "  133070237281168: TensorSpec(shape=(), dtype=tf.resource, name=None)\n",
            "  133070237310240: TensorSpec(shape=(), dtype=tf.resource, name=None)\n",
            "  133070237311296: TensorSpec(shape=(), dtype=tf.resource, name=None)\n",
            "  133070237307424: TensorSpec(shape=(), dtype=tf.resource, name=None)\n",
            "  133070237310064: TensorSpec(shape=(), dtype=tf.resource, name=None)\n",
            "  133070237160144: TensorSpec(shape=(), dtype=tf.resource, name=None)\n",
            "  133070237315168: TensorSpec(shape=(), dtype=tf.resource, name=None)\n",
            "  133070237317632: TensorSpec(shape=(), dtype=tf.resource, name=None)\n",
            "  133070237313760: TensorSpec(shape=(), dtype=tf.resource, name=None)\n",
            "  133070237316400: TensorSpec(shape=(), dtype=tf.resource, name=None)\n",
            "  133070237317808: TensorSpec(shape=(), dtype=tf.resource, name=None)\n",
            "  133070235668144: TensorSpec(shape=(), dtype=tf.resource, name=None)\n",
            "  133070236479760: TensorSpec(shape=(), dtype=tf.resource, name=None)\n",
            "  133070235666032: TensorSpec(shape=(), dtype=tf.resource, name=None)\n"
          ]
        },
        {
          "output_type": "stream",
          "name": "stderr",
          "text": [
            "/usr/local/lib/python3.10/dist-packages/tensorflow/lite/python/convert.py:983: UserWarning: Statistics for quantized inputs were expected, but not specified; continuing anyway.\n",
            "  warnings.warn(\n"
          ]
        }
      ],
      "source": [
        "# A generator that provides a representative dataset\n",
        "def representative_data_gen():\n",
        "  dataset_list = tf.data.Dataset.list_files(PATH + '/train/*/*')\n",
        "  for i in range(100):\n",
        "    image = next(iter(dataset_list))\n",
        "    image = tf.io.read_file(image)\n",
        "    image = tf.io.decode_jpeg(image, channels=3)\n",
        "    image = tf.image.resize(image, [IMAGE_SIZE, IMAGE_SIZE])\n",
        "    image = tf.cast(image / 255., tf.float32)\n",
        "    image = tf.expand_dims(image, 0)\n",
        "    yield [image]\n",
        "\n",
        "converter = tf.lite.TFLiteConverter.from_keras_model(model)\n",
        "# This enables quantization\n",
        "converter.optimizations = [tf.lite.Optimize.DEFAULT]\n",
        "# This sets the representative dataset for quantization\n",
        "converter.representative_dataset = representative_data_gen\n",
        "# This ensures that if any ops can't be quantized, the converter throws an error\n",
        "converter.target_spec.supported_ops = [tf.lite.OpsSet.TFLITE_BUILTINS_INT8]\n",
        "# For full integer quantization, though supported types defaults to int8 only, we explicitly declare it for clarity.\n",
        "converter.target_spec.supported_types = [tf.int8]\n",
        "# These set the input and output tensors to uint8 (added in r2.3)\n",
        "converter.inference_input_type = tf.uint8\n",
        "converter.inference_output_type = tf.uint8\n",
        "tflite_model = converter.convert()\n",
        "\n",
        "with open('mobilenet_v2_1.0_224_quant.tflite', 'wb') as f:\n",
        "  f.write(tflite_model)"
      ]
    },
    {
      "cell_type": "markdown",
      "metadata": {
        "id": "ZPorkL7hrAXi"
      },
      "source": [
        "### Compare the accuracy\n"
      ]
    },
    {
      "cell_type": "markdown",
      "metadata": {
        "id": "m44Dd6MJrAXi"
      },
      "source": [
        "Jadi, sekarang kami memiliki model TensorFlow Lite yang terkuantisasi sepenuhnya. Untuk memastikan konversi berjalan dengan baik, mari kita evaluasi model mentah dan model TensorFlow Lite.\n",
        "\n",
        "Pertama periksa keakuratan model mentah:"
      ]
    },
    {
      "cell_type": "code",
      "execution_count": 24,
      "metadata": {
        "colab": {
          "base_uri": "https://localhost:8080/"
        },
        "id": "m2igZllprAXi",
        "outputId": "cb611973-6e38-4482-e742-5836529c9930"
      },
      "outputs": [
        {
          "output_type": "stream",
          "name": "stdout",
          "text": [
            "Raw model accuracy: 98.438%\n"
          ]
        }
      ],
      "source": [
        "batch_images, batch_labels = next(val_generator)\n",
        "\n",
        "logits = model(batch_images)\n",
        "prediction = np.argmax(logits, axis=1)\n",
        "truth = np.argmax(batch_labels, axis=1)\n",
        "\n",
        "keras_accuracy = tf.keras.metrics.Accuracy()\n",
        "keras_accuracy(prediction, truth)\n",
        "\n",
        "print(\"Raw model accuracy: {:.3%}\".format(keras_accuracy.result()))"
      ]
    },
    {
      "cell_type": "markdown",
      "metadata": {
        "id": "tiYmcbbzrAXi"
      },
      "source": [
        "Sekarang mari kita periksa keakuratan file `.tflite`, menggunakan kumpulan data yang sama.\n",
        "\n",
        "Namun, tidak ada API yang mudah digunakan untuk mengevaluasi keakuratan model TensorFlow Lite, sehingga kode ini menjalankan beberapa inferensi dan membandingkan prediksi dengan kebenaran dasar:"
      ]
    },
    {
      "cell_type": "code",
      "execution_count": 25,
      "metadata": {
        "colab": {
          "base_uri": "https://localhost:8080/"
        },
        "id": "e9KGnx5krAXi",
        "outputId": "085ab098-666f-4ceb-a392-d9d1ad2c5f91"
      },
      "outputs": [
        {
          "output_type": "stream",
          "name": "stdout",
          "text": [
            "Quant TF Lite accuracy: 96.875%\n"
          ]
        }
      ],
      "source": [
        "def set_input_tensor(interpreter, input):\n",
        "  input_details = interpreter.get_input_details()[0]\n",
        "  tensor_index = input_details['index']\n",
        "  input_tensor = interpreter.tensor(tensor_index)()[0]\n",
        "  # Inputs for the TFLite model must be uint8, so we quantize our input data.\n",
        "  # NOTE: This step is necessary only because we're receiving input data from\n",
        "  # ImageDataGenerator, which rescaled all image data to float [0,1]. When using\n",
        "  # bitmap inputs, they're already uint8 [0,255] so this can be replaced with:\n",
        "  #   input_tensor[:, :] = input\n",
        "  scale, zero_point = input_details['quantization']\n",
        "  input_tensor[:, :] = np.uint8(input / scale + zero_point)\n",
        "\n",
        "def classify_image(interpreter, input):\n",
        "  set_input_tensor(interpreter, input)\n",
        "  interpreter.invoke()\n",
        "  output_details = interpreter.get_output_details()[0]\n",
        "  output = interpreter.get_tensor(output_details['index'])\n",
        "  # Outputs from the TFLite model are uint8, so we dequantize the results:\n",
        "  scale, zero_point = output_details['quantization']\n",
        "  output = scale * (output - zero_point)\n",
        "  top_1 = np.argmax(output)\n",
        "  return top_1\n",
        "\n",
        "interpreter = tf.lite.Interpreter('mobilenet_v2_1.0_224_quant.tflite')\n",
        "interpreter.allocate_tensors()\n",
        "\n",
        "# Collect all inference predictions in a list\n",
        "batch_prediction = []\n",
        "batch_truth = np.argmax(batch_labels, axis=1)\n",
        "\n",
        "for i in range(len(batch_images)):\n",
        "  prediction = classify_image(interpreter, batch_images[i])\n",
        "  batch_prediction.append(prediction)\n",
        "\n",
        "# Compare all predictions to the ground truth\n",
        "tflite_accuracy = tf.keras.metrics.Accuracy()\n",
        "tflite_accuracy(batch_prediction, batch_truth)\n",
        "print(\"Quant TF Lite accuracy: {:.3%}\".format(tflite_accuracy.result()))\n"
      ]
    },
    {
      "cell_type": "markdown",
      "metadata": {
        "id": "nfN-wrk3rAXi"
      },
      "source": [
        "Anda mungkin melihat beberapa, namun semoga tidak terjadi penurunan akurasi yang terlalu besar antara model mentah dan model TensorFlow Lite. Namun sekali lagi, hasil ini tidak cocok untuk penerapan produksi."
      ]
    },
    {
      "cell_type": "markdown",
      "metadata": {
        "id": "-XspCFcErAXi"
      },
      "source": [
        "## Compile for the Edge TPU\n"
      ]
    },
    {
      "cell_type": "markdown",
      "metadata": {
        "id": "8OKQAvaJrAXi"
      },
      "source": [
        "Terakhir, kami siap mengkompilasi model untuk Edge TPU.\n",
        "\n",
        "Unduh terlebih dahulu [Edge TPU Compiler](https://coral.ai/docs/edgetpu/compiler/):"
      ]
    },
    {
      "cell_type": "code",
      "execution_count": 26,
      "metadata": {
        "colab": {
          "base_uri": "https://localhost:8080/"
        },
        "id": "INMIf021rAXi",
        "outputId": "dbc58cd9-b3c0-4716-bf2a-a7388d22e9da"
      },
      "outputs": [
        {
          "output_type": "stream",
          "name": "stdout",
          "text": [
            "  % Total    % Received % Xferd  Average Speed   Time    Time     Time  Current\n",
            "                                 Dload  Upload   Total   Spent    Left  Speed\n",
            "\r  0     0    0     0    0     0      0      0 --:--:-- --:--:-- --:--:--     0\r100  1022  100  1022    0     0   9879      0 --:--:-- --:--:-- --:--:--  9922\n",
            "Warning: apt-key is deprecated. Manage keyring files in trusted.gpg.d instead (see apt-key(8)).\n",
            "OK\n",
            "deb https://packages.cloud.google.com/apt coral-edgetpu-stable main\n",
            "Get:1 http://security.ubuntu.com/ubuntu jammy-security InRelease [129 kB]\n",
            "Hit:2 http://archive.ubuntu.com/ubuntu jammy InRelease\n",
            "Get:3 https://cloud.r-project.org/bin/linux/ubuntu jammy-cran40/ InRelease [3,626 B]\n",
            "Get:4 http://archive.ubuntu.com/ubuntu jammy-updates InRelease [128 kB]\n",
            "Get:5 https://packages.cloud.google.com/apt coral-edgetpu-stable InRelease [1,423 B]\n",
            "Get:6 https://r2u.stat.illinois.edu/ubuntu jammy InRelease [6,555 B]\n",
            "Get:7 http://archive.ubuntu.com/ubuntu jammy-backports InRelease [127 kB]\n",
            "Get:8 https://developer.download.nvidia.com/compute/cuda/repos/ubuntu2204/x86_64  InRelease [1,581 B]\n",
            "Get:9 http://security.ubuntu.com/ubuntu jammy-security/main amd64 Packages [2,517 kB]\n",
            "Hit:10 https://ppa.launchpadcontent.net/deadsnakes/ppa/ubuntu jammy InRelease\n",
            "Hit:11 https://ppa.launchpadcontent.net/graphics-drivers/ppa/ubuntu jammy InRelease\n",
            "Get:12 http://security.ubuntu.com/ubuntu jammy-security/universe amd64 Packages [1,226 kB]\n",
            "Get:13 http://security.ubuntu.com/ubuntu jammy-security/restricted amd64 Packages [3,448 kB]\n",
            "Hit:14 https://ppa.launchpadcontent.net/ubuntugis/ppa/ubuntu jammy InRelease\n",
            "Get:15 https://packages.cloud.google.com/apt coral-edgetpu-stable/main amd64 Packages [6,888 B]\n",
            "Get:16 http://archive.ubuntu.com/ubuntu jammy-updates/universe amd64 Packages [1,517 kB]\n",
            "Get:17 http://archive.ubuntu.com/ubuntu jammy-updates/restricted amd64 Packages [3,633 kB]\n",
            "Get:18 https://packages.cloud.google.com/apt coral-edgetpu-stable/main all Packages [1,865 B]\n",
            "Get:19 http://archive.ubuntu.com/ubuntu jammy-updates/main amd64 Packages [2,840 kB]\n",
            "Get:20 https://r2u.stat.illinois.edu/ubuntu jammy/main amd64 Packages [2,632 kB]\n",
            "Get:21 http://archive.ubuntu.com/ubuntu jammy-backports/main amd64 Packages [81.4 kB]\n",
            "Get:22 http://archive.ubuntu.com/ubuntu jammy-backports/universe amd64 Packages [33.8 kB]\n",
            "Get:23 https://r2u.stat.illinois.edu/ubuntu jammy/main all Packages [8,563 kB]\n",
            "Get:24 https://developer.download.nvidia.com/compute/cuda/repos/ubuntu2204/x86_64  Packages [1,197 kB]\n",
            "Fetched 28.1 MB in 3s (9,670 kB/s)\n",
            "Reading package lists... Done\n",
            "W: https://packages.cloud.google.com/apt/dists/coral-edgetpu-stable/InRelease: Key is stored in legacy trusted.gpg keyring (/etc/apt/trusted.gpg), see the DEPRECATION section in apt-key(8) for details.\n",
            "W: Skipping acquire of configured file 'main/source/Sources' as repository 'https://r2u.stat.illinois.edu/ubuntu jammy InRelease' does not seem to provide it (sources.list entry misspelt?)\n",
            "Reading package lists... Done\n",
            "Building dependency tree... Done\n",
            "Reading state information... Done\n",
            "The following NEW packages will be installed:\n",
            "  edgetpu-compiler\n",
            "0 upgraded, 1 newly installed, 0 to remove and 55 not upgraded.\n",
            "Need to get 7,913 kB of archives.\n",
            "After this operation, 31.2 MB of additional disk space will be used.\n",
            "Get:1 https://packages.cloud.google.com/apt coral-edgetpu-stable/main amd64 edgetpu-compiler amd64 16.0 [7,913 kB]\n",
            "Fetched 7,913 kB in 1s (14.3 MB/s)\n",
            "debconf: unable to initialize frontend: Dialog\n",
            "debconf: (No usable dialog-like program is installed, so the dialog based frontend cannot be used. at /usr/share/perl5/Debconf/FrontEnd/Dialog.pm line 78, <> line 1.)\n",
            "debconf: falling back to frontend: Readline\n",
            "debconf: unable to initialize frontend: Readline\n",
            "debconf: (This frontend requires a controlling tty.)\n",
            "debconf: falling back to frontend: Teletype\n",
            "dpkg-preconfigure: unable to re-open stdin: \n",
            "Selecting previously unselected package edgetpu-compiler.\n",
            "(Reading database ... 123634 files and directories currently installed.)\n",
            "Preparing to unpack .../edgetpu-compiler_16.0_amd64.deb ...\n",
            "Unpacking edgetpu-compiler (16.0) ...\n",
            "Setting up edgetpu-compiler (16.0) ...\n",
            "Processing triggers for libc-bin (2.35-0ubuntu3.4) ...\n",
            "/sbin/ldconfig.real: /usr/local/lib/libtcm_debug.so.1 is not a symbolic link\n",
            "\n",
            "/sbin/ldconfig.real: /usr/local/lib/libur_loader.so.0 is not a symbolic link\n",
            "\n",
            "/sbin/ldconfig.real: /usr/local/lib/libhwloc.so.15 is not a symbolic link\n",
            "\n",
            "/sbin/ldconfig.real: /usr/local/lib/libumf.so.0 is not a symbolic link\n",
            "\n",
            "/sbin/ldconfig.real: /usr/local/lib/libtbbmalloc_proxy.so.2 is not a symbolic link\n",
            "\n",
            "/sbin/ldconfig.real: /usr/local/lib/libtbbbind_2_0.so.3 is not a symbolic link\n",
            "\n",
            "/sbin/ldconfig.real: /usr/local/lib/libtbbbind.so.3 is not a symbolic link\n",
            "\n",
            "/sbin/ldconfig.real: /usr/local/lib/libtbbmalloc.so.2 is not a symbolic link\n",
            "\n",
            "/sbin/ldconfig.real: /usr/local/lib/libtbb.so.12 is not a symbolic link\n",
            "\n",
            "/sbin/ldconfig.real: /usr/local/lib/libtbbbind_2_5.so.3 is not a symbolic link\n",
            "\n",
            "/sbin/ldconfig.real: /usr/local/lib/libtcm.so.1 is not a symbolic link\n",
            "\n",
            "/sbin/ldconfig.real: /usr/local/lib/libur_adapter_level_zero.so.0 is not a symbolic link\n",
            "\n",
            "/sbin/ldconfig.real: /usr/local/lib/libur_adapter_opencl.so.0 is not a symbolic link\n",
            "\n"
          ]
        }
      ],
      "source": [
        "! curl https://packages.cloud.google.com/apt/doc/apt-key.gpg | sudo apt-key add -\n",
        "\n",
        "! echo \"deb https://packages.cloud.google.com/apt coral-edgetpu-stable main\" | sudo tee /etc/apt/sources.list.d/coral-edgetpu.list\n",
        "\n",
        "! sudo apt-get update\n",
        "\n",
        "! sudo apt-get install edgetpu-compiler"
      ]
    },
    {
      "cell_type": "markdown",
      "metadata": {
        "id": "rAV0BS7-rAXi"
      },
      "source": [
        "Kemudian kompilasi modelnya:"
      ]
    },
    {
      "cell_type": "code",
      "execution_count": 27,
      "metadata": {
        "colab": {
          "base_uri": "https://localhost:8080/"
        },
        "id": "7PoPpRNzrAXi",
        "outputId": "205afd69-e35d-45be-cfc6-08d0786f5ff1"
      },
      "outputs": [
        {
          "output_type": "stream",
          "name": "stdout",
          "text": [
            "Edge TPU Compiler version 16.0.384591198\n",
            "Started a compilation timeout timer of 180 seconds.\n",
            "\n",
            "Model compiled successfully in 1483 ms.\n",
            "\n",
            "Input model: mobilenet_v2_1.0_224_quant.tflite\n",
            "Input size: 2.94MiB\n",
            "Output model: mobilenet_v2_1.0_224_quant_edgetpu.tflite\n",
            "Output size: 3.12MiB\n",
            "On-chip memory used for caching model parameters: 3.33MiB\n",
            "On-chip memory remaining for caching model parameters: 4.36MiB\n",
            "Off-chip memory used for streaming uncached model parameters: 0.00B\n",
            "Number of Edge TPU subgraphs: 1\n",
            "Total number of operations: 72\n",
            "Operation log: mobilenet_v2_1.0_224_quant_edgetpu.log\n",
            "See the operation log file for individual operation details.\n",
            "Compilation child process completed within timeout period.\n",
            "Compilation succeeded! \n"
          ]
        }
      ],
      "source": [
        "! edgetpu_compiler mobilenet_v2_1.0_224_quant.tflite"
      ]
    },
    {
      "cell_type": "markdown",
      "metadata": {
        "id": "GA7gfMyhrAXi"
      },
      "source": [
        "Itu saja.\n",
        "\n",
        "Model yang dikompilasi menggunakan nama file yang sama tetapi dengan tambahan \"_edgetpu\" di akhir."
      ]
    },
    {
      "cell_type": "markdown",
      "metadata": {
        "id": "6sXJl7mTrAXi"
      },
      "source": [
        "## Download the model"
      ]
    },
    {
      "cell_type": "markdown",
      "metadata": {
        "id": "cAOi_Kf-rAXi"
      },
      "source": [
        "Anda dapat mengunduh file model dan label yang dikonversi dari Colab seperti ini:"
      ]
    },
    {
      "cell_type": "code",
      "execution_count": 28,
      "metadata": {
        "colab": {
          "base_uri": "https://localhost:8080/",
          "height": 17
        },
        "id": "Uk9tPPRUrAXi",
        "outputId": "43385762-ffdd-4b0b-e931-6e9392fa6466"
      },
      "outputs": [
        {
          "output_type": "display_data",
          "data": {
            "text/plain": [
              "<IPython.core.display.Javascript object>"
            ],
            "application/javascript": [
              "\n",
              "    async function download(id, filename, size) {\n",
              "      if (!google.colab.kernel.accessAllowed) {\n",
              "        return;\n",
              "      }\n",
              "      const div = document.createElement('div');\n",
              "      const label = document.createElement('label');\n",
              "      label.textContent = `Downloading \"${filename}\": `;\n",
              "      div.appendChild(label);\n",
              "      const progress = document.createElement('progress');\n",
              "      progress.max = size;\n",
              "      div.appendChild(progress);\n",
              "      document.body.appendChild(div);\n",
              "\n",
              "      const buffers = [];\n",
              "      let downloaded = 0;\n",
              "\n",
              "      const channel = await google.colab.kernel.comms.open(id);\n",
              "      // Send a message to notify the kernel that we're ready.\n",
              "      channel.send({})\n",
              "\n",
              "      for await (const message of channel.messages) {\n",
              "        // Send a message to notify the kernel that we're ready.\n",
              "        channel.send({})\n",
              "        if (message.buffers) {\n",
              "          for (const buffer of message.buffers) {\n",
              "            buffers.push(buffer);\n",
              "            downloaded += buffer.byteLength;\n",
              "            progress.value = downloaded;\n",
              "          }\n",
              "        }\n",
              "      }\n",
              "      const blob = new Blob(buffers, {type: 'application/binary'});\n",
              "      const a = document.createElement('a');\n",
              "      a.href = window.URL.createObjectURL(blob);\n",
              "      a.download = filename;\n",
              "      div.appendChild(a);\n",
              "      a.click();\n",
              "      div.remove();\n",
              "    }\n",
              "  "
            ]
          },
          "metadata": {}
        },
        {
          "output_type": "display_data",
          "data": {
            "text/plain": [
              "<IPython.core.display.Javascript object>"
            ],
            "application/javascript": [
              "download(\"download_fcc91307-cca8-4c5e-8af7-c1e73e63523c\", \"mobilenet_v2_1.0_224_quant_edgetpu.tflite\", 3269248)"
            ]
          },
          "metadata": {}
        },
        {
          "output_type": "display_data",
          "data": {
            "text/plain": [
              "<IPython.core.display.Javascript object>"
            ],
            "application/javascript": [
              "\n",
              "    async function download(id, filename, size) {\n",
              "      if (!google.colab.kernel.accessAllowed) {\n",
              "        return;\n",
              "      }\n",
              "      const div = document.createElement('div');\n",
              "      const label = document.createElement('label');\n",
              "      label.textContent = `Downloading \"${filename}\": `;\n",
              "      div.appendChild(label);\n",
              "      const progress = document.createElement('progress');\n",
              "      progress.max = size;\n",
              "      div.appendChild(progress);\n",
              "      document.body.appendChild(div);\n",
              "\n",
              "      const buffers = [];\n",
              "      let downloaded = 0;\n",
              "\n",
              "      const channel = await google.colab.kernel.comms.open(id);\n",
              "      // Send a message to notify the kernel that we're ready.\n",
              "      channel.send({})\n",
              "\n",
              "      for await (const message of channel.messages) {\n",
              "        // Send a message to notify the kernel that we're ready.\n",
              "        channel.send({})\n",
              "        if (message.buffers) {\n",
              "          for (const buffer of message.buffers) {\n",
              "            buffers.push(buffer);\n",
              "            downloaded += buffer.byteLength;\n",
              "            progress.value = downloaded;\n",
              "          }\n",
              "        }\n",
              "      }\n",
              "      const blob = new Blob(buffers, {type: 'application/binary'});\n",
              "      const a = document.createElement('a');\n",
              "      a.href = window.URL.createObjectURL(blob);\n",
              "      a.download = filename;\n",
              "      div.appendChild(a);\n",
              "      a.click();\n",
              "      div.remove();\n",
              "    }\n",
              "  "
            ]
          },
          "metadata": {}
        },
        {
          "output_type": "display_data",
          "data": {
            "text/plain": [
              "<IPython.core.display.Javascript object>"
            ],
            "application/javascript": [
              "download(\"download_37befc96-81aa-4194-ab1a-3a7cc66b4b67\", \"catdogs_labels.txt\", 9)"
            ]
          },
          "metadata": {}
        }
      ],
      "source": [
        "from google.colab import files\n",
        "\n",
        "files.download('mobilenet_v2_1.0_224_quant_edgetpu.tflite')\n",
        "files.download('catdogs_labels.txt')"
      ]
    },
    {
      "cell_type": "markdown",
      "metadata": {
        "id": "bY9DbM-urAXj"
      },
      "source": [
        "Jika Anda mendapatkan pesan kesalahan \"Gagal mengambil\" di sini, mungkin karena file belum selesai disimpan. Jadi tunggu sebentar dan coba lagi.\n",
        "\n",
        "Perhatikan juga popup browser yang mungkin memerlukan persetujuan untuk mendownload file."
      ]
    },
    {
      "cell_type": "markdown",
      "metadata": {
        "id": "owQW2yGqrAXj"
      },
      "source": [
        "## Run the model on the Edge TPU\n",
        "\n",
        "\n"
      ]
    },
    {
      "cell_type": "markdown",
      "metadata": {
        "id": "wVP9gYKtrAXj"
      },
      "source": [
        "Anda sekarang dapat menjalankan model di perangkat Coral Anda dengan akselerasi di Edge TPU.\n",
        "\n",
        "Untuk memulai, coba gunakan model `.tflite` Anda dengan [kode ini untuk klasifikasi gambar dengan TensorFlow Lite API](https://github.com/google-coral/tflite/tree/master/python/examples/classification) .\n",
        "\n",
        "Cukup ikuti petunjuk di halaman tersebut untuk menyiapkan perangkat Anda, salin file `mobilenet_v2_1.0_224_quant_edgetpu.tflite` dan `flower_labels.txt` ke Coral Dev Board atau perangkat Anda dengan Coral Accelerator, dan berikan foto bunga seperti ini:\n",
        "\n",
        "```\n",
        "python3 classify_image.py \\\n",
        "  --model mobilenet_v2_1.0_224_quant_edgetpu.tflite \\\n",
        "  --label bunga_labels.txt \\\n",
        "  --masukan bunga.jpg\n",
        "```\n",
        "\n",
        "Buku catatan ini mendapat referensi dari [coral.ai/examples](https://coral.ai/examples/#code-examples/). Periksa lebih banyak contoh di sana"
      ]
    },
    {
      "cell_type": "markdown",
      "metadata": {
        "id": "02MxhCyFmpzn"
      },
      "source": [
        "Untuk melakukan kuantisasi pada tensor masukan dan keluaran, Anda harus menggunakan API `TFLiteConverter`, yang dapat diakses dalam versi TensorFlow yang sama dengan atau lebih besar dari 2.3."
      ]
    },
    {
      "cell_type": "code",
      "execution_count": 29,
      "metadata": {
        "id": "iBMcobPHdD8O"
      },
      "outputs": [],
      "source": [
        "import tensorflow as tf\n",
        "import os\n",
        "import numpy as np\n",
        "import matplotlib.pyplot as plt"
      ]
    },
    {
      "cell_type": "markdown",
      "metadata": {
        "id": "v77rlkCKW0IJ"
      },
      "source": [
        "## Prepare the training data"
      ]
    },
    {
      "cell_type": "markdown",
      "metadata": {
        "id": "j4QOy2uA3P_p"
      },
      "source": [
        "Awalnya, kami akan mengunduh dan menyusun kumpulan data kucing & anjing yang dimaksudkan untuk melatih ulang model. Penting untuk memperhatikan bagian ini untuk replikasi di masa mendatang dengan kumpulan data gambar khusus Anda. Secara khusus, perhatikan bahwa direktori \"PATH\" disusun dengan direktori yang memuat nama yang sesuai untuk setiap kelas. Kode yang diberikan mengacak dan mempartisi foto ke dalam set pelatihan dan validasi, membuat file label yang berasal dari nama folder foto."
      ]
    },
    {
      "cell_type": "code",
      "execution_count": 30,
      "metadata": {
        "id": "xxL2mjVVGIrV"
      },
      "outputs": [],
      "source": [
        "_URL = 'https://storage.googleapis.com/mledu-datasets/cats_and_dogs_filtered.zip'\n",
        "path_to_zip = tf.keras.utils.get_file('cats_and_dogs.zip', origin=_URL, extract=True)\n",
        "PATH = os.path.join(os.path.dirname(path_to_zip), 'cats_and_dogs_filtered')\n",
        "\n",
        "train_dir = os.path.join(PATH, 'train')\n",
        "validation_dir = os.path.join(PATH, 'validation')"
      ]
    },
    {
      "cell_type": "code",
      "execution_count": 31,
      "metadata": {
        "id": "e1LBOHlOqL6X",
        "colab": {
          "base_uri": "https://localhost:8080/",
          "height": 35
        },
        "outputId": "0652e8d5-322f-4aa1-d53d-9578c071919e"
      },
      "outputs": [
        {
          "output_type": "execute_result",
          "data": {
            "text/plain": [
              "'/root/.keras/datasets/cats_and_dogs_filtered'"
            ],
            "application/vnd.google.colaboratory.intrinsic+json": {
              "type": "string"
            }
          },
          "metadata": {},
          "execution_count": 31
        }
      ],
      "source": [
        "PATH"
      ]
    },
    {
      "cell_type": "markdown",
      "metadata": {
        "id": "z4gTv7ig2vMh"
      },
      "source": [
        "Selanjutnya, kita menggunakan [`ImageDataGenerator`](https://www.tensorflow.org/api_docs/python/tf/keras/preprocessing/image/ImageDataGenerator) untuk mengubah skala data gambar menjadi nilai float (bagi dengan 255 sehingga nilai tensornya berada di antara 0 dan 1), dan panggil `flow_from_directory()` untuk membuat dua generator: satu untuk set data pelatihan dan satu lagi untuk set data validasi."
      ]
    },
    {
      "cell_type": "code",
      "execution_count": 32,
      "metadata": {
        "id": "fwEKSBGz0mse",
        "colab": {
          "base_uri": "https://localhost:8080/"
        },
        "outputId": "4bdc9ef5-ece5-4975-a8f3-2d452b46f861"
      },
      "outputs": [
        {
          "output_type": "stream",
          "name": "stdout",
          "text": [
            "Found 2000 images belonging to 2 classes.\n",
            "Found 1000 images belonging to 2 classes.\n"
          ]
        }
      ],
      "source": [
        "IMAGE_SIZE = 224\n",
        "BATCH_SIZE = 64\n",
        "\n",
        "train_datagen = tf.keras.preprocessing.image.ImageDataGenerator(rescale=1./255)\n",
        "val_datagen = tf.keras.preprocessing.image.ImageDataGenerator(rescale=1./255)\n",
        "\n",
        "train_generator = train_datagen.flow_from_directory(\n",
        "    train_dir,\n",
        "    target_size=(IMAGE_SIZE, IMAGE_SIZE),\n",
        "    batch_size=BATCH_SIZE,\n",
        "    class_mode='categorical'  # Change if you have a different problem (e.g., binary)\n",
        ")\n",
        "\n",
        "val_generator = val_datagen.flow_from_directory(\n",
        "    validation_dir,\n",
        "    target_size=(IMAGE_SIZE, IMAGE_SIZE),\n",
        "    batch_size=BATCH_SIZE,\n",
        "    class_mode='categorical'  # Change if you have a different problem (e.g., binary)\n",
        ")"
      ]
    },
    {
      "cell_type": "markdown",
      "metadata": {
        "id": "VePDZC5Bh2mO"
      },
      "source": [
        "Pada setiap iterasi, generator ini menyediakan sekumpulan gambar dengan membaca gambar dari disk dan memprosesnya ke ukuran tensor yang sesuai (224 x 224). Outputnya adalah tupel (gambar, label). Misalnya, Anda dapat melihat bentuknya di sini:"
      ]
    },
    {
      "cell_type": "code",
      "execution_count": 33,
      "metadata": {
        "id": "tx1L7fxxWA_G",
        "colab": {
          "base_uri": "https://localhost:8080/"
        },
        "outputId": "dc56e14f-a28c-49a0-b0e9-32ba70e96fae"
      },
      "outputs": [
        {
          "output_type": "execute_result",
          "data": {
            "text/plain": [
              "((64, 224, 224, 3), (64, 2))"
            ]
          },
          "metadata": {},
          "execution_count": 33
        }
      ],
      "source": [
        "image_batch, label_batch = next(val_generator)\n",
        "image_batch.shape, label_batch.shape"
      ]
    },
    {
      "cell_type": "markdown",
      "metadata": {
        "id": "ZrFFcwUb3iK9"
      },
      "source": [
        "Sekarang simpan label kelas ke file teks:"
      ]
    },
    {
      "cell_type": "code",
      "execution_count": 34,
      "metadata": {
        "id": "-QFZIhWs4dsq",
        "colab": {
          "base_uri": "https://localhost:8080/"
        },
        "outputId": "b63e69b8-cbe5-4375-e092-973a66e54b68"
      },
      "outputs": [
        {
          "output_type": "stream",
          "name": "stdout",
          "text": [
            "{'cats': 0, 'dogs': 1}\n"
          ]
        }
      ],
      "source": [
        "print (train_generator.class_indices)\n",
        "\n",
        "labels = '\\n'.join(sorted(train_generator.class_indices.keys()))\n",
        "\n",
        "with open('catdogs_labels.txt', 'w') as f:\n",
        "  f.write(labels)"
      ]
    },
    {
      "cell_type": "code",
      "execution_count": 35,
      "metadata": {
        "id": "duxD_UDSOmng",
        "colab": {
          "base_uri": "https://localhost:8080/"
        },
        "outputId": "60243584-554d-4844-a69e-c2144f08a82d"
      },
      "outputs": [
        {
          "output_type": "stream",
          "name": "stdout",
          "text": [
            "cats\n",
            "dogs"
          ]
        }
      ],
      "source": [
        "!cat catdogs_labels.txt"
      ]
    },
    {
      "cell_type": "markdown",
      "metadata": {
        "id": "OkH-kazQecHB"
      },
      "source": [
        "## Bangun modelnya\n",
        "\n",
        "Sekarang, kita akan membangun model yang dirancang untuk pembelajaran transfer secara khusus pada lapisan akhir yang sepenuhnya terhubung.\n",
        "\n",
        "Dimulai dengan MobileNet V2 Keras sebagai model dasar, yang awalnya dilatih sebelumnya pada kumpulan data ImageNet (mencakup pelatihan untuk pengenalan 1.000 kelas). Ini memberi kami ekstraktor fitur luar biasa untuk klasifikasi gambar, memungkinkan kami untuk selanjutnya melatih lapisan klasifikasi baru yang disesuaikan dengan kumpulan data bunga kami."
      ]
    },
    {
      "cell_type": "code",
      "execution_count": 36,
      "metadata": {
        "id": "19IQ2gqneqmS"
      },
      "outputs": [],
      "source": [
        "IMG_SHAPE = (IMAGE_SIZE, IMAGE_SIZE, 3)\n",
        "\n",
        "# Create the base model from the pre-trained MobileNet V2\n",
        "base_model = tf.keras.applications.MobileNetV2(input_shape=IMG_SHAPE,\n",
        "                                              include_top=False,\n",
        "                                              weights='imagenet')\n",
        "base_model.trainable = False"
      ]
    },
    {
      "cell_type": "code",
      "execution_count": 37,
      "metadata": {
        "id": "eApvroIyn1K0"
      },
      "outputs": [],
      "source": [
        "model = tf.keras.Sequential([\n",
        "  base_model,\n",
        "  tf.keras.layers.Conv2D(filters=32, kernel_size=3, activation='relu'),\n",
        "  tf.keras.layers.Dropout(0.2),\n",
        "  tf.keras.layers.GlobalAveragePooling2D(),\n",
        "  tf.keras.layers.Dense(units=2, activation='softmax')\n",
        "])"
      ]
    },
    {
      "cell_type": "markdown",
      "metadata": {
        "id": "g0ylJXE_kRLi"
      },
      "source": [
        "### Konfigurasikan modelnya\n",
        "\n",
        "Meskipun metode ini disebut `kompilasi()`, pada dasarnya ini adalah langkah konfigurasi yang diperlukan sebelum kita dapat memulai pelatihan."
      ]
    },
    {
      "cell_type": "code",
      "execution_count": 38,
      "metadata": {
        "id": "RpR8HdyMhukJ"
      },
      "outputs": [],
      "source": [
        "model.compile(optimizer='adam',\n",
        "              loss='categorical_crossentropy',\n",
        "              metrics=['accuracy'])"
      ]
    },
    {
      "cell_type": "code",
      "execution_count": 39,
      "metadata": {
        "id": "I8ARiyMFsgbH",
        "colab": {
          "base_uri": "https://localhost:8080/",
          "height": 305
        },
        "outputId": "7265aa8f-6171-4713-ef28-dff3804cadee"
      },
      "outputs": [
        {
          "output_type": "display_data",
          "data": {
            "text/plain": [
              "\u001b[1mModel: \"sequential_1\"\u001b[0m\n"
            ],
            "text/html": [
              "<pre style=\"white-space:pre;overflow-x:auto;line-height:normal;font-family:Menlo,'DejaVu Sans Mono',consolas,'Courier New',monospace\"><span style=\"font-weight: bold\">Model: \"sequential_1\"</span>\n",
              "</pre>\n"
            ]
          },
          "metadata": {}
        },
        {
          "output_type": "display_data",
          "data": {
            "text/plain": [
              "┏━━━━━━━━━━━━━━━━━━━━━━━━━━━━━━━━━━━━━━┳━━━━━━━━━━━━━━━━━━━━━━━━━━━━━┳━━━━━━━━━━━━━━━━━┓\n",
              "┃\u001b[1m \u001b[0m\u001b[1mLayer (type)                        \u001b[0m\u001b[1m \u001b[0m┃\u001b[1m \u001b[0m\u001b[1mOutput Shape               \u001b[0m\u001b[1m \u001b[0m┃\u001b[1m \u001b[0m\u001b[1m        Param #\u001b[0m\u001b[1m \u001b[0m┃\n",
              "┡━━━━━━━━━━━━━━━━━━━━━━━━━━━━━━━━━━━━━━╇━━━━━━━━━━━━━━━━━━━━━━━━━━━━━╇━━━━━━━━━━━━━━━━━┩\n",
              "│ mobilenetv2_1.00_224 (\u001b[38;5;33mFunctional\u001b[0m)    │ (\u001b[38;5;45mNone\u001b[0m, \u001b[38;5;34m7\u001b[0m, \u001b[38;5;34m7\u001b[0m, \u001b[38;5;34m1280\u001b[0m)          │       \u001b[38;5;34m2,257,984\u001b[0m │\n",
              "├──────────────────────────────────────┼─────────────────────────────┼─────────────────┤\n",
              "│ conv2d_1 (\u001b[38;5;33mConv2D\u001b[0m)                    │ (\u001b[38;5;45mNone\u001b[0m, \u001b[38;5;34m5\u001b[0m, \u001b[38;5;34m5\u001b[0m, \u001b[38;5;34m32\u001b[0m)            │         \u001b[38;5;34m368,672\u001b[0m │\n",
              "├──────────────────────────────────────┼─────────────────────────────┼─────────────────┤\n",
              "│ dropout_1 (\u001b[38;5;33mDropout\u001b[0m)                  │ (\u001b[38;5;45mNone\u001b[0m, \u001b[38;5;34m5\u001b[0m, \u001b[38;5;34m5\u001b[0m, \u001b[38;5;34m32\u001b[0m)            │               \u001b[38;5;34m0\u001b[0m │\n",
              "├──────────────────────────────────────┼─────────────────────────────┼─────────────────┤\n",
              "│ global_average_pooling2d_1           │ (\u001b[38;5;45mNone\u001b[0m, \u001b[38;5;34m32\u001b[0m)                  │               \u001b[38;5;34m0\u001b[0m │\n",
              "│ (\u001b[38;5;33mGlobalAveragePooling2D\u001b[0m)             │                             │                 │\n",
              "├──────────────────────────────────────┼─────────────────────────────┼─────────────────┤\n",
              "│ dense_1 (\u001b[38;5;33mDense\u001b[0m)                      │ (\u001b[38;5;45mNone\u001b[0m, \u001b[38;5;34m2\u001b[0m)                   │              \u001b[38;5;34m66\u001b[0m │\n",
              "└──────────────────────────────────────┴─────────────────────────────┴─────────────────┘\n"
            ],
            "text/html": [
              "<pre style=\"white-space:pre;overflow-x:auto;line-height:normal;font-family:Menlo,'DejaVu Sans Mono',consolas,'Courier New',monospace\">┏━━━━━━━━━━━━━━━━━━━━━━━━━━━━━━━━━━━━━━┳━━━━━━━━━━━━━━━━━━━━━━━━━━━━━┳━━━━━━━━━━━━━━━━━┓\n",
              "┃<span style=\"font-weight: bold\"> Layer (type)                         </span>┃<span style=\"font-weight: bold\"> Output Shape                </span>┃<span style=\"font-weight: bold\">         Param # </span>┃\n",
              "┡━━━━━━━━━━━━━━━━━━━━━━━━━━━━━━━━━━━━━━╇━━━━━━━━━━━━━━━━━━━━━━━━━━━━━╇━━━━━━━━━━━━━━━━━┩\n",
              "│ mobilenetv2_1.00_224 (<span style=\"color: #0087ff; text-decoration-color: #0087ff\">Functional</span>)    │ (<span style=\"color: #00d7ff; text-decoration-color: #00d7ff\">None</span>, <span style=\"color: #00af00; text-decoration-color: #00af00\">7</span>, <span style=\"color: #00af00; text-decoration-color: #00af00\">7</span>, <span style=\"color: #00af00; text-decoration-color: #00af00\">1280</span>)          │       <span style=\"color: #00af00; text-decoration-color: #00af00\">2,257,984</span> │\n",
              "├──────────────────────────────────────┼─────────────────────────────┼─────────────────┤\n",
              "│ conv2d_1 (<span style=\"color: #0087ff; text-decoration-color: #0087ff\">Conv2D</span>)                    │ (<span style=\"color: #00d7ff; text-decoration-color: #00d7ff\">None</span>, <span style=\"color: #00af00; text-decoration-color: #00af00\">5</span>, <span style=\"color: #00af00; text-decoration-color: #00af00\">5</span>, <span style=\"color: #00af00; text-decoration-color: #00af00\">32</span>)            │         <span style=\"color: #00af00; text-decoration-color: #00af00\">368,672</span> │\n",
              "├──────────────────────────────────────┼─────────────────────────────┼─────────────────┤\n",
              "│ dropout_1 (<span style=\"color: #0087ff; text-decoration-color: #0087ff\">Dropout</span>)                  │ (<span style=\"color: #00d7ff; text-decoration-color: #00d7ff\">None</span>, <span style=\"color: #00af00; text-decoration-color: #00af00\">5</span>, <span style=\"color: #00af00; text-decoration-color: #00af00\">5</span>, <span style=\"color: #00af00; text-decoration-color: #00af00\">32</span>)            │               <span style=\"color: #00af00; text-decoration-color: #00af00\">0</span> │\n",
              "├──────────────────────────────────────┼─────────────────────────────┼─────────────────┤\n",
              "│ global_average_pooling2d_1           │ (<span style=\"color: #00d7ff; text-decoration-color: #00d7ff\">None</span>, <span style=\"color: #00af00; text-decoration-color: #00af00\">32</span>)                  │               <span style=\"color: #00af00; text-decoration-color: #00af00\">0</span> │\n",
              "│ (<span style=\"color: #0087ff; text-decoration-color: #0087ff\">GlobalAveragePooling2D</span>)             │                             │                 │\n",
              "├──────────────────────────────────────┼─────────────────────────────┼─────────────────┤\n",
              "│ dense_1 (<span style=\"color: #0087ff; text-decoration-color: #0087ff\">Dense</span>)                      │ (<span style=\"color: #00d7ff; text-decoration-color: #00d7ff\">None</span>, <span style=\"color: #00af00; text-decoration-color: #00af00\">2</span>)                   │              <span style=\"color: #00af00; text-decoration-color: #00af00\">66</span> │\n",
              "└──────────────────────────────────────┴─────────────────────────────┴─────────────────┘\n",
              "</pre>\n"
            ]
          },
          "metadata": {}
        },
        {
          "output_type": "display_data",
          "data": {
            "text/plain": [
              "\u001b[1m Total params: \u001b[0m\u001b[38;5;34m2,626,722\u001b[0m (10.02 MB)\n"
            ],
            "text/html": [
              "<pre style=\"white-space:pre;overflow-x:auto;line-height:normal;font-family:Menlo,'DejaVu Sans Mono',consolas,'Courier New',monospace\"><span style=\"font-weight: bold\"> Total params: </span><span style=\"color: #00af00; text-decoration-color: #00af00\">2,626,722</span> (10.02 MB)\n",
              "</pre>\n"
            ]
          },
          "metadata": {}
        },
        {
          "output_type": "display_data",
          "data": {
            "text/plain": [
              "\u001b[1m Trainable params: \u001b[0m\u001b[38;5;34m368,738\u001b[0m (1.41 MB)\n"
            ],
            "text/html": [
              "<pre style=\"white-space:pre;overflow-x:auto;line-height:normal;font-family:Menlo,'DejaVu Sans Mono',consolas,'Courier New',monospace\"><span style=\"font-weight: bold\"> Trainable params: </span><span style=\"color: #00af00; text-decoration-color: #00af00\">368,738</span> (1.41 MB)\n",
              "</pre>\n"
            ]
          },
          "metadata": {}
        },
        {
          "output_type": "display_data",
          "data": {
            "text/plain": [
              "\u001b[1m Non-trainable params: \u001b[0m\u001b[38;5;34m2,257,984\u001b[0m (8.61 MB)\n"
            ],
            "text/html": [
              "<pre style=\"white-space:pre;overflow-x:auto;line-height:normal;font-family:Menlo,'DejaVu Sans Mono',consolas,'Courier New',monospace\"><span style=\"font-weight: bold\"> Non-trainable params: </span><span style=\"color: #00af00; text-decoration-color: #00af00\">2,257,984</span> (8.61 MB)\n",
              "</pre>\n"
            ]
          },
          "metadata": {}
        }
      ],
      "source": [
        "model.summary()"
      ]
    },
    {
      "cell_type": "code",
      "execution_count": 40,
      "metadata": {
        "id": "krvBumovycVA",
        "colab": {
          "base_uri": "https://localhost:8080/"
        },
        "outputId": "530138ad-8048-40d8-fb50-ac8892b48c9c"
      },
      "outputs": [
        {
          "output_type": "stream",
          "name": "stdout",
          "text": [
            "Number of trainable weights = 4\n"
          ]
        }
      ],
      "source": [
        "print('Number of trainable weights = {}'.format(len(model.trainable_weights)))"
      ]
    },
    {
      "cell_type": "markdown",
      "metadata": {
        "id": "RxvgOYTDSWTx"
      },
      "source": [
        "## Train the model\n"
      ]
    },
    {
      "cell_type": "markdown",
      "metadata": {
        "id": "kBRNaOCCoA-P"
      },
      "source": [
        "Sekarang kita bisa melatih model menggunakan data yang disediakan oleh `train_generator` dan `val_generator` yang kita buat di awal.\n",
        "\n",
        "Ini akan memakan waktu kurang dari 10 menit."
      ]
    },
    {
      "cell_type": "code",
      "execution_count": 41,
      "metadata": {
        "id": "JsaRFlZ9B6WK",
        "colab": {
          "base_uri": "https://localhost:8080/"
        },
        "outputId": "09941c9c-ce0a-4e8b-a7cb-fad16bfbf78a"
      },
      "outputs": [
        {
          "output_type": "stream",
          "name": "stdout",
          "text": [
            "Epoch 1/10\n"
          ]
        },
        {
          "output_type": "stream",
          "name": "stderr",
          "text": [
            "/usr/local/lib/python3.10/dist-packages/keras/src/trainers/data_adapters/py_dataset_adapter.py:122: UserWarning: Your `PyDataset` class should call `super().__init__(**kwargs)` in its constructor. `**kwargs` can include `workers`, `use_multiprocessing`, `max_queue_size`. Do not pass these arguments to `fit()`, as they will be ignored.\n",
            "  self._warn_if_super_not_called()\n"
          ]
        },
        {
          "output_type": "stream",
          "name": "stdout",
          "text": [
            "\u001b[1m32/32\u001b[0m \u001b[32m━━━━━━━━━━━━━━━━━━━━\u001b[0m\u001b[37m\u001b[0m \u001b[1m136s\u001b[0m 4s/step - accuracy: 0.8655 - loss: 0.3511 - val_accuracy: 0.9800 - val_loss: 0.0464\n",
            "Epoch 2/10\n"
          ]
        },
        {
          "output_type": "stream",
          "name": "stderr",
          "text": [
            "/usr/lib/python3.10/contextlib.py:153: UserWarning: Your input ran out of data; interrupting training. Make sure that your dataset or generator can generate at least `steps_per_epoch * epochs` batches. You may need to use the `.repeat()` function when building your dataset.\n",
            "  self.gen.throw(typ, value, traceback)\n"
          ]
        },
        {
          "output_type": "stream",
          "name": "stdout",
          "text": [
            "\r\u001b[1m32/32\u001b[0m \u001b[32m━━━━━━━━━━━━━━━━━━━━\u001b[0m\u001b[37m\u001b[0m \u001b[1m39s\u001b[0m 1s/step - accuracy: 0.0000e+00 - loss: 0.0000e+00\n",
            "Epoch 3/10\n",
            "\u001b[1m32/32\u001b[0m \u001b[32m━━━━━━━━━━━━━━━━━━━━\u001b[0m\u001b[37m\u001b[0m \u001b[1m129s\u001b[0m 4s/step - accuracy: 0.9847 - loss: 0.0424 - val_accuracy: 0.9810 - val_loss: 0.0504\n",
            "Epoch 4/10\n",
            "\u001b[1m32/32\u001b[0m \u001b[32m━━━━━━━━━━━━━━━━━━━━\u001b[0m\u001b[37m\u001b[0m \u001b[1m0s\u001b[0m 1ms/step - accuracy: 0.0000e+00 - loss: 0.0000e+00\n",
            "Epoch 5/10\n",
            "\u001b[1m32/32\u001b[0m \u001b[32m━━━━━━━━━━━━━━━━━━━━\u001b[0m\u001b[37m\u001b[0m \u001b[1m137s\u001b[0m 4s/step - accuracy: 0.9912 - loss: 0.0196 - val_accuracy: 0.9850 - val_loss: 0.0614\n",
            "Epoch 6/10\n",
            "\u001b[1m32/32\u001b[0m \u001b[32m━━━━━━━━━━━━━━━━━━━━\u001b[0m\u001b[37m\u001b[0m \u001b[1m0s\u001b[0m 1ms/step - accuracy: 0.0000e+00 - loss: 0.0000e+00\n",
            "Epoch 7/10\n",
            "\u001b[1m32/32\u001b[0m \u001b[32m━━━━━━━━━━━━━━━━━━━━\u001b[0m\u001b[37m\u001b[0m \u001b[1m135s\u001b[0m 4s/step - accuracy: 0.9961 - loss: 0.0121 - val_accuracy: 0.9810 - val_loss: 0.0714\n",
            "Epoch 8/10\n",
            "\u001b[1m32/32\u001b[0m \u001b[32m━━━━━━━━━━━━━━━━━━━━\u001b[0m\u001b[37m\u001b[0m \u001b[1m0s\u001b[0m 1ms/step - accuracy: 0.0000e+00 - loss: 0.0000e+00\n",
            "Epoch 9/10\n",
            "\u001b[1m32/32\u001b[0m \u001b[32m━━━━━━━━━━━━━━━━━━━━\u001b[0m\u001b[37m\u001b[0m \u001b[1m141s\u001b[0m 4s/step - accuracy: 1.0000 - loss: 0.0041 - val_accuracy: 0.9820 - val_loss: 0.0842\n",
            "Epoch 10/10\n",
            "\u001b[1m32/32\u001b[0m \u001b[32m━━━━━━━━━━━━━━━━━━━━\u001b[0m\u001b[37m\u001b[0m \u001b[1m0s\u001b[0m 1ms/step - accuracy: 0.0000e+00 - loss: 0.0000e+00\n"
          ]
        }
      ],
      "source": [
        "history = model.fit(train_generator,\n",
        "                    steps_per_epoch=len(train_generator),\n",
        "                    epochs=10,\n",
        "                    validation_data=val_generator,\n",
        "                    validation_steps=len(val_generator))"
      ]
    },
    {
      "cell_type": "markdown",
      "metadata": {
        "id": "Hd94CKImf8vi"
      },
      "source": [
        "### Plot"
      ]
    },
    {
      "cell_type": "code",
      "execution_count": 42,
      "metadata": {
        "id": "53OTCh3jnbwV",
        "colab": {
          "base_uri": "https://localhost:8080/",
          "height": 718
        },
        "outputId": "8c340356-6fa2-4328-fc4b-371e4b11915d"
      },
      "outputs": [
        {
          "output_type": "display_data",
          "data": {
            "text/plain": [
              "<Figure size 800x800 with 2 Axes>"
            ],
            "image/png": "[encoded data removed]"
          },
          "metadata": {}
        }
      ],
      "source": [
        "acc = history.history['accuracy']\n",
        "val_acc = history.history['val_accuracy']\n",
        "\n",
        "loss = history.history['loss']\n",
        "val_loss = history.history['val_loss']\n",
        "\n",
        "plt.figure(figsize=(8, 8))\n",
        "plt.subplot(2, 1, 1)\n",
        "plt.plot(acc, label='Training Accuracy')\n",
        "plt.plot(val_acc, label='Validation Accuracy')\n",
        "plt.legend(loc='lower right')\n",
        "plt.ylabel('Accuracy')\n",
        "plt.ylim([min(plt.ylim()),1])\n",
        "plt.title('Training and Validation Accuracy')\n",
        "\n",
        "plt.subplot(2, 1, 2)\n",
        "plt.plot(loss, label='Training Loss')\n",
        "plt.plot(val_loss, label='Validation Loss')\n",
        "plt.legend(loc='upper right')\n",
        "plt.ylabel('Cross Entropy')\n",
        "plt.ylim([0,1.0])\n",
        "plt.title('Training and Validation Loss')\n",
        "plt.xlabel('epoch')\n",
        "plt.show()"
      ]
    },
    {
      "cell_type": "markdown",
      "metadata": {
        "id": "CqwV-CRdS6Nv"
      },
      "source": [
        "## Fine tune the base model\n"
      ]
    },
    {
      "cell_type": "markdown",
      "metadata": {
        "id": "dBTEEnxv9X6J"
      },
      "source": [
        "Sejauh ini, pelatihan berfokus pada lapisan klasifikasi, dan bobot jaringan yang telah dilatih sebelumnya tetap *tidak berubah*.\n",
        "\n",
        "Untuk meningkatkan akurasi, salah satu pendekatan melibatkan pelatihan atau \"menyempurnakan\" lapisan tambahan dari model yang telah dilatih sebelumnya. Dengan kata lain, kami akan mencairkan lapisan tertentu dari model dasar dan mengubah bobotnya, yang awalnya dilatih pada 1.000 kelas ImageNet, agar lebih selaras dengan fitur yang ada di kumpulan data kucing & anjing kami."
      ]
    },
    {
      "cell_type": "markdown",
      "metadata": {
        "id": "CPXnzUK0QonF"
      },
      "source": [
        "### Un-freeze more layers\n"
      ]
    },
    {
      "cell_type": "markdown",
      "metadata": {
        "id": "rfxv_ifotQak"
      },
      "source": [
        "Jadi, alih-alih membekukan seluruh model dasar, kami akan membekukan setiap lapisan.\n",
        "\n",
        "Pertama, mari kita lihat berapa banyak lapisan dalam model dasar:"
      ]
    },
    {
      "cell_type": "code",
      "execution_count": 43,
      "metadata": {
        "id": "4nzcagVitLQm",
        "colab": {
          "base_uri": "https://localhost:8080/"
        },
        "outputId": "d592865f-e653-4535-941a-939f78b31944"
      },
      "outputs": [
        {
          "output_type": "stream",
          "name": "stdout",
          "text": [
            "Number of layers in the base model:  154\n"
          ]
        }
      ],
      "source": [
        "print(\"Number of layers in the base model: \", len(base_model.layers))"
      ]
    },
    {
      "cell_type": "markdown",
      "metadata": {
        "id": "dGcXdaQqASlC"
      },
      "source": [
        "Mari kita coba membekukan 100 lapisan terbawah saja."
      ]
    },
    {
      "cell_type": "code",
      "execution_count": 44,
      "metadata": {
        "id": "-4HgVAacRs5v"
      },
      "outputs": [],
      "source": [
        "base_model.trainable = True\n",
        "fine_tune_at = 100\n",
        "\n",
        "# Freeze all the layers before the `fine_tune_at` layer\n",
        "for layer in base_model.layers[:fine_tune_at]:\n",
        "  layer.trainable =  False"
      ]
    },
    {
      "cell_type": "markdown",
      "metadata": {
        "id": "4Uk1dgsxT0IS"
      },
      "source": [
        "### Konfigurasikan ulang model\n",
        "\n",
        "Sekarang konfigurasikan modelnya lagi, namun kali ini dengan kecepatan pemelajaran yang lebih rendah (defaultnya adalah 0,001)."
      ]
    },
    {
      "cell_type": "code",
      "execution_count": 45,
      "metadata": {
        "id": "NtUnaz0WUDva"
      },
      "outputs": [],
      "source": [
        "model.compile(optimizer=tf.keras.optimizers.Adam(1e-5),\n",
        "              loss='categorical_crossentropy',\n",
        "              metrics=['accuracy'])"
      ]
    },
    {
      "cell_type": "code",
      "execution_count": 46,
      "metadata": {
        "id": "WwBWy7J2kZvA",
        "colab": {
          "base_uri": "https://localhost:8080/",
          "height": 305
        },
        "outputId": "7784779c-8cf8-4c97-c419-ed4342d2b406"
      },
      "outputs": [
        {
          "output_type": "display_data",
          "data": {
            "text/plain": [
              "\u001b[1mModel: \"sequential_1\"\u001b[0m\n"
            ],
            "text/html": [
              "<pre style=\"white-space:pre;overflow-x:auto;line-height:normal;font-family:Menlo,'DejaVu Sans Mono',consolas,'Courier New',monospace\"><span style=\"font-weight: bold\">Model: \"sequential_1\"</span>\n",
              "</pre>\n"
            ]
          },
          "metadata": {}
        },
        {
          "output_type": "display_data",
          "data": {
            "text/plain": [
              "┏━━━━━━━━━━━━━━━━━━━━━━━━━━━━━━━━━━━━━━┳━━━━━━━━━━━━━━━━━━━━━━━━━━━━━┳━━━━━━━━━━━━━━━━━┓\n",
              "┃\u001b[1m \u001b[0m\u001b[1mLayer (type)                        \u001b[0m\u001b[1m \u001b[0m┃\u001b[1m \u001b[0m\u001b[1mOutput Shape               \u001b[0m\u001b[1m \u001b[0m┃\u001b[1m \u001b[0m\u001b[1m        Param #\u001b[0m\u001b[1m \u001b[0m┃\n",
              "┡━━━━━━━━━━━━━━━━━━━━━━━━━━━━━━━━━━━━━━╇━━━━━━━━━━━━━━━━━━━━━━━━━━━━━╇━━━━━━━━━━━━━━━━━┩\n",
              "│ mobilenetv2_1.00_224 (\u001b[38;5;33mFunctional\u001b[0m)    │ (\u001b[38;5;45mNone\u001b[0m, \u001b[38;5;34m7\u001b[0m, \u001b[38;5;34m7\u001b[0m, \u001b[38;5;34m1280\u001b[0m)          │       \u001b[38;5;34m2,257,984\u001b[0m │\n",
              "├──────────────────────────────────────┼─────────────────────────────┼─────────────────┤\n",
              "│ conv2d_1 (\u001b[38;5;33mConv2D\u001b[0m)                    │ (\u001b[38;5;45mNone\u001b[0m, \u001b[38;5;34m5\u001b[0m, \u001b[38;5;34m5\u001b[0m, \u001b[38;5;34m32\u001b[0m)            │         \u001b[38;5;34m368,672\u001b[0m │\n",
              "├──────────────────────────────────────┼─────────────────────────────┼─────────────────┤\n",
              "│ dropout_1 (\u001b[38;5;33mDropout\u001b[0m)                  │ (\u001b[38;5;45mNone\u001b[0m, \u001b[38;5;34m5\u001b[0m, \u001b[38;5;34m5\u001b[0m, \u001b[38;5;34m32\u001b[0m)            │               \u001b[38;5;34m0\u001b[0m │\n",
              "├──────────────────────────────────────┼─────────────────────────────┼─────────────────┤\n",
              "│ global_average_pooling2d_1           │ (\u001b[38;5;45mNone\u001b[0m, \u001b[38;5;34m32\u001b[0m)                  │               \u001b[38;5;34m0\u001b[0m │\n",
              "│ (\u001b[38;5;33mGlobalAveragePooling2D\u001b[0m)             │                             │                 │\n",
              "├──────────────────────────────────────┼─────────────────────────────┼─────────────────┤\n",
              "│ dense_1 (\u001b[38;5;33mDense\u001b[0m)                      │ (\u001b[38;5;45mNone\u001b[0m, \u001b[38;5;34m2\u001b[0m)                   │              \u001b[38;5;34m66\u001b[0m │\n",
              "└──────────────────────────────────────┴─────────────────────────────┴─────────────────┘\n"
            ],
            "text/html": [
              "<pre style=\"white-space:pre;overflow-x:auto;line-height:normal;font-family:Menlo,'DejaVu Sans Mono',consolas,'Courier New',monospace\">┏━━━━━━━━━━━━━━━━━━━━━━━━━━━━━━━━━━━━━━┳━━━━━━━━━━━━━━━━━━━━━━━━━━━━━┳━━━━━━━━━━━━━━━━━┓\n",
              "┃<span style=\"font-weight: bold\"> Layer (type)                         </span>┃<span style=\"font-weight: bold\"> Output Shape                </span>┃<span style=\"font-weight: bold\">         Param # </span>┃\n",
              "┡━━━━━━━━━━━━━━━━━━━━━━━━━━━━━━━━━━━━━━╇━━━━━━━━━━━━━━━━━━━━━━━━━━━━━╇━━━━━━━━━━━━━━━━━┩\n",
              "│ mobilenetv2_1.00_224 (<span style=\"color: #0087ff; text-decoration-color: #0087ff\">Functional</span>)    │ (<span style=\"color: #00d7ff; text-decoration-color: #00d7ff\">None</span>, <span style=\"color: #00af00; text-decoration-color: #00af00\">7</span>, <span style=\"color: #00af00; text-decoration-color: #00af00\">7</span>, <span style=\"color: #00af00; text-decoration-color: #00af00\">1280</span>)          │       <span style=\"color: #00af00; text-decoration-color: #00af00\">2,257,984</span> │\n",
              "├──────────────────────────────────────┼─────────────────────────────┼─────────────────┤\n",
              "│ conv2d_1 (<span style=\"color: #0087ff; text-decoration-color: #0087ff\">Conv2D</span>)                    │ (<span style=\"color: #00d7ff; text-decoration-color: #00d7ff\">None</span>, <span style=\"color: #00af00; text-decoration-color: #00af00\">5</span>, <span style=\"color: #00af00; text-decoration-color: #00af00\">5</span>, <span style=\"color: #00af00; text-decoration-color: #00af00\">32</span>)            │         <span style=\"color: #00af00; text-decoration-color: #00af00\">368,672</span> │\n",
              "├──────────────────────────────────────┼─────────────────────────────┼─────────────────┤\n",
              "│ dropout_1 (<span style=\"color: #0087ff; text-decoration-color: #0087ff\">Dropout</span>)                  │ (<span style=\"color: #00d7ff; text-decoration-color: #00d7ff\">None</span>, <span style=\"color: #00af00; text-decoration-color: #00af00\">5</span>, <span style=\"color: #00af00; text-decoration-color: #00af00\">5</span>, <span style=\"color: #00af00; text-decoration-color: #00af00\">32</span>)            │               <span style=\"color: #00af00; text-decoration-color: #00af00\">0</span> │\n",
              "├──────────────────────────────────────┼─────────────────────────────┼─────────────────┤\n",
              "│ global_average_pooling2d_1           │ (<span style=\"color: #00d7ff; text-decoration-color: #00d7ff\">None</span>, <span style=\"color: #00af00; text-decoration-color: #00af00\">32</span>)                  │               <span style=\"color: #00af00; text-decoration-color: #00af00\">0</span> │\n",
              "│ (<span style=\"color: #0087ff; text-decoration-color: #0087ff\">GlobalAveragePooling2D</span>)             │                             │                 │\n",
              "├──────────────────────────────────────┼─────────────────────────────┼─────────────────┤\n",
              "│ dense_1 (<span style=\"color: #0087ff; text-decoration-color: #0087ff\">Dense</span>)                      │ (<span style=\"color: #00d7ff; text-decoration-color: #00d7ff\">None</span>, <span style=\"color: #00af00; text-decoration-color: #00af00\">2</span>)                   │              <span style=\"color: #00af00; text-decoration-color: #00af00\">66</span> │\n",
              "└──────────────────────────────────────┴─────────────────────────────┴─────────────────┘\n",
              "</pre>\n"
            ]
          },
          "metadata": {}
        },
        {
          "output_type": "display_data",
          "data": {
            "text/plain": [
              "\u001b[1m Total params: \u001b[0m\u001b[38;5;34m2,626,722\u001b[0m (10.02 MB)\n"
            ],
            "text/html": [
              "<pre style=\"white-space:pre;overflow-x:auto;line-height:normal;font-family:Menlo,'DejaVu Sans Mono',consolas,'Courier New',monospace\"><span style=\"font-weight: bold\"> Total params: </span><span style=\"color: #00af00; text-decoration-color: #00af00\">2,626,722</span> (10.02 MB)\n",
              "</pre>\n"
            ]
          },
          "metadata": {}
        },
        {
          "output_type": "display_data",
          "data": {
            "text/plain": [
              "\u001b[1m Trainable params: \u001b[0m\u001b[38;5;34m2,230,178\u001b[0m (8.51 MB)\n"
            ],
            "text/html": [
              "<pre style=\"white-space:pre;overflow-x:auto;line-height:normal;font-family:Menlo,'DejaVu Sans Mono',consolas,'Courier New',monospace\"><span style=\"font-weight: bold\"> Trainable params: </span><span style=\"color: #00af00; text-decoration-color: #00af00\">2,230,178</span> (8.51 MB)\n",
              "</pre>\n"
            ]
          },
          "metadata": {}
        },
        {
          "output_type": "display_data",
          "data": {
            "text/plain": [
              "\u001b[1m Non-trainable params: \u001b[0m\u001b[38;5;34m396,544\u001b[0m (1.51 MB)\n"
            ],
            "text/html": [
              "<pre style=\"white-space:pre;overflow-x:auto;line-height:normal;font-family:Menlo,'DejaVu Sans Mono',consolas,'Courier New',monospace\"><span style=\"font-weight: bold\"> Non-trainable params: </span><span style=\"color: #00af00; text-decoration-color: #00af00\">396,544</span> (1.51 MB)\n",
              "</pre>\n"
            ]
          },
          "metadata": {}
        }
      ],
      "source": [
        "model.summary()"
      ]
    },
    {
      "cell_type": "code",
      "execution_count": 47,
      "metadata": {
        "id": "bNXelbMQtonr",
        "colab": {
          "base_uri": "https://localhost:8080/"
        },
        "outputId": "57b6f372-add5-423e-e09c-88973e6d2ea8"
      },
      "outputs": [
        {
          "output_type": "stream",
          "name": "stdout",
          "text": [
            "Number of trainable weights = 58\n"
          ]
        }
      ],
      "source": [
        "print('Number of trainable weights = {}'.format(len(model.trainable_weights)))"
      ]
    },
    {
      "cell_type": "markdown",
      "metadata": {
        "id": "4G5O4jd6TuAG"
      },
      "source": [
        "### Continue training"
      ]
    },
    {
      "cell_type": "markdown",
      "metadata": {
        "id": "bppmJTmDpXtK"
      },
      "source": [
        "Sekarang mari kita sempurnakan semua lapisan yang bisa dilatih. Ini dimulai dengan bobot yang sudah kita latih di lapisan klasifikasi, jadi kita tidak memerlukan banyak epoch."
      ]
    },
    {
      "cell_type": "code",
      "execution_count": 48,
      "metadata": {
        "id": "PiXbLb1O8IDy",
        "colab": {
          "base_uri": "https://localhost:8080/"
        },
        "outputId": "6630ae61-5d52-42fc-ddec-d0f63afbb1b6"
      },
      "outputs": [
        {
          "output_type": "stream",
          "name": "stdout",
          "text": [
            "Epoch 1/5\n",
            "\u001b[1m32/32\u001b[0m \u001b[32m━━━━━━━━━━━━━━━━━━━━\u001b[0m\u001b[37m\u001b[0m \u001b[1m200s\u001b[0m 6s/step - accuracy: 0.8434 - loss: 0.6515 - val_accuracy: 0.9810 - val_loss: 0.0896\n",
            "Epoch 2/5\n",
            "\u001b[1m32/32\u001b[0m \u001b[32m━━━━━━━━━━━━━━━━━━━━\u001b[0m\u001b[37m\u001b[0m \u001b[1m0s\u001b[0m 5ms/step - accuracy: 0.0000e+00 - loss: 0.0000e+00\n",
            "Epoch 3/5\n",
            "\u001b[1m32/32\u001b[0m \u001b[32m━━━━━━━━━━━━━━━━━━━━\u001b[0m\u001b[37m\u001b[0m \u001b[1m213s\u001b[0m 6s/step - accuracy: 0.9740 - loss: 0.0789 - val_accuracy: 0.9820 - val_loss: 0.0885\n",
            "Epoch 4/5\n",
            "\u001b[1m32/32\u001b[0m \u001b[32m━━━━━━━━━━━━━━━━━━━━\u001b[0m\u001b[37m\u001b[0m \u001b[1m0s\u001b[0m 1ms/step - accuracy: 0.0000e+00 - loss: 0.0000e+00\n",
            "Epoch 5/5\n",
            "\u001b[1m32/32\u001b[0m \u001b[32m━━━━━━━━━━━━━━━━━━━━\u001b[0m\u001b[37m\u001b[0m \u001b[1m187s\u001b[0m 6s/step - accuracy: 0.9818 - loss: 0.0511 - val_accuracy: 0.9820 - val_loss: 0.0852\n"
          ]
        }
      ],
      "source": [
        "history_fine = model.fit(train_generator,\n",
        "                         steps_per_epoch=len(train_generator),\n",
        "                         epochs=5,\n",
        "                         validation_data=val_generator,\n",
        "                         validation_steps=len(val_generator))"
      ]
    },
    {
      "cell_type": "markdown",
      "metadata": {
        "id": "xqIjZvhBBJNn"
      },
      "source": [
        "### New Plot"
      ]
    },
    {
      "cell_type": "code",
      "execution_count": 49,
      "metadata": {
        "id": "chW103JUItdk",
        "colab": {
          "base_uri": "https://localhost:8080/",
          "height": 718
        },
        "outputId": "bd9ea0d9-35f7-422b-9f04-ddfb92d71318"
      },
      "outputs": [
        {
          "output_type": "display_data",
          "data": {
            "text/plain": [
              "<Figure size 800x800 with 2 Axes>"
            ],
            "image/png": "[encoded data removed]"
          },
          "metadata": {}
        }
      ],
      "source": [
        "acc = history_fine.history['accuracy']\n",
        "val_acc = history_fine.history['val_accuracy']\n",
        "\n",
        "loss = history_fine.history['loss']\n",
        "val_loss = history_fine.history['val_loss']\n",
        "\n",
        "plt.figure(figsize=(8, 8))\n",
        "plt.subplot(2, 1, 1)\n",
        "plt.plot(acc, label='Training Accuracy')\n",
        "plt.plot(val_acc, label='Validation Accuracy')\n",
        "plt.legend(loc='lower right')\n",
        "plt.ylabel('Accuracy')\n",
        "plt.ylim([min(plt.ylim()),1])\n",
        "plt.title('Training and Validation Accuracy')\n",
        "\n",
        "plt.subplot(2, 1, 2)\n",
        "plt.plot(loss, label='Training Loss')\n",
        "plt.plot(val_loss, label='Validation Loss')\n",
        "plt.legend(loc='upper right')\n",
        "plt.ylabel('Cross Entropy')\n",
        "plt.ylim([0,1.0])\n",
        "plt.title('Training and Validation Loss')\n",
        "plt.xlabel('epoch')\n",
        "plt.show()"
      ]
    },
    {
      "cell_type": "markdown",
      "metadata": {
        "id": "kRDabW_u1wnv"
      },
      "source": [
        "## Convert to TFLite"
      ]
    },
    {
      "cell_type": "markdown",
      "metadata": {
        "id": "hNvMl6CM6lG4"
      },
      "source": [
        "Biasanya, pembuatan model TensorFlow Lite hanya memerlukan beberapa baris kode dengan [`TFLiteConverter`](https://www.tensorflow.org/api_docs/python/tf/lite/TFLiteConverter). Misalnya, ini akan membuat model TensorFlow Lite dasar (tidak terkuantisasi):"
      ]
    },
    {
      "cell_type": "code",
      "execution_count": 50,
      "metadata": {
        "id": "srOYhMYfx9XH",
        "colab": {
          "base_uri": "https://localhost:8080/"
        },
        "outputId": "3b82ab49-b1d9-416f-ecb2-c9317b722463"
      },
      "outputs": [
        {
          "output_type": "stream",
          "name": "stdout",
          "text": [
            "Saved artifact at '/tmp/tmpr6hvthe0'. The following endpoints are available:\n",
            "\n",
            "* Endpoint 'serve'\n",
            "  args_0 (POSITIONAL_ONLY): TensorSpec(shape=(None, 224, 224, 3), dtype=tf.float32, name='keras_tensor_314')\n",
            "Output Type:\n",
            "  TensorSpec(shape=(None, 2), dtype=tf.float32, name=None)\n",
            "Captures:\n",
            "  133069918594048: TensorSpec(shape=(), dtype=tf.resource, name=None)\n",
            "  133069970106576: TensorSpec(shape=(), dtype=tf.resource, name=None)\n",
            "  133069970104640: TensorSpec(shape=(), dtype=tf.resource, name=None)\n",
            "  133069970111152: TensorSpec(shape=(), dtype=tf.resource, name=None)\n",
            "  133069970100240: TensorSpec(shape=(), dtype=tf.resource, name=None)\n",
            "  133069970109568: TensorSpec(shape=(), dtype=tf.resource, name=None)\n",
            "  133069917286320: TensorSpec(shape=(), dtype=tf.resource, name=None)\n",
            "  133069917287904: TensorSpec(shape=(), dtype=tf.resource, name=None)\n",
            "  133069917286144: TensorSpec(shape=(), dtype=tf.resource, name=None)\n",
            "  133069917288080: TensorSpec(shape=(), dtype=tf.resource, name=None)\n",
            "  133069970098128: TensorSpec(shape=(), dtype=tf.resource, name=None)\n",
            "  133069917286848: TensorSpec(shape=(), dtype=tf.resource, name=None)\n",
            "  133069898884096: TensorSpec(shape=(), dtype=tf.resource, name=None)\n",
            "  133069914372080: TensorSpec(shape=(), dtype=tf.resource, name=None)\n",
            "  133069914371376: TensorSpec(shape=(), dtype=tf.resource, name=None)\n",
            "  133069970100944: TensorSpec(shape=(), dtype=tf.resource, name=None)\n",
            "  133069969625632: TensorSpec(shape=(), dtype=tf.resource, name=None)\n",
            "  133069969636896: TensorSpec(shape=(), dtype=tf.resource, name=None)\n",
            "  133069969629504: TensorSpec(shape=(), dtype=tf.resource, name=None)\n",
            "  133069969636720: TensorSpec(shape=(), dtype=tf.resource, name=None)\n",
            "  133069969636544: TensorSpec(shape=(), dtype=tf.resource, name=None)\n",
            "  133069969633728: TensorSpec(shape=(), dtype=tf.resource, name=None)\n",
            "  133069969634784: TensorSpec(shape=(), dtype=tf.resource, name=None)\n",
            "  133069969624400: TensorSpec(shape=(), dtype=tf.resource, name=None)\n",
            "  133069973621040: TensorSpec(shape=(), dtype=tf.resource, name=None)\n",
            "  133069969629680: TensorSpec(shape=(), dtype=tf.resource, name=None)\n",
            "  133069973628432: TensorSpec(shape=(), dtype=tf.resource, name=None)\n",
            "  133069973629488: TensorSpec(shape=(), dtype=tf.resource, name=None)\n",
            "  133069973625440: TensorSpec(shape=(), dtype=tf.resource, name=None)\n",
            "  133069973628256: TensorSpec(shape=(), dtype=tf.resource, name=None)\n",
            "  133069973634240: TensorSpec(shape=(), dtype=tf.resource, name=None)\n",
            "  133069973627728: TensorSpec(shape=(), dtype=tf.resource, name=None)\n",
            "  133069973623504: TensorSpec(shape=(), dtype=tf.resource, name=None)\n",
            "  133069973631424: TensorSpec(shape=(), dtype=tf.resource, name=None)\n",
            "  133069973633008: TensorSpec(shape=(), dtype=tf.resource, name=None)\n",
            "  133069973633360: TensorSpec(shape=(), dtype=tf.resource, name=None)\n",
            "  133069969004096: TensorSpec(shape=(), dtype=tf.resource, name=None)\n",
            "  133069969006736: TensorSpec(shape=(), dtype=tf.resource, name=None)\n",
            "  133069969002688: TensorSpec(shape=(), dtype=tf.resource, name=None)\n",
            "  133069969004624: TensorSpec(shape=(), dtype=tf.resource, name=None)\n",
            "  133069969012896: TensorSpec(shape=(), dtype=tf.resource, name=None)\n",
            "  133069969011840: TensorSpec(shape=(), dtype=tf.resource, name=None)\n",
            "  133069969014304: TensorSpec(shape=(), dtype=tf.resource, name=None)\n",
            "  133069969000752: TensorSpec(shape=(), dtype=tf.resource, name=None)\n",
            "  133069969013072: TensorSpec(shape=(), dtype=tf.resource, name=None)\n",
            "  133069969624752: TensorSpec(shape=(), dtype=tf.resource, name=None)\n",
            "  133069974460496: TensorSpec(shape=(), dtype=tf.resource, name=None)\n",
            "  133069974461552: TensorSpec(shape=(), dtype=tf.resource, name=None)\n",
            "  133069974457680: TensorSpec(shape=(), dtype=tf.resource, name=None)\n",
            "  133069974460320: TensorSpec(shape=(), dtype=tf.resource, name=None)\n",
            "  133069974468944: TensorSpec(shape=(), dtype=tf.resource, name=None)\n",
            "  133069974467888: TensorSpec(shape=(), dtype=tf.resource, name=None)\n",
            "  133069974465072: TensorSpec(shape=(), dtype=tf.resource, name=None)\n",
            "  133069974458032: TensorSpec(shape=(), dtype=tf.resource, name=None)\n",
            "  133069974468416: TensorSpec(shape=(), dtype=tf.resource, name=None)\n",
            "  133069974464544: TensorSpec(shape=(), dtype=tf.resource, name=None)\n",
            "  133069974297008: TensorSpec(shape=(), dtype=tf.resource, name=None)\n",
            "  133069974298064: TensorSpec(shape=(), dtype=tf.resource, name=None)\n",
            "  133069974294192: TensorSpec(shape=(), dtype=tf.resource, name=None)\n",
            "  133069974296832: TensorSpec(shape=(), dtype=tf.resource, name=None)\n",
            "  133069974302816: TensorSpec(shape=(), dtype=tf.resource, name=None)\n",
            "  133069974301760: TensorSpec(shape=(), dtype=tf.resource, name=None)\n",
            "  133069974304224: TensorSpec(shape=(), dtype=tf.resource, name=None)\n",
            "  133069974300352: TensorSpec(shape=(), dtype=tf.resource, name=None)\n",
            "  133069974302992: TensorSpec(shape=(), dtype=tf.resource, name=None)\n",
            "  133069974652352: TensorSpec(shape=(), dtype=tf.resource, name=None)\n",
            "  133069974661152: TensorSpec(shape=(), dtype=tf.resource, name=None)\n",
            "  133069974662032: TensorSpec(shape=(), dtype=tf.resource, name=None)\n",
            "  133069974657808: TensorSpec(shape=(), dtype=tf.resource, name=None)\n",
            "  133069974659920: TensorSpec(shape=(), dtype=tf.resource, name=None)\n",
            "  133069974666960: TensorSpec(shape=(), dtype=tf.resource, name=None)\n",
            "  133069974101280: TensorSpec(shape=(), dtype=tf.resource, name=None)\n",
            "  133069974102336: TensorSpec(shape=(), dtype=tf.resource, name=None)\n",
            "  133069974097232: TensorSpec(shape=(), dtype=tf.resource, name=None)\n",
            "  133069974100224: TensorSpec(shape=(), dtype=tf.resource, name=None)\n",
            "  133069974658336: TensorSpec(shape=(), dtype=tf.resource, name=None)\n",
            "  133069974106208: TensorSpec(shape=(), dtype=tf.resource, name=None)\n",
            "  133069974106560: TensorSpec(shape=(), dtype=tf.resource, name=None)\n",
            "  133069974104448: TensorSpec(shape=(), dtype=tf.resource, name=None)\n",
            "  133069974105504: TensorSpec(shape=(), dtype=tf.resource, name=None)\n",
            "  133069974102688: TensorSpec(shape=(), dtype=tf.resource, name=None)\n",
            "  133069974423504: TensorSpec(shape=(), dtype=tf.resource, name=None)\n",
            "  133069974425792: TensorSpec(shape=(), dtype=tf.resource, name=None)\n",
            "  133069974421744: TensorSpec(shape=(), dtype=tf.resource, name=None)\n",
            "  133069974425264: TensorSpec(shape=(), dtype=tf.resource, name=None)\n",
            "  133069974432480: TensorSpec(shape=(), dtype=tf.resource, name=None)\n",
            "  133069974431424: TensorSpec(shape=(), dtype=tf.resource, name=None)\n",
            "  133069974433888: TensorSpec(shape=(), dtype=tf.resource, name=None)\n",
            "  133069974430016: TensorSpec(shape=(), dtype=tf.resource, name=None)\n",
            "  133069974432656: TensorSpec(shape=(), dtype=tf.resource, name=None)\n",
            "  133069974429664: TensorSpec(shape=(), dtype=tf.resource, name=None)\n",
            "  133069973949072: TensorSpec(shape=(), dtype=tf.resource, name=None)\n",
            "  133069973947136: TensorSpec(shape=(), dtype=tf.resource, name=None)\n",
            "  133069973949424: TensorSpec(shape=(), dtype=tf.resource, name=None)\n",
            "  133069973949248: TensorSpec(shape=(), dtype=tf.resource, name=None)\n",
            "  133069973957520: TensorSpec(shape=(), dtype=tf.resource, name=None)\n",
            "  133069973955936: TensorSpec(shape=(), dtype=tf.resource, name=None)\n",
            "  133069973959280: TensorSpec(shape=(), dtype=tf.resource, name=None)\n",
            "  133069973946432: TensorSpec(shape=(), dtype=tf.resource, name=None)\n",
            "  133069973957344: TensorSpec(shape=(), dtype=tf.resource, name=None)\n",
            "  133069973962272: TensorSpec(shape=(), dtype=tf.resource, name=None)\n",
            "  133069974326432: TensorSpec(shape=(), dtype=tf.resource, name=None)\n",
            "  133069974323968: TensorSpec(shape=(), dtype=tf.resource, name=None)\n",
            "  133069974326080: TensorSpec(shape=(), dtype=tf.resource, name=None)\n",
            "  133069974326608: TensorSpec(shape=(), dtype=tf.resource, name=None)\n",
            "  133069974332240: TensorSpec(shape=(), dtype=tf.resource, name=None)\n",
            "  133069974331184: TensorSpec(shape=(), dtype=tf.resource, name=None)\n",
            "  133069974333648: TensorSpec(shape=(), dtype=tf.resource, name=None)\n",
            "  133069974329776: TensorSpec(shape=(), dtype=tf.resource, name=None)\n",
            "  133069974332416: TensorSpec(shape=(), dtype=tf.resource, name=None)\n",
            "  133069974336464: TensorSpec(shape=(), dtype=tf.resource, name=None)\n",
            "  133069974336112: TensorSpec(shape=(), dtype=tf.resource, name=None)\n",
            "  133069974336288: TensorSpec(shape=(), dtype=tf.resource, name=None)\n",
            "  133069974337520: TensorSpec(shape=(), dtype=tf.resource, name=None)\n",
            "  133069974275344: TensorSpec(shape=(), dtype=tf.resource, name=None)\n",
            "  133069974335232: TensorSpec(shape=(), dtype=tf.resource, name=None)\n",
            "  133069974282384: TensorSpec(shape=(), dtype=tf.resource, name=None)\n",
            "  133069974283440: TensorSpec(shape=(), dtype=tf.resource, name=None)\n",
            "  133069974279568: TensorSpec(shape=(), dtype=tf.resource, name=None)\n",
            "  133069974282208: TensorSpec(shape=(), dtype=tf.resource, name=None)\n",
            "  133069974289600: TensorSpec(shape=(), dtype=tf.resource, name=None)\n",
            "  133069974279920: TensorSpec(shape=(), dtype=tf.resource, name=None)\n",
            "  133069974285024: TensorSpec(shape=(), dtype=tf.resource, name=None)\n",
            "  133069974286784: TensorSpec(shape=(), dtype=tf.resource, name=None)\n",
            "  133069974288368: TensorSpec(shape=(), dtype=tf.resource, name=None)\n",
            "  133069974288720: TensorSpec(shape=(), dtype=tf.resource, name=None)\n",
            "  133069974115904: TensorSpec(shape=(), dtype=tf.resource, name=None)\n",
            "  133069974118544: TensorSpec(shape=(), dtype=tf.resource, name=None)\n",
            "  133069974114496: TensorSpec(shape=(), dtype=tf.resource, name=None)\n",
            "  133069974116432: TensorSpec(shape=(), dtype=tf.resource, name=None)\n",
            "  133069974124704: TensorSpec(shape=(), dtype=tf.resource, name=None)\n",
            "  133069974123648: TensorSpec(shape=(), dtype=tf.resource, name=None)\n",
            "  133069974126112: TensorSpec(shape=(), dtype=tf.resource, name=None)\n",
            "  133069974112560: TensorSpec(shape=(), dtype=tf.resource, name=None)\n",
            "  133069974124880: TensorSpec(shape=(), dtype=tf.resource, name=None)\n",
            "  133069974335408: TensorSpec(shape=(), dtype=tf.resource, name=None)\n",
            "  133069923326032: TensorSpec(shape=(), dtype=tf.resource, name=None)\n",
            "  133069923327088: TensorSpec(shape=(), dtype=tf.resource, name=None)\n",
            "  133069923323216: TensorSpec(shape=(), dtype=tf.resource, name=None)\n",
            "  133069923325856: TensorSpec(shape=(), dtype=tf.resource, name=None)\n",
            "  133069923333072: TensorSpec(shape=(), dtype=tf.resource, name=None)\n",
            "  133069923332016: TensorSpec(shape=(), dtype=tf.resource, name=None)\n",
            "  133069923334656: TensorSpec(shape=(), dtype=tf.resource, name=None)\n",
            "  133069923323568: TensorSpec(shape=(), dtype=tf.resource, name=None)\n",
            "  133069923332544: TensorSpec(shape=(), dtype=tf.resource, name=None)\n",
            "  133069923328672: TensorSpec(shape=(), dtype=tf.resource, name=None)\n",
            "  133069923177520: TensorSpec(shape=(), dtype=tf.resource, name=None)\n",
            "  133069923178576: TensorSpec(shape=(), dtype=tf.resource, name=None)\n",
            "  133069923174704: TensorSpec(shape=(), dtype=tf.resource, name=None)\n",
            "  133069923177344: TensorSpec(shape=(), dtype=tf.resource, name=None)\n",
            "  133069923184736: TensorSpec(shape=(), dtype=tf.resource, name=None)\n",
            "  133069923183680: TensorSpec(shape=(), dtype=tf.resource, name=None)\n",
            "  133069923186144: TensorSpec(shape=(), dtype=tf.resource, name=None)\n",
            "  133069923182272: TensorSpec(shape=(), dtype=tf.resource, name=None)\n",
            "  133069923184912: TensorSpec(shape=(), dtype=tf.resource, name=None)\n",
            "  133069923182624: TensorSpec(shape=(), dtype=tf.resource, name=None)\n",
            "  133069922994832: TensorSpec(shape=(), dtype=tf.resource, name=None)\n",
            "  133069922997296: TensorSpec(shape=(), dtype=tf.resource, name=None)\n",
            "  133069922992720: TensorSpec(shape=(), dtype=tf.resource, name=None)\n",
            "  133069922996240: TensorSpec(shape=(), dtype=tf.resource, name=None)\n",
            "  133069923003456: TensorSpec(shape=(), dtype=tf.resource, name=None)\n",
            "  133069923002400: TensorSpec(shape=(), dtype=tf.resource, name=None)\n",
            "  133069923004864: TensorSpec(shape=(), dtype=tf.resource, name=None)\n",
            "  133069923000992: TensorSpec(shape=(), dtype=tf.resource, name=None)\n",
            "  133069923003632: TensorSpec(shape=(), dtype=tf.resource, name=None)\n",
            "  133069923000640: TensorSpec(shape=(), dtype=tf.resource, name=None)\n",
            "  133069922535024: TensorSpec(shape=(), dtype=tf.resource, name=None)\n",
            "  133069922533616: TensorSpec(shape=(), dtype=tf.resource, name=None)\n",
            "  133069923007504: TensorSpec(shape=(), dtype=tf.resource, name=None)\n",
            "  133069922535200: TensorSpec(shape=(), dtype=tf.resource, name=None)\n",
            "  133069922542064: TensorSpec(shape=(), dtype=tf.resource, name=None)\n",
            "  133069922541008: TensorSpec(shape=(), dtype=tf.resource, name=None)\n",
            "  133069922543648: TensorSpec(shape=(), dtype=tf.resource, name=None)\n",
            "  133069922535376: TensorSpec(shape=(), dtype=tf.resource, name=None)\n",
            "  133069922541536: TensorSpec(shape=(), dtype=tf.resource, name=None)\n",
            "  133069922546640: TensorSpec(shape=(), dtype=tf.resource, name=None)\n",
            "  133069922539952: TensorSpec(shape=(), dtype=tf.resource, name=None)\n",
            "  133069922545408: TensorSpec(shape=(), dtype=tf.resource, name=None)\n",
            "  133069922547696: TensorSpec(shape=(), dtype=tf.resource, name=None)\n",
            "  133069922747488: TensorSpec(shape=(), dtype=tf.resource, name=None)\n",
            "  133069923187904: TensorSpec(shape=(), dtype=tf.resource, name=None)\n",
            "  133069922754528: TensorSpec(shape=(), dtype=tf.resource, name=None)\n",
            "  133069922755584: TensorSpec(shape=(), dtype=tf.resource, name=None)\n",
            "  133069922751712: TensorSpec(shape=(), dtype=tf.resource, name=None)\n",
            "  133069922754352: TensorSpec(shape=(), dtype=tf.resource, name=None)\n",
            "  133069922761568: TensorSpec(shape=(), dtype=tf.resource, name=None)\n",
            "  133069922758048: TensorSpec(shape=(), dtype=tf.resource, name=None)\n",
            "  133069922757696: TensorSpec(shape=(), dtype=tf.resource, name=None)\n",
            "  133069922759280: TensorSpec(shape=(), dtype=tf.resource, name=None)\n",
            "  133069922761392: TensorSpec(shape=(), dtype=tf.resource, name=None)\n",
            "  133069922757168: TensorSpec(shape=(), dtype=tf.resource, name=None)\n",
            "  133069922606016: TensorSpec(shape=(), dtype=tf.resource, name=None)\n",
            "  133069922607072: TensorSpec(shape=(), dtype=tf.resource, name=None)\n",
            "  133069922603200: TensorSpec(shape=(), dtype=tf.resource, name=None)\n",
            "  133069922605840: TensorSpec(shape=(), dtype=tf.resource, name=None)\n",
            "  133069922613232: TensorSpec(shape=(), dtype=tf.resource, name=None)\n",
            "  133069922612176: TensorSpec(shape=(), dtype=tf.resource, name=None)\n",
            "  133069922614640: TensorSpec(shape=(), dtype=tf.resource, name=None)\n",
            "  133069922610768: TensorSpec(shape=(), dtype=tf.resource, name=None)\n",
            "  133069922613408: TensorSpec(shape=(), dtype=tf.resource, name=None)\n",
            "  133069922611120: TensorSpec(shape=(), dtype=tf.resource, name=None)\n",
            "  133069924570864: TensorSpec(shape=(), dtype=tf.resource, name=None)\n",
            "  133069924573504: TensorSpec(shape=(), dtype=tf.resource, name=None)\n",
            "  133069924569456: TensorSpec(shape=(), dtype=tf.resource, name=None)\n",
            "  133069924571392: TensorSpec(shape=(), dtype=tf.resource, name=None)\n",
            "  133069924579664: TensorSpec(shape=(), dtype=tf.resource, name=None)\n",
            "  133069924578608: TensorSpec(shape=(), dtype=tf.resource, name=None)\n",
            "  133069924581072: TensorSpec(shape=(), dtype=tf.resource, name=None)\n",
            "  133069924567520: TensorSpec(shape=(), dtype=tf.resource, name=None)\n",
            "  133069924579840: TensorSpec(shape=(), dtype=tf.resource, name=None)\n",
            "  133069922757344: TensorSpec(shape=(), dtype=tf.resource, name=None)\n",
            "  133069924602752: TensorSpec(shape=(), dtype=tf.resource, name=None)\n",
            "  133069924603808: TensorSpec(shape=(), dtype=tf.resource, name=None)\n",
            "  133069924599936: TensorSpec(shape=(), dtype=tf.resource, name=None)\n",
            "  133069924602576: TensorSpec(shape=(), dtype=tf.resource, name=None)\n",
            "  133069924609792: TensorSpec(shape=(), dtype=tf.resource, name=None)\n",
            "  133069924608736: TensorSpec(shape=(), dtype=tf.resource, name=None)\n",
            "  133069924611376: TensorSpec(shape=(), dtype=tf.resource, name=None)\n",
            "  133069924600288: TensorSpec(shape=(), dtype=tf.resource, name=None)\n",
            "  133069924609264: TensorSpec(shape=(), dtype=tf.resource, name=None)\n",
            "  133069924605392: TensorSpec(shape=(), dtype=tf.resource, name=None)\n",
            "  133069924945760: TensorSpec(shape=(), dtype=tf.resource, name=None)\n",
            "  133069924943296: TensorSpec(shape=(), dtype=tf.resource, name=None)\n",
            "  133069924942416: TensorSpec(shape=(), dtype=tf.resource, name=None)\n",
            "  133069924945936: TensorSpec(shape=(), dtype=tf.resource, name=None)\n",
            "  133069924952976: TensorSpec(shape=(), dtype=tf.resource, name=None)\n",
            "  133069924951920: TensorSpec(shape=(), dtype=tf.resource, name=None)\n",
            "  133069924954384: TensorSpec(shape=(), dtype=tf.resource, name=None)\n",
            "  133069924950512: TensorSpec(shape=(), dtype=tf.resource, name=None)\n",
            "  133069924953152: TensorSpec(shape=(), dtype=tf.resource, name=None)\n",
            "  133069924957200: TensorSpec(shape=(), dtype=tf.resource, name=None)\n",
            "  133069924631648: TensorSpec(shape=(), dtype=tf.resource, name=None)\n",
            "  133069924631296: TensorSpec(shape=(), dtype=tf.resource, name=None)\n",
            "  133069924633760: TensorSpec(shape=(), dtype=tf.resource, name=None)\n",
            "  133069924633408: TensorSpec(shape=(), dtype=tf.resource, name=None)\n",
            "  133069924640624: TensorSpec(shape=(), dtype=tf.resource, name=None)\n",
            "  133069924639568: TensorSpec(shape=(), dtype=tf.resource, name=None)\n",
            "  133069924642032: TensorSpec(shape=(), dtype=tf.resource, name=None)\n",
            "  133069924638160: TensorSpec(shape=(), dtype=tf.resource, name=None)\n",
            "  133069924640800: TensorSpec(shape=(), dtype=tf.resource, name=None)\n",
            "  133069924637808: TensorSpec(shape=(), dtype=tf.resource, name=None)\n",
            "  133069925304096: TensorSpec(shape=(), dtype=tf.resource, name=None)\n",
            "  133069925302688: TensorSpec(shape=(), dtype=tf.resource, name=None)\n",
            "  133069924646080: TensorSpec(shape=(), dtype=tf.resource, name=None)\n",
            "  133069925304272: TensorSpec(shape=(), dtype=tf.resource, name=None)\n",
            "  133069925311136: TensorSpec(shape=(), dtype=tf.resource, name=None)\n",
            "  133069925310080: TensorSpec(shape=(), dtype=tf.resource, name=None)\n",
            "  133069925312720: TensorSpec(shape=(), dtype=tf.resource, name=None)\n",
            "  133069925304448: TensorSpec(shape=(), dtype=tf.resource, name=None)\n",
            "  133069925310608: TensorSpec(shape=(), dtype=tf.resource, name=None)\n",
            "  133069925315712: TensorSpec(shape=(), dtype=tf.resource, name=None)\n",
            "  133069925309024: TensorSpec(shape=(), dtype=tf.resource, name=None)\n",
            "  133069925314480: TensorSpec(shape=(), dtype=tf.resource, name=None)\n",
            "  133069925316768: TensorSpec(shape=(), dtype=tf.resource, name=None)\n",
            "  133069925238032: TensorSpec(shape=(), dtype=tf.resource, name=None)\n",
            "  133069924956144: TensorSpec(shape=(), dtype=tf.resource, name=None)\n",
            "  133069925243840: TensorSpec(shape=(), dtype=tf.resource, name=None)\n",
            "  133069925244896: TensorSpec(shape=(), dtype=tf.resource, name=None)\n",
            "  133069925241024: TensorSpec(shape=(), dtype=tf.resource, name=None)\n",
            "  133069925243664: TensorSpec(shape=(), dtype=tf.resource, name=None)\n",
            "  133069925252288: TensorSpec(shape=(), dtype=tf.resource, name=None)\n",
            "  133069925248944: TensorSpec(shape=(), dtype=tf.resource, name=None)\n",
            "  133069925251056: TensorSpec(shape=(), dtype=tf.resource, name=None)\n",
            "  133069924993152: TensorSpec(shape=(), dtype=tf.resource, name=None)\n"
          ]
        }
      ],
      "source": [
        "converter = tf.lite.TFLiteConverter.from_keras_model(model)\n",
        "tflite_model = converter.convert()\n",
        "\n",
        "with open('mobilenet_v2_1.0_224.tflite', 'wb') as f:\n",
        "  f.write(tflite_model)"
      ]
    },
    {
      "cell_type": "markdown",
      "metadata": {
        "id": "P0_StAtZwJ5p"
      },
      "source": [
        "Namun, file `.tflite` ini masih menggunakan nilai floating-point untuk data parameter, dan kita perlu mengkuantisasi model sepenuhnya ke format int8.\n",
        "\n",
        "Untuk mengkuantisasi model sepenuhnya, kita perlu melakukan [kuantisasi pasca-pelatihan](https://www.tensorflow.org/lite/ Performance/post_training_quantization) dengan kumpulan data yang representatif, yang memerlukan beberapa argumen lagi untuk `TFLiteConverter`, dan fungsi yang membuat himpunan data yang mewakili himpunan data pelatihan.\n",
        "\n",
        "Jadi mari kita konversi lagi modelnya dengan kuantisasi pasca pelatihan:"
      ]
    },
    {
      "cell_type": "code",
      "execution_count": 51,
      "metadata": {
        "id": "w9ydAmHGHUZl",
        "colab": {
          "base_uri": "https://localhost:8080/"
        },
        "outputId": "55a4eaf5-b044-43db-90ee-c51f453c923a"
      },
      "outputs": [
        {
          "output_type": "stream",
          "name": "stdout",
          "text": [
            "Saved artifact at '/tmp/tmplttccv5g'. The following endpoints are available:\n",
            "\n",
            "* Endpoint 'serve'\n",
            "  args_0 (POSITIONAL_ONLY): TensorSpec(shape=(None, 224, 224, 3), dtype=tf.float32, name='keras_tensor_314')\n",
            "Output Type:\n",
            "  TensorSpec(shape=(None, 2), dtype=tf.float32, name=None)\n",
            "Captures:\n",
            "  133069918594048: TensorSpec(shape=(), dtype=tf.resource, name=None)\n",
            "  133069970106576: TensorSpec(shape=(), dtype=tf.resource, name=None)\n",
            "  133069970104640: TensorSpec(shape=(), dtype=tf.resource, name=None)\n",
            "  133069970111152: TensorSpec(shape=(), dtype=tf.resource, name=None)\n",
            "  133069970100240: TensorSpec(shape=(), dtype=tf.resource, name=None)\n",
            "  133069970109568: TensorSpec(shape=(), dtype=tf.resource, name=None)\n",
            "  133069917286320: TensorSpec(shape=(), dtype=tf.resource, name=None)\n",
            "  133069917287904: TensorSpec(shape=(), dtype=tf.resource, name=None)\n",
            "  133069917286144: TensorSpec(shape=(), dtype=tf.resource, name=None)\n",
            "  133069917288080: TensorSpec(shape=(), dtype=tf.resource, name=None)\n",
            "  133069970098128: TensorSpec(shape=(), dtype=tf.resource, name=None)\n",
            "  133069917286848: TensorSpec(shape=(), dtype=tf.resource, name=None)\n",
            "  133069898884096: TensorSpec(shape=(), dtype=tf.resource, name=None)\n",
            "  133069914372080: TensorSpec(shape=(), dtype=tf.resource, name=None)\n",
            "  133069914371376: TensorSpec(shape=(), dtype=tf.resource, name=None)\n",
            "  133069970100944: TensorSpec(shape=(), dtype=tf.resource, name=None)\n",
            "  133069969625632: TensorSpec(shape=(), dtype=tf.resource, name=None)\n",
            "  133069969636896: TensorSpec(shape=(), dtype=tf.resource, name=None)\n",
            "  133069969629504: TensorSpec(shape=(), dtype=tf.resource, name=None)\n",
            "  133069969636720: TensorSpec(shape=(), dtype=tf.resource, name=None)\n",
            "  133069969636544: TensorSpec(shape=(), dtype=tf.resource, name=None)\n",
            "  133069969633728: TensorSpec(shape=(), dtype=tf.resource, name=None)\n",
            "  133069969634784: TensorSpec(shape=(), dtype=tf.resource, name=None)\n",
            "  133069969624400: TensorSpec(shape=(), dtype=tf.resource, name=None)\n",
            "  133069973621040: TensorSpec(shape=(), dtype=tf.resource, name=None)\n",
            "  133069969629680: TensorSpec(shape=(), dtype=tf.resource, name=None)\n",
            "  133069973628432: TensorSpec(shape=(), dtype=tf.resource, name=None)\n",
            "  133069973629488: TensorSpec(shape=(), dtype=tf.resource, name=None)\n",
            "  133069973625440: TensorSpec(shape=(), dtype=tf.resource, name=None)\n",
            "  133069973628256: TensorSpec(shape=(), dtype=tf.resource, name=None)\n",
            "  133069973634240: TensorSpec(shape=(), dtype=tf.resource, name=None)\n",
            "  133069973627728: TensorSpec(shape=(), dtype=tf.resource, name=None)\n",
            "  133069973623504: TensorSpec(shape=(), dtype=tf.resource, name=None)\n",
            "  133069973631424: TensorSpec(shape=(), dtype=tf.resource, name=None)\n",
            "  133069973633008: TensorSpec(shape=(), dtype=tf.resource, name=None)\n",
            "  133069973633360: TensorSpec(shape=(), dtype=tf.resource, name=None)\n",
            "  133069969004096: TensorSpec(shape=(), dtype=tf.resource, name=None)\n",
            "  133069969006736: TensorSpec(shape=(), dtype=tf.resource, name=None)\n",
            "  133069969002688: TensorSpec(shape=(), dtype=tf.resource, name=None)\n",
            "  133069969004624: TensorSpec(shape=(), dtype=tf.resource, name=None)\n",
            "  133069969012896: TensorSpec(shape=(), dtype=tf.resource, name=None)\n",
            "  133069969011840: TensorSpec(shape=(), dtype=tf.resource, name=None)\n",
            "  133069969014304: TensorSpec(shape=(), dtype=tf.resource, name=None)\n",
            "  133069969000752: TensorSpec(shape=(), dtype=tf.resource, name=None)\n",
            "  133069969013072: TensorSpec(shape=(), dtype=tf.resource, name=None)\n",
            "  133069969624752: TensorSpec(shape=(), dtype=tf.resource, name=None)\n",
            "  133069974460496: TensorSpec(shape=(), dtype=tf.resource, name=None)\n",
            "  133069974461552: TensorSpec(shape=(), dtype=tf.resource, name=None)\n",
            "  133069974457680: TensorSpec(shape=(), dtype=tf.resource, name=None)\n",
            "  133069974460320: TensorSpec(shape=(), dtype=tf.resource, name=None)\n",
            "  133069974468944: TensorSpec(shape=(), dtype=tf.resource, name=None)\n",
            "  133069974467888: TensorSpec(shape=(), dtype=tf.resource, name=None)\n",
            "  133069974465072: TensorSpec(shape=(), dtype=tf.resource, name=None)\n",
            "  133069974458032: TensorSpec(shape=(), dtype=tf.resource, name=None)\n",
            "  133069974468416: TensorSpec(shape=(), dtype=tf.resource, name=None)\n",
            "  133069974464544: TensorSpec(shape=(), dtype=tf.resource, name=None)\n",
            "  133069974297008: TensorSpec(shape=(), dtype=tf.resource, name=None)\n",
            "  133069974298064: TensorSpec(shape=(), dtype=tf.resource, name=None)\n",
            "  133069974294192: TensorSpec(shape=(), dtype=tf.resource, name=None)\n",
            "  133069974296832: TensorSpec(shape=(), dtype=tf.resource, name=None)\n",
            "  133069974302816: TensorSpec(shape=(), dtype=tf.resource, name=None)\n",
            "  133069974301760: TensorSpec(shape=(), dtype=tf.resource, name=None)\n",
            "  133069974304224: TensorSpec(shape=(), dtype=tf.resource, name=None)\n",
            "  133069974300352: TensorSpec(shape=(), dtype=tf.resource, name=None)\n",
            "  133069974302992: TensorSpec(shape=(), dtype=tf.resource, name=None)\n",
            "  133069974652352: TensorSpec(shape=(), dtype=tf.resource, name=None)\n",
            "  133069974661152: TensorSpec(shape=(), dtype=tf.resource, name=None)\n",
            "  133069974662032: TensorSpec(shape=(), dtype=tf.resource, name=None)\n",
            "  133069974657808: TensorSpec(shape=(), dtype=tf.resource, name=None)\n",
            "  133069974659920: TensorSpec(shape=(), dtype=tf.resource, name=None)\n",
            "  133069974666960: TensorSpec(shape=(), dtype=tf.resource, name=None)\n",
            "  133069974101280: TensorSpec(shape=(), dtype=tf.resource, name=None)\n",
            "  133069974102336: TensorSpec(shape=(), dtype=tf.resource, name=None)\n",
            "  133069974097232: TensorSpec(shape=(), dtype=tf.resource, name=None)\n",
            "  133069974100224: TensorSpec(shape=(), dtype=tf.resource, name=None)\n",
            "  133069974658336: TensorSpec(shape=(), dtype=tf.resource, name=None)\n",
            "  133069974106208: TensorSpec(shape=(), dtype=tf.resource, name=None)\n",
            "  133069974106560: TensorSpec(shape=(), dtype=tf.resource, name=None)\n",
            "  133069974104448: TensorSpec(shape=(), dtype=tf.resource, name=None)\n",
            "  133069974105504: TensorSpec(shape=(), dtype=tf.resource, name=None)\n",
            "  133069974102688: TensorSpec(shape=(), dtype=tf.resource, name=None)\n",
            "  133069974423504: TensorSpec(shape=(), dtype=tf.resource, name=None)\n",
            "  133069974425792: TensorSpec(shape=(), dtype=tf.resource, name=None)\n",
            "  133069974421744: TensorSpec(shape=(), dtype=tf.resource, name=None)\n",
            "  133069974425264: TensorSpec(shape=(), dtype=tf.resource, name=None)\n",
            "  133069974432480: TensorSpec(shape=(), dtype=tf.resource, name=None)\n",
            "  133069974431424: TensorSpec(shape=(), dtype=tf.resource, name=None)\n",
            "  133069974433888: TensorSpec(shape=(), dtype=tf.resource, name=None)\n",
            "  133069974430016: TensorSpec(shape=(), dtype=tf.resource, name=None)\n",
            "  133069974432656: TensorSpec(shape=(), dtype=tf.resource, name=None)\n",
            "  133069974429664: TensorSpec(shape=(), dtype=tf.resource, name=None)\n",
            "  133069973949072: TensorSpec(shape=(), dtype=tf.resource, name=None)\n",
            "  133069973947136: TensorSpec(shape=(), dtype=tf.resource, name=None)\n",
            "  133069973949424: TensorSpec(shape=(), dtype=tf.resource, name=None)\n",
            "  133069973949248: TensorSpec(shape=(), dtype=tf.resource, name=None)\n",
            "  133069973957520: TensorSpec(shape=(), dtype=tf.resource, name=None)\n",
            "  133069973955936: TensorSpec(shape=(), dtype=tf.resource, name=None)\n",
            "  133069973959280: TensorSpec(shape=(), dtype=tf.resource, name=None)\n",
            "  133069973946432: TensorSpec(shape=(), dtype=tf.resource, name=None)\n",
            "  133069973957344: TensorSpec(shape=(), dtype=tf.resource, name=None)\n",
            "  133069973962272: TensorSpec(shape=(), dtype=tf.resource, name=None)\n",
            "  133069974326432: TensorSpec(shape=(), dtype=tf.resource, name=None)\n",
            "  133069974323968: TensorSpec(shape=(), dtype=tf.resource, name=None)\n",
            "  133069974326080: TensorSpec(shape=(), dtype=tf.resource, name=None)\n",
            "  133069974326608: TensorSpec(shape=(), dtype=tf.resource, name=None)\n",
            "  133069974332240: TensorSpec(shape=(), dtype=tf.resource, name=None)\n",
            "  133069974331184: TensorSpec(shape=(), dtype=tf.resource, name=None)\n",
            "  133069974333648: TensorSpec(shape=(), dtype=tf.resource, name=None)\n",
            "  133069974329776: TensorSpec(shape=(), dtype=tf.resource, name=None)\n",
            "  133069974332416: TensorSpec(shape=(), dtype=tf.resource, name=None)\n",
            "  133069974336464: TensorSpec(shape=(), dtype=tf.resource, name=None)\n",
            "  133069974336112: TensorSpec(shape=(), dtype=tf.resource, name=None)\n",
            "  133069974336288: TensorSpec(shape=(), dtype=tf.resource, name=None)\n",
            "  133069974337520: TensorSpec(shape=(), dtype=tf.resource, name=None)\n",
            "  133069974275344: TensorSpec(shape=(), dtype=tf.resource, name=None)\n",
            "  133069974335232: TensorSpec(shape=(), dtype=tf.resource, name=None)\n",
            "  133069974282384: TensorSpec(shape=(), dtype=tf.resource, name=None)\n",
            "  133069974283440: TensorSpec(shape=(), dtype=tf.resource, name=None)\n",
            "  133069974279568: TensorSpec(shape=(), dtype=tf.resource, name=None)\n",
            "  133069974282208: TensorSpec(shape=(), dtype=tf.resource, name=None)\n",
            "  133069974289600: TensorSpec(shape=(), dtype=tf.resource, name=None)\n",
            "  133069974279920: TensorSpec(shape=(), dtype=tf.resource, name=None)\n",
            "  133069974285024: TensorSpec(shape=(), dtype=tf.resource, name=None)\n",
            "  133069974286784: TensorSpec(shape=(), dtype=tf.resource, name=None)\n",
            "  133069974288368: TensorSpec(shape=(), dtype=tf.resource, name=None)\n",
            "  133069974288720: TensorSpec(shape=(), dtype=tf.resource, name=None)\n",
            "  133069974115904: TensorSpec(shape=(), dtype=tf.resource, name=None)\n",
            "  133069974118544: TensorSpec(shape=(), dtype=tf.resource, name=None)\n",
            "  133069974114496: TensorSpec(shape=(), dtype=tf.resource, name=None)\n",
            "  133069974116432: TensorSpec(shape=(), dtype=tf.resource, name=None)\n",
            "  133069974124704: TensorSpec(shape=(), dtype=tf.resource, name=None)\n",
            "  133069974123648: TensorSpec(shape=(), dtype=tf.resource, name=None)\n",
            "  133069974126112: TensorSpec(shape=(), dtype=tf.resource, name=None)\n",
            "  133069974112560: TensorSpec(shape=(), dtype=tf.resource, name=None)\n",
            "  133069974124880: TensorSpec(shape=(), dtype=tf.resource, name=None)\n",
            "  133069974335408: TensorSpec(shape=(), dtype=tf.resource, name=None)\n",
            "  133069923326032: TensorSpec(shape=(), dtype=tf.resource, name=None)\n",
            "  133069923327088: TensorSpec(shape=(), dtype=tf.resource, name=None)\n",
            "  133069923323216: TensorSpec(shape=(), dtype=tf.resource, name=None)\n",
            "  133069923325856: TensorSpec(shape=(), dtype=tf.resource, name=None)\n",
            "  133069923333072: TensorSpec(shape=(), dtype=tf.resource, name=None)\n",
            "  133069923332016: TensorSpec(shape=(), dtype=tf.resource, name=None)\n",
            "  133069923334656: TensorSpec(shape=(), dtype=tf.resource, name=None)\n",
            "  133069923323568: TensorSpec(shape=(), dtype=tf.resource, name=None)\n",
            "  133069923332544: TensorSpec(shape=(), dtype=tf.resource, name=None)\n",
            "  133069923328672: TensorSpec(shape=(), dtype=tf.resource, name=None)\n",
            "  133069923177520: TensorSpec(shape=(), dtype=tf.resource, name=None)\n",
            "  133069923178576: TensorSpec(shape=(), dtype=tf.resource, name=None)\n",
            "  133069923174704: TensorSpec(shape=(), dtype=tf.resource, name=None)\n",
            "  133069923177344: TensorSpec(shape=(), dtype=tf.resource, name=None)\n",
            "  133069923184736: TensorSpec(shape=(), dtype=tf.resource, name=None)\n",
            "  133069923183680: TensorSpec(shape=(), dtype=tf.resource, name=None)\n",
            "  133069923186144: TensorSpec(shape=(), dtype=tf.resource, name=None)\n",
            "  133069923182272: TensorSpec(shape=(), dtype=tf.resource, name=None)\n",
            "  133069923184912: TensorSpec(shape=(), dtype=tf.resource, name=None)\n",
            "  133069923182624: TensorSpec(shape=(), dtype=tf.resource, name=None)\n",
            "  133069922994832: TensorSpec(shape=(), dtype=tf.resource, name=None)\n",
            "  133069922997296: TensorSpec(shape=(), dtype=tf.resource, name=None)\n",
            "  133069922992720: TensorSpec(shape=(), dtype=tf.resource, name=None)\n",
            "  133069922996240: TensorSpec(shape=(), dtype=tf.resource, name=None)\n",
            "  133069923003456: TensorSpec(shape=(), dtype=tf.resource, name=None)\n",
            "  133069923002400: TensorSpec(shape=(), dtype=tf.resource, name=None)\n",
            "  133069923004864: TensorSpec(shape=(), dtype=tf.resource, name=None)\n",
            "  133069923000992: TensorSpec(shape=(), dtype=tf.resource, name=None)\n",
            "  133069923003632: TensorSpec(shape=(), dtype=tf.resource, name=None)\n",
            "  133069923000640: TensorSpec(shape=(), dtype=tf.resource, name=None)\n",
            "  133069922535024: TensorSpec(shape=(), dtype=tf.resource, name=None)\n",
            "  133069922533616: TensorSpec(shape=(), dtype=tf.resource, name=None)\n",
            "  133069923007504: TensorSpec(shape=(), dtype=tf.resource, name=None)\n",
            "  133069922535200: TensorSpec(shape=(), dtype=tf.resource, name=None)\n",
            "  133069922542064: TensorSpec(shape=(), dtype=tf.resource, name=None)\n",
            "  133069922541008: TensorSpec(shape=(), dtype=tf.resource, name=None)\n",
            "  133069922543648: TensorSpec(shape=(), dtype=tf.resource, name=None)\n",
            "  133069922535376: TensorSpec(shape=(), dtype=tf.resource, name=None)\n",
            "  133069922541536: TensorSpec(shape=(), dtype=tf.resource, name=None)\n",
            "  133069922546640: TensorSpec(shape=(), dtype=tf.resource, name=None)\n",
            "  133069922539952: TensorSpec(shape=(), dtype=tf.resource, name=None)\n",
            "  133069922545408: TensorSpec(shape=(), dtype=tf.resource, name=None)\n",
            "  133069922547696: TensorSpec(shape=(), dtype=tf.resource, name=None)\n",
            "  133069922747488: TensorSpec(shape=(), dtype=tf.resource, name=None)\n",
            "  133069923187904: TensorSpec(shape=(), dtype=tf.resource, name=None)\n",
            "  133069922754528: TensorSpec(shape=(), dtype=tf.resource, name=None)\n",
            "  133069922755584: TensorSpec(shape=(), dtype=tf.resource, name=None)\n",
            "  133069922751712: TensorSpec(shape=(), dtype=tf.resource, name=None)\n",
            "  133069922754352: TensorSpec(shape=(), dtype=tf.resource, name=None)\n",
            "  133069922761568: TensorSpec(shape=(), dtype=tf.resource, name=None)\n",
            "  133069922758048: TensorSpec(shape=(), dtype=tf.resource, name=None)\n",
            "  133069922757696: TensorSpec(shape=(), dtype=tf.resource, name=None)\n",
            "  133069922759280: TensorSpec(shape=(), dtype=tf.resource, name=None)\n",
            "  133069922761392: TensorSpec(shape=(), dtype=tf.resource, name=None)\n",
            "  133069922757168: TensorSpec(shape=(), dtype=tf.resource, name=None)\n",
            "  133069922606016: TensorSpec(shape=(), dtype=tf.resource, name=None)\n",
            "  133069922607072: TensorSpec(shape=(), dtype=tf.resource, name=None)\n",
            "  133069922603200: TensorSpec(shape=(), dtype=tf.resource, name=None)\n",
            "  133069922605840: TensorSpec(shape=(), dtype=tf.resource, name=None)\n",
            "  133069922613232: TensorSpec(shape=(), dtype=tf.resource, name=None)\n",
            "  133069922612176: TensorSpec(shape=(), dtype=tf.resource, name=None)\n",
            "  133069922614640: TensorSpec(shape=(), dtype=tf.resource, name=None)\n",
            "  133069922610768: TensorSpec(shape=(), dtype=tf.resource, name=None)\n",
            "  133069922613408: TensorSpec(shape=(), dtype=tf.resource, name=None)\n",
            "  133069922611120: TensorSpec(shape=(), dtype=tf.resource, name=None)\n",
            "  133069924570864: TensorSpec(shape=(), dtype=tf.resource, name=None)\n",
            "  133069924573504: TensorSpec(shape=(), dtype=tf.resource, name=None)\n",
            "  133069924569456: TensorSpec(shape=(), dtype=tf.resource, name=None)\n",
            "  133069924571392: TensorSpec(shape=(), dtype=tf.resource, name=None)\n",
            "  133069924579664: TensorSpec(shape=(), dtype=tf.resource, name=None)\n",
            "  133069924578608: TensorSpec(shape=(), dtype=tf.resource, name=None)\n",
            "  133069924581072: TensorSpec(shape=(), dtype=tf.resource, name=None)\n",
            "  133069924567520: TensorSpec(shape=(), dtype=tf.resource, name=None)\n",
            "  133069924579840: TensorSpec(shape=(), dtype=tf.resource, name=None)\n",
            "  133069922757344: TensorSpec(shape=(), dtype=tf.resource, name=None)\n",
            "  133069924602752: TensorSpec(shape=(), dtype=tf.resource, name=None)\n",
            "  133069924603808: TensorSpec(shape=(), dtype=tf.resource, name=None)\n",
            "  133069924599936: TensorSpec(shape=(), dtype=tf.resource, name=None)\n",
            "  133069924602576: TensorSpec(shape=(), dtype=tf.resource, name=None)\n",
            "  133069924609792: TensorSpec(shape=(), dtype=tf.resource, name=None)\n",
            "  133069924608736: TensorSpec(shape=(), dtype=tf.resource, name=None)\n",
            "  133069924611376: TensorSpec(shape=(), dtype=tf.resource, name=None)\n",
            "  133069924600288: TensorSpec(shape=(), dtype=tf.resource, name=None)\n",
            "  133069924609264: TensorSpec(shape=(), dtype=tf.resource, name=None)\n",
            "  133069924605392: TensorSpec(shape=(), dtype=tf.resource, name=None)\n",
            "  133069924945760: TensorSpec(shape=(), dtype=tf.resource, name=None)\n",
            "  133069924943296: TensorSpec(shape=(), dtype=tf.resource, name=None)\n",
            "  133069924942416: TensorSpec(shape=(), dtype=tf.resource, name=None)\n",
            "  133069924945936: TensorSpec(shape=(), dtype=tf.resource, name=None)\n",
            "  133069924952976: TensorSpec(shape=(), dtype=tf.resource, name=None)\n",
            "  133069924951920: TensorSpec(shape=(), dtype=tf.resource, name=None)\n",
            "  133069924954384: TensorSpec(shape=(), dtype=tf.resource, name=None)\n",
            "  133069924950512: TensorSpec(shape=(), dtype=tf.resource, name=None)\n",
            "  133069924953152: TensorSpec(shape=(), dtype=tf.resource, name=None)\n",
            "  133069924957200: TensorSpec(shape=(), dtype=tf.resource, name=None)\n",
            "  133069924631648: TensorSpec(shape=(), dtype=tf.resource, name=None)\n",
            "  133069924631296: TensorSpec(shape=(), dtype=tf.resource, name=None)\n",
            "  133069924633760: TensorSpec(shape=(), dtype=tf.resource, name=None)\n",
            "  133069924633408: TensorSpec(shape=(), dtype=tf.resource, name=None)\n",
            "  133069924640624: TensorSpec(shape=(), dtype=tf.resource, name=None)\n",
            "  133069924639568: TensorSpec(shape=(), dtype=tf.resource, name=None)\n",
            "  133069924642032: TensorSpec(shape=(), dtype=tf.resource, name=None)\n",
            "  133069924638160: TensorSpec(shape=(), dtype=tf.resource, name=None)\n",
            "  133069924640800: TensorSpec(shape=(), dtype=tf.resource, name=None)\n",
            "  133069924637808: TensorSpec(shape=(), dtype=tf.resource, name=None)\n",
            "  133069925304096: TensorSpec(shape=(), dtype=tf.resource, name=None)\n",
            "  133069925302688: TensorSpec(shape=(), dtype=tf.resource, name=None)\n",
            "  133069924646080: TensorSpec(shape=(), dtype=tf.resource, name=None)\n",
            "  133069925304272: TensorSpec(shape=(), dtype=tf.resource, name=None)\n",
            "  133069925311136: TensorSpec(shape=(), dtype=tf.resource, name=None)\n",
            "  133069925310080: TensorSpec(shape=(), dtype=tf.resource, name=None)\n",
            "  133069925312720: TensorSpec(shape=(), dtype=tf.resource, name=None)\n",
            "  133069925304448: TensorSpec(shape=(), dtype=tf.resource, name=None)\n",
            "  133069925310608: TensorSpec(shape=(), dtype=tf.resource, name=None)\n",
            "  133069925315712: TensorSpec(shape=(), dtype=tf.resource, name=None)\n",
            "  133069925309024: TensorSpec(shape=(), dtype=tf.resource, name=None)\n",
            "  133069925314480: TensorSpec(shape=(), dtype=tf.resource, name=None)\n",
            "  133069925316768: TensorSpec(shape=(), dtype=tf.resource, name=None)\n",
            "  133069925238032: TensorSpec(shape=(), dtype=tf.resource, name=None)\n",
            "  133069924956144: TensorSpec(shape=(), dtype=tf.resource, name=None)\n",
            "  133069925243840: TensorSpec(shape=(), dtype=tf.resource, name=None)\n",
            "  133069925244896: TensorSpec(shape=(), dtype=tf.resource, name=None)\n",
            "  133069925241024: TensorSpec(shape=(), dtype=tf.resource, name=None)\n",
            "  133069925243664: TensorSpec(shape=(), dtype=tf.resource, name=None)\n",
            "  133069925252288: TensorSpec(shape=(), dtype=tf.resource, name=None)\n",
            "  133069925248944: TensorSpec(shape=(), dtype=tf.resource, name=None)\n",
            "  133069925251056: TensorSpec(shape=(), dtype=tf.resource, name=None)\n",
            "  133069924993152: TensorSpec(shape=(), dtype=tf.resource, name=None)\n"
          ]
        },
        {
          "output_type": "stream",
          "name": "stderr",
          "text": [
            "/usr/local/lib/python3.10/dist-packages/tensorflow/lite/python/convert.py:983: UserWarning: Statistics for quantized inputs were expected, but not specified; continuing anyway.\n",
            "  warnings.warn(\n"
          ]
        }
      ],
      "source": [
        "# A generator that provides a representative dataset\n",
        "def representative_data_gen():\n",
        "  dataset_list = tf.data.Dataset.list_files(PATH + '/train/*/*')\n",
        "  for i in range(100):\n",
        "    image = next(iter(dataset_list))\n",
        "    image = tf.io.read_file(image)\n",
        "    image = tf.io.decode_jpeg(image, channels=3)\n",
        "    image = tf.image.resize(image, [IMAGE_SIZE, IMAGE_SIZE])\n",
        "    image = tf.cast(image / 255., tf.float32)\n",
        "    image = tf.expand_dims(image, 0)\n",
        "    yield [image]\n",
        "\n",
        "converter = tf.lite.TFLiteConverter.from_keras_model(model)\n",
        "# This enables quantization\n",
        "converter.optimizations = [tf.lite.Optimize.DEFAULT]\n",
        "# This sets the representative dataset for quantization\n",
        "converter.representative_dataset = representative_data_gen\n",
        "# This ensures that if any ops can't be quantized, the converter throws an error\n",
        "converter.target_spec.supported_ops = [tf.lite.OpsSet.TFLITE_BUILTINS_INT8]\n",
        "# For full integer quantization, though supported types defaults to int8 only, we explicitly declare it for clarity.\n",
        "converter.target_spec.supported_types = [tf.int8]\n",
        "# These set the input and output tensors to uint8 (added in r2.3)\n",
        "converter.inference_input_type = tf.uint8\n",
        "converter.inference_output_type = tf.uint8\n",
        "tflite_model = converter.convert()\n",
        "\n",
        "with open('mobilenet_v2_1.0_224_quant.tflite', 'wb') as f:\n",
        "  f.write(tflite_model)"
      ]
    },
    {
      "cell_type": "markdown",
      "metadata": {
        "id": "RMLYBDe_e849"
      },
      "source": [
        "### Compare the accuracy\n"
      ]
    },
    {
      "cell_type": "markdown",
      "metadata": {
        "id": "SFgbRx_Twd-P"
      },
      "source": [
        "Jadi, sekarang kami memiliki model TensorFlow Lite yang terkuantisasi sepenuhnya. Untuk memastikan konversi berjalan dengan baik, mari kita evaluasi model mentah dan model TensorFlow Lite.\n",
        "\n",
        "Pertama periksa keakuratan model mentah:"
      ]
    },
    {
      "cell_type": "code",
      "execution_count": 52,
      "metadata": {
        "id": "RkQ2IlAWfC5O",
        "colab": {
          "base_uri": "https://localhost:8080/"
        },
        "outputId": "19627ea0-7f3e-4f73-e4a8-3eaa8aae3a0b"
      },
      "outputs": [
        {
          "output_type": "stream",
          "name": "stdout",
          "text": [
            "Raw model accuracy: 95.312%\n"
          ]
        }
      ],
      "source": [
        "batch_images, batch_labels = next(val_generator)\n",
        "\n",
        "logits = model(batch_images)\n",
        "prediction = np.argmax(logits, axis=1)\n",
        "truth = np.argmax(batch_labels, axis=1)\n",
        "\n",
        "keras_accuracy = tf.keras.metrics.Accuracy()\n",
        "keras_accuracy(prediction, truth)\n",
        "\n",
        "print(\"Raw model accuracy: {:.3%}\".format(keras_accuracy.result()))"
      ]
    },
    {
      "cell_type": "markdown",
      "metadata": {
        "id": "Hjx3dgZNwmKN"
      },
      "source": [
        "Sekarang mari kita periksa keakuratan file `.tflite`, menggunakan kumpulan data yang sama.\n",
        "\n",
        "Namun, tidak ada API yang mudah digunakan untuk mengevaluasi keakuratan model TensorFlow Lite, sehingga kode ini menjalankan beberapa inferensi dan membandingkan prediksi dengan kebenaran dasar:"
      ]
    },
    {
      "cell_type": "code",
      "execution_count": 53,
      "metadata": {
        "id": "iBs0O7q_wlCN",
        "colab": {
          "base_uri": "https://localhost:8080/"
        },
        "outputId": "c7d2637b-d0d6-4972-99a3-f43eb0e1c2e7"
      },
      "outputs": [
        {
          "output_type": "stream",
          "name": "stdout",
          "text": [
            "Quant TF Lite accuracy: 93.750%\n"
          ]
        }
      ],
      "source": [
        "def set_input_tensor(interpreter, input):\n",
        "  input_details = interpreter.get_input_details()[0]\n",
        "  tensor_index = input_details['index']\n",
        "  input_tensor = interpreter.tensor(tensor_index)()[0]\n",
        "  # Inputs for the TFLite model must be uint8, so we quantize our input data.\n",
        "  # NOTE: This step is necessary only because we're receiving input data from\n",
        "  # ImageDataGenerator, which rescaled all image data to float [0,1]. When using\n",
        "  # bitmap inputs, they're already uint8 [0,255] so this can be replaced with:\n",
        "  #   input_tensor[:, :] = input\n",
        "  scale, zero_point = input_details['quantization']\n",
        "  input_tensor[:, :] = np.uint8(input / scale + zero_point)\n",
        "\n",
        "def classify_image(interpreter, input):\n",
        "  set_input_tensor(interpreter, input)\n",
        "  interpreter.invoke()\n",
        "  output_details = interpreter.get_output_details()[0]\n",
        "  output = interpreter.get_tensor(output_details['index'])\n",
        "  # Outputs from the TFLite model are uint8, so we dequantize the results:\n",
        "  scale, zero_point = output_details['quantization']\n",
        "  output = scale * (output - zero_point)\n",
        "  top_1 = np.argmax(output)\n",
        "  return top_1\n",
        "\n",
        "interpreter = tf.lite.Interpreter('mobilenet_v2_1.0_224_quant.tflite')\n",
        "interpreter.allocate_tensors()\n",
        "\n",
        "# Collect all inference predictions in a list\n",
        "batch_prediction = []\n",
        "batch_truth = np.argmax(batch_labels, axis=1)\n",
        "\n",
        "for i in range(len(batch_images)):\n",
        "  prediction = classify_image(interpreter, batch_images[i])\n",
        "  batch_prediction.append(prediction)\n",
        "\n",
        "# Compare all predictions to the ground truth\n",
        "tflite_accuracy = tf.keras.metrics.Accuracy()\n",
        "tflite_accuracy(batch_prediction, batch_truth)\n",
        "print(\"Quant TF Lite accuracy: {:.3%}\".format(tflite_accuracy.result()))\n"
      ]
    },
    {
      "cell_type": "markdown",
      "metadata": {
        "id": "WfM4kAPiPg9q"
      },
      "source": [
        "Anda mungkin melihat beberapa, namun semoga tidak terjadi penurunan akurasi yang terlalu besar antara model mentah dan model TensorFlow Lite. Namun sekali lagi, hasil ini tidak cocok untuk penerapan produksi."
      ]
    },
    {
      "cell_type": "markdown",
      "metadata": {
        "id": "ZmiHICezwXZq"
      },
      "source": [
        "## Compile for the Edge TPU\n"
      ]
    },
    {
      "cell_type": "markdown",
      "metadata": {
        "id": "DhOzAdzF3Dyk"
      },
      "source": [
        "Terakhir, kami siap mengkompilasi model untuk Edge TPU.\n",
        "\n",
        "Unduh terlebih dahulu [Edge TPU Compiler](https://coral.ai/docs/edgetpu/compiler/):"
      ]
    },
    {
      "cell_type": "code",
      "execution_count": 54,
      "metadata": {
        "id": "p6ZpWgrk21Ad",
        "colab": {
          "base_uri": "https://localhost:8080/"
        },
        "outputId": "f2fdfa6c-0db3-4d99-e4a1-38054334d903"
      },
      "outputs": [
        {
          "output_type": "stream",
          "name": "stdout",
          "text": [
            "  % Total    % Received % Xferd  Average Speed   Time    Time     Time  Current\n",
            "                                 Dload  Upload   Total   Spent    Left  Speed\n",
            "\r  0     0    0     0    0     0      0      0 --:--:-- --:--:-- --:--:--     0Warning: apt-key is deprecated. Manage keyring files in trusted.gpg.d instead (see apt-key(8)).\n",
            "\r100  1022  100  1022    0     0   8085      0 --:--:-- --:--:-- --:--:--  8111\n",
            "OK\n",
            "deb https://packages.cloud.google.com/apt coral-edgetpu-stable main\n",
            "Hit:1 https://cloud.r-project.org/bin/linux/ubuntu jammy-cran40/ InRelease\n",
            "Hit:2 https://packages.cloud.google.com/apt coral-edgetpu-stable InRelease\n",
            "Hit:3 https://developer.download.nvidia.com/compute/cuda/repos/ubuntu2204/x86_64  InRelease\n",
            "Hit:4 http://security.ubuntu.com/ubuntu jammy-security InRelease\n",
            "Hit:5 https://r2u.stat.illinois.edu/ubuntu jammy InRelease\n",
            "Hit:6 http://archive.ubuntu.com/ubuntu jammy InRelease\n",
            "Hit:7 http://archive.ubuntu.com/ubuntu jammy-updates InRelease\n",
            "Hit:8 http://archive.ubuntu.com/ubuntu jammy-backports InRelease\n",
            "Hit:9 https://ppa.launchpadcontent.net/deadsnakes/ppa/ubuntu jammy InRelease\n",
            "Hit:10 https://ppa.launchpadcontent.net/graphics-drivers/ppa/ubuntu jammy InRelease\n",
            "Hit:11 https://ppa.launchpadcontent.net/ubuntugis/ppa/ubuntu jammy InRelease\n",
            "Reading package lists... Done\n",
            "W: https://packages.cloud.google.com/apt/dists/coral-edgetpu-stable/InRelease: Key is stored in legacy trusted.gpg keyring (/etc/apt/trusted.gpg), see the DEPRECATION section in apt-key(8) for details.\n",
            "W: Skipping acquire of configured file 'main/source/Sources' as repository 'https://r2u.stat.illinois.edu/ubuntu jammy InRelease' does not seem to provide it (sources.list entry misspelt?)\n",
            "Reading package lists... Done\n",
            "Building dependency tree... Done\n",
            "Reading state information... Done\n",
            "edgetpu-compiler is already the newest version (16.0).\n",
            "0 upgraded, 0 newly installed, 0 to remove and 55 not upgraded.\n"
          ]
        }
      ],
      "source": [
        "! curl https://packages.cloud.google.com/apt/doc/apt-key.gpg | sudo apt-key add -\n",
        "\n",
        "! echo \"deb https://packages.cloud.google.com/apt coral-edgetpu-stable main\" | sudo tee /etc/apt/sources.list.d/coral-edgetpu.list\n",
        "\n",
        "! sudo apt-get update\n",
        "\n",
        "! sudo apt-get install edgetpu-compiler"
      ]
    },
    {
      "cell_type": "markdown",
      "metadata": {
        "id": "mtPcYiER3Ymp"
      },
      "source": [
        "Then compile the model:"
      ]
    },
    {
      "cell_type": "code",
      "execution_count": 55,
      "metadata": {
        "id": "joxrIB0I3cdi",
        "colab": {
          "base_uri": "https://localhost:8080/"
        },
        "outputId": "d30fd6c5-ab17-4751-a558-d3ab40a31c6a"
      },
      "outputs": [
        {
          "output_type": "stream",
          "name": "stdout",
          "text": [
            "Edge TPU Compiler version 16.0.384591198\n",
            "Started a compilation timeout timer of 180 seconds.\n",
            "\n",
            "Model compiled successfully in 1555 ms.\n",
            "\n",
            "Input model: mobilenet_v2_1.0_224_quant.tflite\n",
            "Input size: 2.94MiB\n",
            "Output model: mobilenet_v2_1.0_224_quant_edgetpu.tflite\n",
            "Output size: 3.12MiB\n",
            "On-chip memory used for caching model parameters: 3.33MiB\n",
            "On-chip memory remaining for caching model parameters: 4.36MiB\n",
            "Off-chip memory used for streaming uncached model parameters: 0.00B\n",
            "Number of Edge TPU subgraphs: 1\n",
            "Total number of operations: 72\n",
            "Operation log: mobilenet_v2_1.0_224_quant_edgetpu.log\n",
            "See the operation log file for individual operation details.\n",
            "Compilation child process completed within timeout period.\n",
            "Compilation succeeded! \n"
          ]
        }
      ],
      "source": [
        "! edgetpu_compiler mobilenet_v2_1.0_224_quant.tflite"
      ]
    },
    {
      "cell_type": "markdown",
      "metadata": {
        "id": "7R8JMQc1MMm5"
      },
      "source": [
        "Itu saja.\n",
        "\n",
        "Model yang dikompilasi menggunakan nama file yang sama tetapi dengan tambahan \"_edgetpu\" di akhir."
      ]
    },
    {
      "cell_type": "markdown",
      "metadata": {
        "id": "Oi9-Voc8A7VK"
      },
      "source": [
        "## Download the model"
      ]
    },
    {
      "cell_type": "markdown",
      "metadata": {
        "id": "XiugMm-jBbWl"
      },
      "source": [
        "Anda dapat mengunduh file model dan label yang dikonversi dari Colab seperti ini:"
      ]
    },
    {
      "cell_type": "code",
      "execution_count": 56,
      "metadata": {
        "id": "x47uW_lI1DoV",
        "colab": {
          "base_uri": "https://localhost:8080/",
          "height": 17
        },
        "outputId": "54f4d5e9-d8a2-4828-f659-dacdd39ea5ae"
      },
      "outputs": [
        {
          "output_type": "display_data",
          "data": {
            "text/plain": [
              "<IPython.core.display.Javascript object>"
            ],
            "application/javascript": [
              "\n",
              "    async function download(id, filename, size) {\n",
              "      if (!google.colab.kernel.accessAllowed) {\n",
              "        return;\n",
              "      }\n",
              "      const div = document.createElement('div');\n",
              "      const label = document.createElement('label');\n",
              "      label.textContent = `Downloading \"${filename}\": `;\n",
              "      div.appendChild(label);\n",
              "      const progress = document.createElement('progress');\n",
              "      progress.max = size;\n",
              "      div.appendChild(progress);\n",
              "      document.body.appendChild(div);\n",
              "\n",
              "      const buffers = [];\n",
              "      let downloaded = 0;\n",
              "\n",
              "      const channel = await google.colab.kernel.comms.open(id);\n",
              "      // Send a message to notify the kernel that we're ready.\n",
              "      channel.send({})\n",
              "\n",
              "      for await (const message of channel.messages) {\n",
              "        // Send a message to notify the kernel that we're ready.\n",
              "        channel.send({})\n",
              "        if (message.buffers) {\n",
              "          for (const buffer of message.buffers) {\n",
              "            buffers.push(buffer);\n",
              "            downloaded += buffer.byteLength;\n",
              "            progress.value = downloaded;\n",
              "          }\n",
              "        }\n",
              "      }\n",
              "      const blob = new Blob(buffers, {type: 'application/binary'});\n",
              "      const a = document.createElement('a');\n",
              "      a.href = window.URL.createObjectURL(blob);\n",
              "      a.download = filename;\n",
              "      div.appendChild(a);\n",
              "      a.click();\n",
              "      div.remove();\n",
              "    }\n",
              "  "
            ]
          },
          "metadata": {}
        },
        {
          "output_type": "display_data",
          "data": {
            "text/plain": [
              "<IPython.core.display.Javascript object>"
            ],
            "application/javascript": [
              "download(\"download_bf93a748-0060-469d-81c4-84bb667429d5\", \"mobilenet_v2_1.0_224_quant_edgetpu.tflite\", 3269248)"
            ]
          },
          "metadata": {}
        },
        {
          "output_type": "display_data",
          "data": {
            "text/plain": [
              "<IPython.core.display.Javascript object>"
            ],
            "application/javascript": [
              "\n",
              "    async function download(id, filename, size) {\n",
              "      if (!google.colab.kernel.accessAllowed) {\n",
              "        return;\n",
              "      }\n",
              "      const div = document.createElement('div');\n",
              "      const label = document.createElement('label');\n",
              "      label.textContent = `Downloading \"${filename}\": `;\n",
              "      div.appendChild(label);\n",
              "      const progress = document.createElement('progress');\n",
              "      progress.max = size;\n",
              "      div.appendChild(progress);\n",
              "      document.body.appendChild(div);\n",
              "\n",
              "      const buffers = [];\n",
              "      let downloaded = 0;\n",
              "\n",
              "      const channel = await google.colab.kernel.comms.open(id);\n",
              "      // Send a message to notify the kernel that we're ready.\n",
              "      channel.send({})\n",
              "\n",
              "      for await (const message of channel.messages) {\n",
              "        // Send a message to notify the kernel that we're ready.\n",
              "        channel.send({})\n",
              "        if (message.buffers) {\n",
              "          for (const buffer of message.buffers) {\n",
              "            buffers.push(buffer);\n",
              "            downloaded += buffer.byteLength;\n",
              "            progress.value = downloaded;\n",
              "          }\n",
              "        }\n",
              "      }\n",
              "      const blob = new Blob(buffers, {type: 'application/binary'});\n",
              "      const a = document.createElement('a');\n",
              "      a.href = window.URL.createObjectURL(blob);\n",
              "      a.download = filename;\n",
              "      div.appendChild(a);\n",
              "      a.click();\n",
              "      div.remove();\n",
              "    }\n",
              "  "
            ]
          },
          "metadata": {}
        },
        {
          "output_type": "display_data",
          "data": {
            "text/plain": [
              "<IPython.core.display.Javascript object>"
            ],
            "application/javascript": [
              "download(\"download_f6597d71-f8f2-41a6-bf1a-87fa8f7d752f\", \"catdogs_labels.txt\", 9)"
            ]
          },
          "metadata": {}
        }
      ],
      "source": [
        "from google.colab import files\n",
        "\n",
        "files.download('mobilenet_v2_1.0_224_quant_edgetpu.tflite')\n",
        "files.download('catdogs_labels.txt')"
      ]
    },
    {
      "cell_type": "markdown",
      "metadata": {
        "id": "_qOCP3mXXvsm"
      },
      "source": [
        "Jika Anda mendapatkan pesan kesalahan \"Gagal mengambil\" di sini, mungkin karena file belum selesai disimpan. Jadi tunggu sebentar dan coba lagi.\n",
        "\n",
        "Perhatikan juga popup browser yang mungkin memerlukan persetujuan untuk mendownload file."
      ]
    },
    {
      "cell_type": "markdown",
      "metadata": {
        "id": "_TZTwG7nhm0C"
      },
      "source": [
        "## Run the model on the Edge TPU\n",
        "\n",
        "\n"
      ]
    },
    {
      "cell_type": "markdown",
      "metadata": {
        "id": "RwywT4ZpQjLf"
      },
      "source": [
        "Anda sekarang dapat menjalankan model di perangkat Coral Anda dengan akselerasi di Edge TPU.\n",
        "\n",
        "Untuk memulai, coba gunakan model `.tflite` Anda dengan [kode ini untuk klasifikasi gambar dengan TensorFlow Lite API](https://github.com/google-coral/tflite/tree/master/python/examples/classification) .\n",
        "\n",
        "Cukup ikuti petunjuk di halaman tersebut untuk menyiapkan perangkat Anda, salin file `mobilenet_v2_1.0_224_quant_edgetpu.tflite` dan `flower_labels.txt` ke Coral Dev Board atau perangkat Anda dengan Coral Accelerator, dan berikan foto bunga seperti ini:\n",
        "\n",
        "```\n",
        "python3 classify_image.py \\\n",
        "  --model mobilenet_v2_1.0_224_quant_edgetpu.tflite \\\n",
        "  --label bunga_labels.txt \\\n",
        "  --masukan bunga.jpg\n",
        "```\n",
        "\n",
        "Buku catatan ini mendapat referensi dari [coral.ai/examples](https://coral.ai/examples/#code-examples/). Periksa lebih banyak contoh di sana"
      ]
    }
  ]
}